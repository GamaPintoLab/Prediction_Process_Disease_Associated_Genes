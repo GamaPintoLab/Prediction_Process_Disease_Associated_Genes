{
 "cells": [
  {
   "cell_type": "code",
   "execution_count": 1,
   "metadata": {},
   "outputs": [],
   "source": [
    "import pandas as pd\n",
    "import numpy as np \n",
    "from igraph import Graph\n",
    "import networkx as nx\n",
    "from ast import literal_eval\n",
    "import importlib\n",
    "import steiner_tree"
   ]
  },
  {
   "cell_type": "code",
   "execution_count": 2,
   "metadata": {},
   "outputs": [],
   "source": [
    "graph = Graph.Read_GML('../../data/processed/graph_apid_huri')\n",
    "disgenet_protein_index = pd.read_csv('../../data/processed/disgenet_proteins_indexes_apid_huri.csv')\n",
    "adj_matrix_apid_huri = np.load(\"../../data/processed/adjacency_matrix_apid_huri.npy\")\n",
    "ids = graph.vs['name']"
   ]
  },
  {
   "cell_type": "code",
   "execution_count": 3,
   "metadata": {},
   "outputs": [],
   "source": [
    "disgenet_protein_index['protein_index'] = disgenet_protein_index['protein_index'].apply(literal_eval)\n",
    "disgenet_protein_index['proteins_ids'] = disgenet_protein_index['proteins_ids'].apply(literal_eval)"
   ]
  },
  {
   "cell_type": "code",
   "execution_count": 12,
   "metadata": {},
   "outputs": [
    {
     "data": {
      "text/html": [
       "<div>\n",
       "<style scoped>\n",
       "    .dataframe tbody tr th:only-of-type {\n",
       "        vertical-align: middle;\n",
       "    }\n",
       "\n",
       "    .dataframe tbody tr th {\n",
       "        vertical-align: top;\n",
       "    }\n",
       "\n",
       "    .dataframe thead th {\n",
       "        text-align: right;\n",
       "    }\n",
       "</style>\n",
       "<table border=\"1\" class=\"dataframe\">\n",
       "  <thead>\n",
       "    <tr style=\"text-align: right;\">\n",
       "      <th></th>\n",
       "      <th>process</th>\n",
       "      <th>proteins_ids</th>\n",
       "      <th>protein_index</th>\n",
       "      <th>n_proteins</th>\n",
       "    </tr>\n",
       "  </thead>\n",
       "  <tbody>\n",
       "    <tr>\n",
       "      <th>180</th>\n",
       "      <td>C0274861</td>\n",
       "      <td>[AQP9, CD44, CRP, ERCC1, ERCC3, ERCC4, GOLGA4,...</td>\n",
       "      <td>[818, 2338, 3280, 4612, 4614, 4615, 5817, 3476...</td>\n",
       "      <td>60</td>\n",
       "    </tr>\n",
       "    <tr>\n",
       "      <th>286</th>\n",
       "      <td>C4277690</td>\n",
       "      <td>[ACVR2B, BBS1, BBS2, BBS4, CFTR, CRX, NKX2-5, ...</td>\n",
       "      <td>[218, 1324, 1327, 1328, 2665, 3288, 9662, 3981...</td>\n",
       "      <td>105</td>\n",
       "    </tr>\n",
       "    <tr>\n",
       "      <th>161</th>\n",
       "      <td>C0234535</td>\n",
       "      <td>[ABAT, ACAT1, ACHE, ADCYAP1, ADORA2A, ADRA1B, ...</td>\n",
       "      <td>[25, 125, 139, 282, 327, 334, 396, 481, 544, 7...</td>\n",
       "      <td>101</td>\n",
       "    </tr>\n",
       "    <tr>\n",
       "      <th>164</th>\n",
       "      <td>C0235874</td>\n",
       "      <td>[ABCF1, CRYBG1, AMFR, APEX1, APOE, KLK3, ABCC6...</td>\n",
       "      <td>[63, 3300, 562, 756, 788, 7574, 55, 844, 502, ...</td>\n",
       "      <td>153</td>\n",
       "    </tr>\n",
       "    <tr>\n",
       "      <th>124</th>\n",
       "      <td>C0038356</td>\n",
       "      <td>[ACTC1, PLIN2, ADRB1, ADRB2, AFP, AGTR2, AHR, ...</td>\n",
       "      <td>[190, 10991, 339, 340, 362, 399, 411, 484, 490...</td>\n",
       "      <td>289</td>\n",
       "    </tr>\n",
       "    <tr>\n",
       "      <th>249</th>\n",
       "      <td>C1266044</td>\n",
       "      <td>[ACHE, ACY1, ALAD, ALDH1A1, ALK, ALOX5, ALOX12...</td>\n",
       "      <td>[139, 220, 481, 488, 521, 536, 533, 700, 742, ...</td>\n",
       "      <td>123</td>\n",
       "    </tr>\n",
       "    <tr>\n",
       "      <th>199</th>\n",
       "      <td>C0422852</td>\n",
       "      <td>[ABAT, ACAT1, ACHE, ADCYAP1, ADORA2A, ADRA1B, ...</td>\n",
       "      <td>[25, 125, 139, 282, 327, 334, 396, 481, 544, 7...</td>\n",
       "      <td>101</td>\n",
       "    </tr>\n",
       "    <tr>\n",
       "      <th>299</th>\n",
       "      <td>C4721507</td>\n",
       "      <td>[ABCA3, ACTA2, PARP1, AGT, AREG, BMP7, CALCA, ...</td>\n",
       "      <td>[32, 187, 10365, 396, 827, 1464, 1898, 2013, 2...</td>\n",
       "      <td>70</td>\n",
       "    </tr>\n",
       "    <tr>\n",
       "      <th>130</th>\n",
       "      <td>C0041696</td>\n",
       "      <td>[ACP1, ADCY5, ADCY7, ADORA2A, ADRA1A, ALB, ANP...</td>\n",
       "      <td>[162, 277, 279, 327, 333, 484, 689, 742, 805, ...</td>\n",
       "      <td>243</td>\n",
       "    </tr>\n",
       "    <tr>\n",
       "      <th>242</th>\n",
       "      <td>C1136382</td>\n",
       "      <td>[ADARB1, ATF1, AZGP1, BAX, BCL2, CAMK2D, RUNX3...</td>\n",
       "      <td>[265, 1075, 1237, 1314, 1354, 1926, 12680, 223...</td>\n",
       "      <td>136</td>\n",
       "    </tr>\n",
       "    <tr>\n",
       "      <th>126</th>\n",
       "      <td>C0038454</td>\n",
       "      <td>[ABO, ALB, ANK2, APOA1, APP, ZFHX3, CDK6, COL3...</td>\n",
       "      <td>[99, 484, 609, 768, 800, 16610, 2463, 3068, 30...</td>\n",
       "      <td>61</td>\n",
       "    </tr>\n",
       "    <tr>\n",
       "      <th>91</th>\n",
       "      <td>C0025958</td>\n",
       "      <td>[ATP1A2, BUB1B, CARS1, CENPF, DYNC1H1, DYNC1I2...</td>\n",
       "      <td>[1126, 1590, 1984, 2542, 4215, 4217, 4049, 423...</td>\n",
       "      <td>65</td>\n",
       "    </tr>\n",
       "    <tr>\n",
       "      <th>296</th>\n",
       "      <td>C4704862</td>\n",
       "      <td>[ACP3, ADCY7, ALOX12, AQP9, AREG, RERE, BTG1, ...</td>\n",
       "      <td>[164, 279, 532, 818, 827, 12149, 1572, 1904, 2...</td>\n",
       "      <td>123</td>\n",
       "    </tr>\n",
       "    <tr>\n",
       "      <th>117</th>\n",
       "      <td>C0035126</td>\n",
       "      <td>[ADORA2A, ADORA2B, AGT, ALOX5, BCL2, CASP3, CA...</td>\n",
       "      <td>[327, 328, 396, 536, 1354, 1996, 2001, 2013, 2...</td>\n",
       "      <td>88</td>\n",
       "    </tr>\n",
       "    <tr>\n",
       "      <th>74</th>\n",
       "      <td>C0023434</td>\n",
       "      <td>[BIRC3, ATM, CCND1, BCL2, BCL6, BRAF, BTK, CD5...</td>\n",
       "      <td>[1431, 1107, 2236, 1354, 1366, 1512, 1576, 234...</td>\n",
       "      <td>50</td>\n",
       "    </tr>\n",
       "    <tr>\n",
       "      <th>238</th>\n",
       "      <td>C0917798</td>\n",
       "      <td>[ASIC1, ADD3, PARP1, ALB, BDNF, CASP3, CASP9, ...</td>\n",
       "      <td>[1038, 286, 10365, 484, 1385, 1996, 2003, 2013...</td>\n",
       "      <td>60</td>\n",
       "    </tr>\n",
       "    <tr>\n",
       "      <th>218</th>\n",
       "      <td>C0751111</td>\n",
       "      <td>[ADRA2A, AKT1, ALB, BDNF, CHD2, CHRM1, CHRM2, ...</td>\n",
       "      <td>[336, 476, 484, 1385, 2697, 2747, 2748, 3726, ...</td>\n",
       "      <td>81</td>\n",
       "    </tr>\n",
       "    <tr>\n",
       "      <th>5</th>\n",
       "      <td>C0002152</td>\n",
       "      <td>[ACOX1, ADRA1A, ADRB3, AGT, FAS, STS, ATF3, AT...</td>\n",
       "      <td>[158, 333, 341, 396, 4976, 14282, 1077, 1135, ...</td>\n",
       "      <td>106</td>\n",
       "    </tr>\n",
       "    <tr>\n",
       "      <th>276</th>\n",
       "      <td>C3468561</td>\n",
       "      <td>[ASAH1, ZFHX3, OPN1SW, CALU, CAMK2D, CASQ2, CA...</td>\n",
       "      <td>[1003, 16610, 10097, 1919, 1926, 2005, 2020, 2...</td>\n",
       "      <td>142</td>\n",
       "    </tr>\n",
       "    <tr>\n",
       "      <th>172</th>\n",
       "      <td>C0242379</td>\n",
       "      <td>[A2M, ACTB, ADA, JAG1, AKT1, ANK3, ANXA2, APC,...</td>\n",
       "      <td>[2, 188, 224, 7195, 476, 610, 697, 750, 1432, ...</td>\n",
       "      <td>234</td>\n",
       "    </tr>\n",
       "    <tr>\n",
       "      <th>38</th>\n",
       "      <td>C0011853</td>\n",
       "      <td>[ACOX1, ADRA1A, ADRB3, AGT, FAS, STS, ATF3, AT...</td>\n",
       "      <td>[158, 333, 341, 396, 4976, 14282, 1077, 1135, ...</td>\n",
       "      <td>106</td>\n",
       "    </tr>\n",
       "    <tr>\n",
       "      <th>70</th>\n",
       "      <td>C0022658</td>\n",
       "      <td>[ACTA2, PARP1, ADRA1B, AGT, AGTR1, ALAD, ALB, ...</td>\n",
       "      <td>[187, 10365, 334, 396, 398, 481, 484, 693, 124...</td>\n",
       "      <td>80</td>\n",
       "    </tr>\n",
       "    <tr>\n",
       "      <th>219</th>\n",
       "      <td>C0751123</td>\n",
       "      <td>[ABAT, ACAT1, ACHE, ADCYAP1, ADORA2A, ADRA1B, ...</td>\n",
       "      <td>[25, 125, 139, 282, 327, 334, 396, 481, 544, 7...</td>\n",
       "      <td>101</td>\n",
       "    </tr>\n",
       "    <tr>\n",
       "      <th>103</th>\n",
       "      <td>C0029408</td>\n",
       "      <td>[ACO1, ACTB, AGER, AK4, ATP1A3, ATP6V1B2, BMP4...</td>\n",
       "      <td>[147, 188, 374, 435, 1127, 1177, 1461, 1463, 1...</td>\n",
       "      <td>91</td>\n",
       "    </tr>\n",
       "    <tr>\n",
       "      <th>147</th>\n",
       "      <td>C0152427</td>\n",
       "      <td>[ALX3, BBS1, BBS2, BBS4, BMP4, CCND2, CENPF, M...</td>\n",
       "      <td>[549, 1324, 1327, 1328, 1461, 2237, 2542, 8614...</td>\n",
       "      <td>113</td>\n",
       "    </tr>\n",
       "    <tr>\n",
       "      <th>11</th>\n",
       "      <td>C0004238</td>\n",
       "      <td>[ASAH1, ZFHX3, OPN1SW, CALU, CAMK2D, CASQ2, CA...</td>\n",
       "      <td>[1003, 16610, 10097, 1919, 1926, 2005, 2020, 2...</td>\n",
       "      <td>146</td>\n",
       "    </tr>\n",
       "    <tr>\n",
       "      <th>7</th>\n",
       "      <td>C0002736</td>\n",
       "      <td>[ANG, ANXA11, CFAP410, CCNF, CD40LG, DAO, DCTN...</td>\n",
       "      <td>[595, 695, 2632, 2242, 2337, 3595, 3673, 4103,...</td>\n",
       "      <td>58</td>\n",
       "    </tr>\n",
       "    <tr>\n",
       "      <th>225</th>\n",
       "      <td>C0751494</td>\n",
       "      <td>[ABAT, ACAT1, ACHE, ADCYAP1, ADORA2A, ADRA1B, ...</td>\n",
       "      <td>[25, 125, 139, 282, 327, 334, 396, 481, 544, 7...</td>\n",
       "      <td>101</td>\n",
       "    </tr>\n",
       "    <tr>\n",
       "      <th>203</th>\n",
       "      <td>C0458247</td>\n",
       "      <td>[AGER, AGT, AIF1, ALOX12, ALOX5, AVP, BDKRB1, ...</td>\n",
       "      <td>[374, 396, 419, 532, 536, 1229, 1383, 1384, 18...</td>\n",
       "      <td>79</td>\n",
       "    </tr>\n",
       "    <tr>\n",
       "      <th>131</th>\n",
       "      <td>C0041755</td>\n",
       "      <td>[NAT1, NAT2, ACHE, ADORA1, ADORA2A, AFM, AHSG,...</td>\n",
       "      <td>[9365, 9369, 139, 326, 327, 360, 415, 484, 554...</td>\n",
       "      <td>83</td>\n",
       "    </tr>\n",
       "  </tbody>\n",
       "</table>\n",
       "</div>"
      ],
      "text/plain": [
       "      process                                       proteins_ids  \\\n",
       "180  C0274861  [AQP9, CD44, CRP, ERCC1, ERCC3, ERCC4, GOLGA4,...   \n",
       "286  C4277690  [ACVR2B, BBS1, BBS2, BBS4, CFTR, CRX, NKX2-5, ...   \n",
       "161  C0234535  [ABAT, ACAT1, ACHE, ADCYAP1, ADORA2A, ADRA1B, ...   \n",
       "164  C0235874  [ABCF1, CRYBG1, AMFR, APEX1, APOE, KLK3, ABCC6...   \n",
       "124  C0038356  [ACTC1, PLIN2, ADRB1, ADRB2, AFP, AGTR2, AHR, ...   \n",
       "249  C1266044  [ACHE, ACY1, ALAD, ALDH1A1, ALK, ALOX5, ALOX12...   \n",
       "199  C0422852  [ABAT, ACAT1, ACHE, ADCYAP1, ADORA2A, ADRA1B, ...   \n",
       "299  C4721507  [ABCA3, ACTA2, PARP1, AGT, AREG, BMP7, CALCA, ...   \n",
       "130  C0041696  [ACP1, ADCY5, ADCY7, ADORA2A, ADRA1A, ALB, ANP...   \n",
       "242  C1136382  [ADARB1, ATF1, AZGP1, BAX, BCL2, CAMK2D, RUNX3...   \n",
       "126  C0038454  [ABO, ALB, ANK2, APOA1, APP, ZFHX3, CDK6, COL3...   \n",
       "91   C0025958  [ATP1A2, BUB1B, CARS1, CENPF, DYNC1H1, DYNC1I2...   \n",
       "296  C4704862  [ACP3, ADCY7, ALOX12, AQP9, AREG, RERE, BTG1, ...   \n",
       "117  C0035126  [ADORA2A, ADORA2B, AGT, ALOX5, BCL2, CASP3, CA...   \n",
       "74   C0023434  [BIRC3, ATM, CCND1, BCL2, BCL6, BRAF, BTK, CD5...   \n",
       "238  C0917798  [ASIC1, ADD3, PARP1, ALB, BDNF, CASP3, CASP9, ...   \n",
       "218  C0751111  [ADRA2A, AKT1, ALB, BDNF, CHD2, CHRM1, CHRM2, ...   \n",
       "5    C0002152  [ACOX1, ADRA1A, ADRB3, AGT, FAS, STS, ATF3, AT...   \n",
       "276  C3468561  [ASAH1, ZFHX3, OPN1SW, CALU, CAMK2D, CASQ2, CA...   \n",
       "172  C0242379  [A2M, ACTB, ADA, JAG1, AKT1, ANK3, ANXA2, APC,...   \n",
       "38   C0011853  [ACOX1, ADRA1A, ADRB3, AGT, FAS, STS, ATF3, AT...   \n",
       "70   C0022658  [ACTA2, PARP1, ADRA1B, AGT, AGTR1, ALAD, ALB, ...   \n",
       "219  C0751123  [ABAT, ACAT1, ACHE, ADCYAP1, ADORA2A, ADRA1B, ...   \n",
       "103  C0029408  [ACO1, ACTB, AGER, AK4, ATP1A3, ATP6V1B2, BMP4...   \n",
       "147  C0152427  [ALX3, BBS1, BBS2, BBS4, BMP4, CCND2, CENPF, M...   \n",
       "11   C0004238  [ASAH1, ZFHX3, OPN1SW, CALU, CAMK2D, CASQ2, CA...   \n",
       "7    C0002736  [ANG, ANXA11, CFAP410, CCNF, CD40LG, DAO, DCTN...   \n",
       "225  C0751494  [ABAT, ACAT1, ACHE, ADCYAP1, ADORA2A, ADRA1B, ...   \n",
       "203  C0458247  [AGER, AGT, AIF1, ALOX12, ALOX5, AVP, BDKRB1, ...   \n",
       "131  C0041755  [NAT1, NAT2, ACHE, ADORA1, ADORA2A, AFM, AHSG,...   \n",
       "\n",
       "                                         protein_index  n_proteins  \n",
       "180  [818, 2338, 3280, 4612, 4614, 4615, 5817, 3476...          60  \n",
       "286  [218, 1324, 1327, 1328, 2665, 3288, 9662, 3981...         105  \n",
       "161  [25, 125, 139, 282, 327, 334, 396, 481, 544, 7...         101  \n",
       "164  [63, 3300, 562, 756, 788, 7574, 55, 844, 502, ...         153  \n",
       "124  [190, 10991, 339, 340, 362, 399, 411, 484, 490...         289  \n",
       "249  [139, 220, 481, 488, 521, 536, 533, 700, 742, ...         123  \n",
       "199  [25, 125, 139, 282, 327, 334, 396, 481, 544, 7...         101  \n",
       "299  [32, 187, 10365, 396, 827, 1464, 1898, 2013, 2...          70  \n",
       "130  [162, 277, 279, 327, 333, 484, 689, 742, 805, ...         243  \n",
       "242  [265, 1075, 1237, 1314, 1354, 1926, 12680, 223...         136  \n",
       "126  [99, 484, 609, 768, 800, 16610, 2463, 3068, 30...          61  \n",
       "91   [1126, 1590, 1984, 2542, 4215, 4217, 4049, 423...          65  \n",
       "296  [164, 279, 532, 818, 827, 12149, 1572, 1904, 2...         123  \n",
       "117  [327, 328, 396, 536, 1354, 1996, 2001, 2013, 2...          88  \n",
       "74   [1431, 1107, 2236, 1354, 1366, 1512, 1576, 234...          50  \n",
       "238  [1038, 286, 10365, 484, 1385, 1996, 2003, 2013...          60  \n",
       "218  [336, 476, 484, 1385, 2697, 2747, 2748, 3726, ...          81  \n",
       "5    [158, 333, 341, 396, 4976, 14282, 1077, 1135, ...         106  \n",
       "276  [1003, 16610, 10097, 1919, 1926, 2005, 2020, 2...         142  \n",
       "172  [2, 188, 224, 7195, 476, 610, 697, 750, 1432, ...         234  \n",
       "38   [158, 333, 341, 396, 4976, 14282, 1077, 1135, ...         106  \n",
       "70   [187, 10365, 334, 396, 398, 481, 484, 693, 124...          80  \n",
       "219  [25, 125, 139, 282, 327, 334, 396, 481, 544, 7...         101  \n",
       "103  [147, 188, 374, 435, 1127, 1177, 1461, 1463, 1...          91  \n",
       "147  [549, 1324, 1327, 1328, 1461, 2237, 2542, 8614...         113  \n",
       "11   [1003, 16610, 10097, 1919, 1926, 2005, 2020, 2...         146  \n",
       "7    [595, 695, 2632, 2242, 2337, 3595, 3673, 4103,...          58  \n",
       "225  [25, 125, 139, 282, 327, 334, 396, 481, 544, 7...         101  \n",
       "203  [374, 396, 419, 532, 536, 1229, 1383, 1384, 18...          79  \n",
       "131  [9365, 9369, 139, 326, 327, 360, 415, 484, 554...          83  "
      ]
     },
     "execution_count": 12,
     "metadata": {},
     "output_type": "execute_result"
    }
   ],
   "source": [
    "sample_disgenet_protein_index = disgenet_protein_index.sample(n=30)\n",
    "sample_disgenet_protein_index"
   ]
  },
  {
   "cell_type": "code",
   "execution_count": 15,
   "metadata": {},
   "outputs": [],
   "source": [
    "sample_disgenet_protein_index.to_csv('../../data/processed/steiner_tree/sample_disgenet.csv', index=False)"
   ]
  },
  {
   "cell_type": "code",
   "execution_count": 53,
   "metadata": {},
   "outputs": [],
   "source": [
    "sample_disgenet_protein_index = pd.read_csv('../../data/processed/steiner_tree/sample_disgenet.csv')\n",
    "sample_disgenet_protein_index['protein_index'] = sample_disgenet_protein_index['protein_index'].apply(literal_eval)\n",
    "sample_disgenet_protein_index['proteins_ids'] = sample_disgenet_protein_index['proteins_ids'].apply(literal_eval)"
   ]
  },
  {
   "cell_type": "code",
   "execution_count": null,
   "metadata": {},
   "outputs": [],
   "source": [
    "importlib.reload(steiner_tree)\n",
    "from tqdm.notebook import tqdm\n",
    "cluster_analysis = pd.DataFrame(columns=['process', 'n_clusters', 'n_candidates', 'best_candidate', 'best_ratio'])\n",
    "for i, row in tqdm(sample_disgenet_protein_index.iterrows(), total=len(sample_disgenet_protein_index)):\n",
    "    x = steiner_tree.sca_analytics(row['protein_index'], graph, adj_matrix_apid_huri, row['process'])\n",
    "    cluster_analysis = pd.concat([cluster_analysis, x])"
   ]
  },
  {
   "cell_type": "code",
   "execution_count": 56,
   "metadata": {},
   "outputs": [],
   "source": [
    "cluster_analysis.to_csv('../../reports/disgenet_clusters.csv', index=False)"
   ]
  },
  {
   "cell_type": "code",
   "execution_count": 57,
   "metadata": {},
   "outputs": [
    {
     "data": {
      "text/html": [
       "<div>\n",
       "<style scoped>\n",
       "    .dataframe tbody tr th:only-of-type {\n",
       "        vertical-align: middle;\n",
       "    }\n",
       "\n",
       "    .dataframe tbody tr th {\n",
       "        vertical-align: top;\n",
       "    }\n",
       "\n",
       "    .dataframe thead th {\n",
       "        text-align: right;\n",
       "    }\n",
       "</style>\n",
       "<table border=\"1\" class=\"dataframe\">\n",
       "  <thead>\n",
       "    <tr style=\"text-align: right;\">\n",
       "      <th></th>\n",
       "      <th>process</th>\n",
       "      <th>n_clusters</th>\n",
       "      <th>n_candidates</th>\n",
       "      <th>best_candidate</th>\n",
       "      <th>best_ratio</th>\n",
       "    </tr>\n",
       "  </thead>\n",
       "  <tbody>\n",
       "    <tr>\n",
       "      <th>0</th>\n",
       "      <td>C0274861</td>\n",
       "      <td>48</td>\n",
       "      <td>3</td>\n",
       "      <td>8421</td>\n",
       "      <td>0.033113</td>\n",
       "    </tr>\n",
       "    <tr>\n",
       "      <th>1</th>\n",
       "      <td>C0274861</td>\n",
       "      <td>44</td>\n",
       "      <td>1</td>\n",
       "      <td>12453</td>\n",
       "      <td>0.031008</td>\n",
       "    </tr>\n",
       "    <tr>\n",
       "      <th>2</th>\n",
       "      <td>C0274861</td>\n",
       "      <td>42</td>\n",
       "      <td>2</td>\n",
       "      <td>15821</td>\n",
       "      <td>0.015424</td>\n",
       "    </tr>\n",
       "    <tr>\n",
       "      <th>3</th>\n",
       "      <td>C0274861</td>\n",
       "      <td>37</td>\n",
       "      <td>3</td>\n",
       "      <td>5251</td>\n",
       "      <td>0.014675</td>\n",
       "    </tr>\n",
       "    <tr>\n",
       "      <th>4</th>\n",
       "      <td>C0274861</td>\n",
       "      <td>33</td>\n",
       "      <td>1</td>\n",
       "      <td>16476</td>\n",
       "      <td>0.011345</td>\n",
       "    </tr>\n",
       "    <tr>\n",
       "      <th>...</th>\n",
       "      <td>...</td>\n",
       "      <td>...</td>\n",
       "      <td>...</td>\n",
       "      <td>...</td>\n",
       "      <td>...</td>\n",
       "    </tr>\n",
       "    <tr>\n",
       "      <th>29</th>\n",
       "      <td>C0041755</td>\n",
       "      <td>7</td>\n",
       "      <td>11</td>\n",
       "      <td>11459</td>\n",
       "      <td>0.058824</td>\n",
       "    </tr>\n",
       "    <tr>\n",
       "      <th>30</th>\n",
       "      <td>C0041755</td>\n",
       "      <td>6</td>\n",
       "      <td>8</td>\n",
       "      <td>8376</td>\n",
       "      <td>0.053571</td>\n",
       "    </tr>\n",
       "    <tr>\n",
       "      <th>31</th>\n",
       "      <td>C0041755</td>\n",
       "      <td>5</td>\n",
       "      <td>3</td>\n",
       "      <td>10570</td>\n",
       "      <td>0.041667</td>\n",
       "    </tr>\n",
       "    <tr>\n",
       "      <th>32</th>\n",
       "      <td>C0041755</td>\n",
       "      <td>4</td>\n",
       "      <td>1</td>\n",
       "      <td>10400</td>\n",
       "      <td>0.035714</td>\n",
       "    </tr>\n",
       "    <tr>\n",
       "      <th>33</th>\n",
       "      <td>C0041755</td>\n",
       "      <td>3</td>\n",
       "      <td>0</td>\n",
       "      <td>0</td>\n",
       "      <td>0.000000</td>\n",
       "    </tr>\n",
       "  </tbody>\n",
       "</table>\n",
       "<p>1086 rows × 5 columns</p>\n",
       "</div>"
      ],
      "text/plain": [
       "     process n_clusters n_candidates best_candidate  best_ratio\n",
       "0   C0274861         48            3           8421    0.033113\n",
       "1   C0274861         44            1          12453    0.031008\n",
       "2   C0274861         42            2          15821    0.015424\n",
       "3   C0274861         37            3           5251    0.014675\n",
       "4   C0274861         33            1          16476    0.011345\n",
       "..       ...        ...          ...            ...         ...\n",
       "29  C0041755          7           11          11459    0.058824\n",
       "30  C0041755          6            8           8376    0.053571\n",
       "31  C0041755          5            3          10570    0.041667\n",
       "32  C0041755          4            1          10400    0.035714\n",
       "33  C0041755          3            0              0    0.000000\n",
       "\n",
       "[1086 rows x 5 columns]"
      ]
     },
     "execution_count": 57,
     "metadata": {},
     "output_type": "execute_result"
    }
   ],
   "source": [
    "cluster_analysis"
   ]
  },
  {
   "cell_type": "code",
   "execution_count": 68,
   "metadata": {},
   "outputs": [
    {
     "data": {
      "application/vnd.plotly.v1+json": {
       "config": {
        "plotlyServerURL": "https://plot.ly"
       },
       "data": [
        {
         "hovertemplate": "process=C0274861<br>n_clusters=%{x}<br>best_ratio=%{y}<extra></extra>",
         "legendgroup": "C0274861",
         "line": {
          "color": "#636efa",
          "dash": "solid"
         },
         "marker": {
          "symbol": "circle"
         },
         "mode": "lines",
         "name": "C0274861",
         "showlegend": true,
         "type": "scattergl",
         "x": [
          48,
          44,
          42,
          37,
          33,
          30,
          28,
          26,
          24,
          22,
          20,
          19,
          18,
          17,
          16,
          15,
          14,
          12,
          11,
          10,
          9,
          8,
          7,
          6,
          5,
          4,
          3,
          2,
          1
         ],
         "xaxis": "x",
         "y": [
          0.033112582781456956,
          0.031007751937984496,
          0.015424164524421594,
          0.014675052410901468,
          0.011345218800648298,
          0.125,
          0.0375,
          0.03333333333333333,
          0.024271844660194174,
          0.023391812865497075,
          0.1875,
          0.14285714285714285,
          0.125,
          0.09523809523809523,
          0.09523809523809523,
          0.07692307692307693,
          0.02040816326530612,
          0.125,
          0.06896551724137931,
          0.11764705882352941,
          0.06896551724137931,
          0.06896551724137931,
          0.058823529411764705,
          0.05128205128205128,
          0.045454545454545456,
          0.027777777777777776,
          0.022727272727272728,
          0.017543859649122806,
          0
         ],
         "yaxis": "y"
        },
        {
         "hovertemplate": "process=C4277690<br>n_clusters=%{x}<br>best_ratio=%{y}<extra></extra>",
         "legendgroup": "C4277690",
         "line": {
          "color": "#EF553B",
          "dash": "solid"
         },
         "marker": {
          "symbol": "circle"
         },
         "mode": "lines",
         "name": "C4277690",
         "showlegend": true,
         "type": "scattergl",
         "x": [
          47,
          44,
          40,
          36,
          32,
          29,
          26,
          24,
          23,
          21,
          20,
          19,
          18,
          17,
          16,
          15,
          14,
          13,
          12,
          11,
          10,
          9,
          8,
          7,
          6,
          5,
          4,
          3
         ],
         "xaxis": "x",
         "y": [
          0.018050541516245487,
          0.0196078431372549,
          0.012376237623762377,
          0.01361573373676248,
          0.15151515151515152,
          0.011450381679389313,
          0.11428571428571428,
          0.10526315789473684,
          0.02097902097902098,
          0.3,
          0.22727272727272727,
          0.14634146341463414,
          0.13846153846153847,
          0.10714285714285714,
          0.08333333333333333,
          0.07142857142857142,
          0.06896551724137931,
          0.044444444444444446,
          0.034482758620689655,
          0.044444444444444446,
          0.031578947368421054,
          0.031578947368421054,
          0.03125,
          0.021052631578947368,
          0.0199501246882793,
          0.00823045267489712,
          0.0053475935828877,
          0
         ],
         "yaxis": "y"
        },
        {
         "hovertemplate": "process=C0234535<br>n_clusters=%{x}<br>best_ratio=%{y}<extra></extra>",
         "legendgroup": "C0234535",
         "line": {
          "color": "#00cc96",
          "dash": "solid"
         },
         "marker": {
          "symbol": "circle"
         },
         "mode": "lines",
         "name": "C0234535",
         "showlegend": true,
         "type": "scattergl",
         "x": [
          81,
          71,
          67,
          65,
          62,
          59,
          56,
          53,
          51,
          48,
          46,
          44,
          42,
          40,
          38,
          36,
          34,
          32,
          30,
          29,
          28,
          27,
          26,
          25,
          24,
          23,
          22,
          21,
          20,
          19,
          18,
          17,
          16,
          15,
          14,
          13,
          12,
          11,
          10,
          9,
          8,
          7,
          6,
          5,
          4,
          3,
          2
         ],
         "xaxis": "x",
         "y": [
          0.01881720430107527,
          0.11363636363636363,
          0.014534883720930232,
          0.38461538461538464,
          0.049019607843137254,
          0.01652892561983471,
          0.013636363636363636,
          0.09375,
          0.04395604395604396,
          0.06976744186046512,
          0.06521739130434782,
          0.06382978723404255,
          0.043478260869565216,
          0.03488372093023256,
          0.025423728813559324,
          0.013651877133105802,
          0.012919896640826873,
          0.008287292817679558,
          0.3333333333333333,
          0.2222222222222222,
          0.2,
          0.18181818181818182,
          0.13333333333333333,
          0.11764705882352941,
          0.09523809523809523,
          0.08333333333333333,
          0.08333333333333333,
          0.06896551724137931,
          0.05714285714285714,
          0.05555555555555555,
          0.06451612903225806,
          0.05128205128205128,
          0.04918032786885246,
          0.04878048780487805,
          0.04411764705882353,
          0.030927835051546393,
          0.028169014084507043,
          0.03007518796992481,
          0.027777777777777776,
          0.02727272727272727,
          0.023529411764705882,
          0.022388059701492536,
          0.020905923344947737,
          0.018691588785046728,
          0.012048192771084338,
          0.007481296758104738,
          0
         ],
         "yaxis": "y"
        },
        {
         "hovertemplate": "process=C0235874<br>n_clusters=%{x}<br>best_ratio=%{y}<extra></extra>",
         "legendgroup": "C0235874",
         "line": {
          "color": "#ab63fa",
          "dash": "solid"
         },
         "marker": {
          "symbol": "circle"
         },
         "mode": "lines",
         "name": "C0235874",
         "showlegend": true,
         "type": "scattergl",
         "x": [
          56,
          51,
          47,
          44,
          41,
          39,
          36,
          33,
          30,
          28,
          26,
          24,
          22,
          20,
          19,
          18,
          17,
          16,
          15,
          14,
          13,
          12,
          11,
          10,
          9,
          8,
          7,
          6,
          5,
          4,
          3,
          2
         ],
         "xaxis": "x",
         "y": [
          0.03547459252157239,
          0.028268551236749116,
          0.14285714285714285,
          0.07731958762886598,
          0.057971014492753624,
          0.0440251572327044,
          0.05084745762711865,
          0.020718232044198894,
          0.0784313725490196,
          0.06751054852320675,
          0.04918032786885246,
          0.0449438202247191,
          0.019559902200488997,
          0.3,
          0.2857142857142857,
          0.15789473684210525,
          0.1509433962264151,
          0.15,
          0.13636363636363635,
          0.12903225806451613,
          0.125,
          0.10714285714285714,
          0.10666666666666667,
          0.1,
          0.08771929824561403,
          0.075,
          0.07407407407407407,
          0.08771929824561403,
          0.07142857142857142,
          0.039603960396039604,
          0.02577319587628866,
          0
         ],
         "yaxis": "y"
        },
        {
         "hovertemplate": "process=C0038356<br>n_clusters=%{x}<br>best_ratio=%{y}<extra></extra>",
         "legendgroup": "C0038356",
         "line": {
          "color": "#FFA15A",
          "dash": "solid"
         },
         "marker": {
          "symbol": "circle"
         },
         "mode": "lines",
         "name": "C0038356",
         "showlegend": true,
         "type": "scattergl",
         "x": [
          88,
          82,
          76,
          72,
          68,
          64,
          61,
          58,
          55,
          52,
          50,
          48,
          46,
          44,
          42,
          40,
          38,
          36,
          34,
          32,
          30,
          28,
          26,
          25,
          24,
          22,
          21,
          20,
          19,
          18,
          17,
          16,
          15,
          14,
          13,
          12,
          11,
          10,
          9,
          8,
          7,
          6,
          5,
          4,
          3,
          2
         ],
         "xaxis": "x",
         "y": [
          0.045936395759717315,
          0.04084720121028744,
          0.09473684210526316,
          0.0830860534124629,
          0.014962593516209476,
          0.09012875536480687,
          0.07228915662650602,
          0.06862745098039216,
          0.0456989247311828,
          0.14074074074074075,
          0.10204081632653061,
          0.1,
          0.09411764705882353,
          0.09210526315789473,
          0.08173076923076923,
          0.07335907335907337,
          0.06557377049180328,
          0.052770448548812667,
          0.045454545454545456,
          0.04411764705882353,
          0.03821656050955414,
          0.02702702702702703,
          1,
          0.6666666666666666,
          0.031914893617021274,
          0.6666666666666666,
          0.2727272727272727,
          0.20689655172413793,
          0.1935483870967742,
          0.1875,
          0.18181818181818182,
          0.14285714285714285,
          0.13333333333333333,
          0.125,
          0.11267605633802817,
          0.1111111111111111,
          0.10256410256410256,
          0.0975609756097561,
          0.08823529411764706,
          0.08571428571428572,
          0.07446808510638298,
          0.06779661016949153,
          0.0625,
          0.06060606060606061,
          0.04395604395604396,
          0
         ],
         "yaxis": "y"
        },
        {
         "hovertemplate": "process=C1266044<br>n_clusters=%{x}<br>best_ratio=%{y}<extra></extra>",
         "legendgroup": "C1266044",
         "line": {
          "color": "#19d3f3",
          "dash": "solid"
         },
         "marker": {
          "symbol": "circle"
         },
         "mode": "lines",
         "name": "C1266044",
         "showlegend": true,
         "type": "scattergl",
         "x": [
          65,
          61,
          59,
          54,
          51,
          48,
          46,
          44,
          42,
          40,
          38,
          36,
          34,
          32,
          30,
          28,
          26,
          25,
          24,
          23,
          22,
          21,
          20,
          19,
          18,
          17,
          16,
          15,
          14,
          13,
          12,
          11,
          10,
          9,
          8,
          7,
          6,
          5,
          4,
          3,
          2,
          1
         ],
         "xaxis": "x",
         "y": [
          0.02972972972972973,
          0.029411764705882353,
          0.02118003025718608,
          0.04326923076923077,
          0.03869047619047619,
          0.03676470588235294,
          0.015706806282722512,
          0.16666666666666666,
          0.13043478260869565,
          0.08571428571428572,
          0.048484848484848485,
          0.044642857142857144,
          0.03773584905660377,
          0.0375,
          0.00997506234413965,
          0.02830188679245283,
          0.4,
          0.4,
          0.3,
          0.25,
          0.2,
          0.16666666666666666,
          0.14285714285714285,
          0.11538461538461539,
          0.5,
          0.10810810810810811,
          0.1,
          0.09615384615384616,
          0.08695652173913043,
          0.0847457627118644,
          0.08163265306122448,
          0.06896551724137931,
          0.06293706293706294,
          0.06060606060606061,
          0.05333333333333334,
          0.05128205128205128,
          0.05,
          0.043478260869565216,
          0.027472527472527472,
          0.009541984732824428,
          0.02531645569620253,
          0
         ],
         "yaxis": "y"
        },
        {
         "hovertemplate": "process=C0422852<br>n_clusters=%{x}<br>best_ratio=%{y}<extra></extra>",
         "legendgroup": "C0422852",
         "line": {
          "color": "#FF6692",
          "dash": "solid"
         },
         "marker": {
          "symbol": "circle"
         },
         "mode": "lines",
         "name": "C0422852",
         "showlegend": true,
         "type": "scattergl",
         "x": [
          81,
          71,
          67,
          65,
          62,
          59,
          56,
          53,
          51,
          48,
          46,
          44,
          42,
          40,
          38,
          36,
          34,
          32,
          30,
          29,
          28,
          27,
          26,
          25,
          24,
          23,
          22,
          21,
          20,
          19,
          18,
          17,
          16,
          15,
          14,
          13,
          12,
          11,
          10,
          9,
          8,
          7,
          6,
          5,
          4,
          3,
          2
         ],
         "xaxis": "x",
         "y": [
          0.01881720430107527,
          0.11363636363636363,
          0.014534883720930232,
          0.38461538461538464,
          0.049019607843137254,
          0.01652892561983471,
          0.013636363636363636,
          0.09375,
          0.04395604395604396,
          0.06976744186046512,
          0.06521739130434782,
          0.06382978723404255,
          0.043478260869565216,
          0.03488372093023256,
          0.025423728813559324,
          0.013651877133105802,
          0.012919896640826873,
          0.008287292817679558,
          0.3333333333333333,
          0.2222222222222222,
          0.2,
          0.18181818181818182,
          0.13333333333333333,
          0.11764705882352941,
          0.09523809523809523,
          0.08333333333333333,
          0.08333333333333333,
          0.06896551724137931,
          0.05714285714285714,
          0.05555555555555555,
          0.06451612903225806,
          0.05128205128205128,
          0.04918032786885246,
          0.04878048780487805,
          0.04411764705882353,
          0.030927835051546393,
          0.028169014084507043,
          0.03007518796992481,
          0.027777777777777776,
          0.02727272727272727,
          0.023529411764705882,
          0.022388059701492536,
          0.020905923344947737,
          0.018691588785046728,
          0.012048192771084338,
          0.007481296758104738,
          0
         ],
         "yaxis": "y"
        },
        {
         "hovertemplate": "process=C4721507<br>n_clusters=%{x}<br>best_ratio=%{y}<extra></extra>",
         "legendgroup": "C4721507",
         "line": {
          "color": "#B6E880",
          "dash": "solid"
         },
         "marker": {
          "symbol": "circle"
         },
         "mode": "lines",
         "name": "C4721507",
         "showlegend": true,
         "type": "scattergl",
         "x": [
          45,
          41,
          38,
          35,
          32,
          29,
          27,
          25,
          23,
          21,
          19,
          17,
          15,
          13,
          12,
          11,
          10,
          9,
          8,
          7,
          6,
          5,
          4,
          3,
          2
         ],
         "xaxis": "x",
         "y": [
          0.02142857142857143,
          0.14285714285714285,
          0.043010752688172046,
          0.024875621890547265,
          0.010057471264367816,
          0.1875,
          0.1875,
          0.17647058823529413,
          0.09090909090909091,
          0.06153846153846154,
          0.017543859649122806,
          0.013793103448275862,
          0.007481296758104738,
          0.3333333333333333,
          0.2916666666666667,
          0.2,
          0.14285714285714285,
          0.13636363636363635,
          0.08333333333333333,
          0.07692307692307693,
          0.039473684210526314,
          0.02127659574468085,
          0.017857142857142856,
          0.015384615384615385,
          0
         ],
         "yaxis": "y"
        },
        {
         "hovertemplate": "process=C0041696<br>n_clusters=%{x}<br>best_ratio=%{y}<extra></extra>",
         "legendgroup": "C0041696",
         "line": {
          "color": "#FF97FF",
          "dash": "solid"
         },
         "marker": {
          "symbol": "circle"
         },
         "mode": "lines",
         "name": "C0041696",
         "showlegend": true,
         "type": "scattergl",
         "x": [
          104,
          99,
          95,
          91,
          87,
          83,
          79,
          76,
          73,
          71,
          69,
          67,
          65,
          63,
          61,
          59,
          57,
          55,
          53,
          51,
          49,
          47,
          46,
          45,
          44,
          43,
          42,
          41,
          40,
          39,
          38,
          37,
          36,
          35,
          34,
          33,
          32,
          31,
          30,
          29,
          28,
          27,
          26,
          25,
          24,
          23,
          22,
          21,
          20,
          19,
          18,
          17,
          16,
          15,
          14,
          13,
          12,
          11,
          10,
          9,
          8,
          7,
          6
         ],
         "xaxis": "x",
         "y": [
          0.02120141342756184,
          0.058823529411764705,
          0.08771929824561403,
          0.04642857142857143,
          0.03225806451612903,
          0.020637898686679174,
          0.02878787878787879,
          0.028629856850715747,
          0.1111111111111111,
          0.08571428571428572,
          0.08108108108108109,
          0.061611374407582936,
          0.2,
          0.05813953488372093,
          0.056818181818181816,
          0.05555555555555555,
          0.05185185185185185,
          0.041666666666666664,
          0.04054054054054054,
          0.040160642570281124,
          0.019559902200488997,
          0.75,
          0.5,
          0.2,
          0.2,
          0.18181818181818182,
          0.14285714285714285,
          0.14285714285714285,
          0.14285714285714285,
          0.13333333333333333,
          0.13043478260869565,
          0.12857142857142856,
          0.125,
          0.12121212121212122,
          0.12,
          0.1111111111111111,
          0.10256410256410256,
          0.1,
          0.09302325581395349,
          0.08571428571428572,
          0.08333333333333333,
          0.08108108108108109,
          0.07692307692307693,
          0.07446808510638298,
          0.07246376811594203,
          0.07053941908713693,
          0.06666666666666667,
          0.06451612903225806,
          0.058823529411764705,
          0.06015037593984962,
          0.05555555555555555,
          0.051094890510948905,
          0.05,
          0.05,
          0.04918032786885246,
          0.046511627906976744,
          0.041666666666666664,
          0.03954802259887006,
          0.035555555555555556,
          0.0330188679245283,
          0.03225806451612903,
          0.029850746268656716,
          0
         ],
         "yaxis": "y"
        },
        {
         "hovertemplate": "process=C1136382<br>n_clusters=%{x}<br>best_ratio=%{y}<extra></extra>",
         "legendgroup": "C1136382",
         "line": {
          "color": "#FECB52",
          "dash": "solid"
         },
         "marker": {
          "symbol": "circle"
         },
         "mode": "lines",
         "name": "C1136382",
         "showlegend": true,
         "type": "scattergl",
         "x": [
          110,
          102,
          94,
          88,
          83,
          80,
          75,
          70,
          68,
          64,
          61,
          58,
          55,
          52,
          50,
          48,
          46,
          44,
          42,
          40,
          38,
          36,
          34,
          32,
          30,
          29,
          28,
          27,
          26,
          25,
          24,
          23,
          22,
          21,
          20,
          19,
          18,
          17,
          16,
          15,
          14,
          13,
          12,
          11,
          10,
          9,
          8,
          7,
          6,
          5,
          4
         ],
         "xaxis": "x",
         "y": [
          0.01818181818181818,
          0.027932960893854747,
          0.022357723577235773,
          0.017793594306049824,
          0.0106951871657754,
          0.023890784982935155,
          0.018469656992084433,
          0.03260869565217391,
          0.019943019943019943,
          0.029535864978902954,
          0.023890784982935155,
          0.013774104683195593,
          0.011398963730569948,
          0.05434782608695652,
          0.04895104895104895,
          0.046511627906976744,
          0.031914893617021274,
          0.028169014084507043,
          0.02727272727272727,
          0.02617801047120419,
          0.026119402985074626,
          0.026785714285714284,
          0.0221606648199446,
          0.009541984732824428,
          0.1875,
          0.17391304347826086,
          0.15384615384615385,
          0.15151515151515152,
          0.11764705882352941,
          0.11538461538461539,
          0.1111111111111111,
          0.10416666666666667,
          0.09090909090909091,
          0.09090909090909091,
          0.09090909090909091,
          0.07894736842105263,
          0.07534246575342465,
          0.06666666666666667,
          0.06349206349206349,
          0.05194805194805195,
          0.03431372549019608,
          0.030303030303030304,
          0.02830188679245283,
          0.02702702702702703,
          0.02666666666666667,
          0.02702702702702703,
          0.02631578947368421,
          0.019704433497536946,
          0.020761245674740483,
          0.018691588785046728,
          0
         ],
         "yaxis": "y"
        },
        {
         "hovertemplate": "process=C0038454<br>n_clusters=%{x}<br>best_ratio=%{y}<extra></extra>",
         "legendgroup": "C0038454",
         "line": {
          "color": "#636efa",
          "dash": "solid"
         },
         "marker": {
          "symbol": "circle"
         },
         "mode": "lines",
         "name": "C0038454",
         "showlegend": true,
         "type": "scattergl",
         "x": [
          43,
          39,
          36,
          33,
          32,
          30,
          28,
          26,
          24,
          22,
          21,
          20,
          19,
          18,
          17,
          16,
          15,
          14,
          13,
          12,
          11,
          10,
          9,
          8,
          7,
          6,
          5,
          4
         ],
         "xaxis": "x",
         "y": [
          0.010040160642570281,
          0.020512820512820513,
          0.006060606060606061,
          0.06451612903225806,
          0.024509803921568627,
          0.021897810218978103,
          0.01675977653631285,
          0.013440860215053764,
          0.0103359173126615,
          0.14285714285714285,
          0.13333333333333333,
          0.11764705882352941,
          0.10526315789473684,
          0.08,
          0.06896551724137931,
          0.06896551724137931,
          0.06896551724137931,
          0.11764705882352941,
          0.06451612903225806,
          0.05555555555555555,
          0.04477611940298507,
          0.043478260869565216,
          0.041666666666666664,
          0.030303030303030304,
          0.028985507246376812,
          0.028985507246376812,
          0.012738853503184714,
          0
         ],
         "yaxis": "y"
        },
        {
         "hovertemplate": "process=C0025958<br>n_clusters=%{x}<br>best_ratio=%{y}<extra></extra>",
         "legendgroup": "C0025958",
         "line": {
          "color": "#EF553B",
          "dash": "solid"
         },
         "marker": {
          "symbol": "circle"
         },
         "mode": "lines",
         "name": "C0025958",
         "showlegend": true,
         "type": "scattergl",
         "x": [
          49,
          42,
          35,
          31,
          28,
          26,
          24,
          22,
          20,
          18,
          17,
          16,
          15,
          14,
          13,
          12,
          11,
          10,
          9,
          8,
          7,
          6,
          5,
          4,
          3
         ],
         "xaxis": "x",
         "y": [
          0.008290155440414507,
          0.02912621359223301,
          0.018292682926829267,
          0.020527859237536656,
          0.10810810810810811,
          0.07246376811594203,
          0.03669724770642202,
          0.033707865168539325,
          0.017964071856287425,
          0.2,
          0.2,
          0.13333333333333333,
          0.1,
          0.07407407407407407,
          0.07142857142857142,
          0.057692307692307696,
          0.04878048780487805,
          0.03870967741935484,
          0.037037037037037035,
          0.03389830508474576,
          0.030612244897959183,
          0.028037383177570093,
          0.013071895424836602,
          0.05128205128205128,
          0
         ],
         "yaxis": "y"
        },
        {
         "hovertemplate": "process=C4704862<br>n_clusters=%{x}<br>best_ratio=%{y}<extra></extra>",
         "legendgroup": "C4704862",
         "line": {
          "color": "#00cc96",
          "dash": "solid"
         },
         "marker": {
          "symbol": "circle"
         },
         "mode": "lines",
         "name": "C4704862",
         "showlegend": true,
         "type": "scattergl",
         "x": [
          93,
          86,
          81,
          76,
          71,
          66,
          63,
          60,
          57,
          54,
          51,
          48,
          45,
          43,
          41,
          39,
          37,
          35,
          33,
          31,
          29,
          27,
          26,
          25,
          24,
          23,
          22,
          21,
          20,
          19,
          18,
          17,
          16,
          15,
          14,
          13,
          12,
          11,
          10,
          9,
          8,
          7,
          6,
          5,
          4
         ],
         "xaxis": "x",
         "y": [
          0.019572953736654804,
          0.013358778625954198,
          0.027649769585253458,
          0.020348837209302327,
          0.013133208255159476,
          0.03375527426160337,
          0.042105263157894736,
          0.027586206896551724,
          0.018433179723502304,
          0.018050541516245487,
          0.014466546112115732,
          0.046511627906976744,
          0.10714285714285714,
          0.10344827586206896,
          0.05084745762711865,
          0.045454545454545456,
          0.041666666666666664,
          0.036585365853658534,
          0.03,
          0.021505376344086023,
          0.010362694300518135,
          0.4,
          0.2857142857142857,
          0.25,
          0.21428571428571427,
          0.18181818181818182,
          0.18181818181818182,
          0.17857142857142858,
          0.15384615384615385,
          0.16666666666666666,
          0.13333333333333333,
          0.0821917808219178,
          0.07692307692307693,
          0.07692307692307693,
          0.07317073170731707,
          0.05660377358490566,
          0.05263157894736842,
          0.041025641025641026,
          0.0423728813559322,
          0.04081632653061224,
          0.038461538461538464,
          0.03333333333333333,
          0.0273224043715847,
          0.023255813953488372,
          0
         ],
         "yaxis": "y"
        },
        {
         "hovertemplate": "process=C0035126<br>n_clusters=%{x}<br>best_ratio=%{y}<extra></extra>",
         "legendgroup": "C0035126",
         "line": {
          "color": "#ab63fa",
          "dash": "solid"
         },
         "marker": {
          "symbol": "circle"
         },
         "mode": "lines",
         "name": "C0035126",
         "showlegend": true,
         "type": "scattergl",
         "x": [
          53,
          46,
          41,
          38,
          35,
          33,
          30,
          27,
          24,
          23,
          21,
          19,
          17,
          15,
          13,
          12,
          11,
          10,
          9,
          8,
          7,
          6,
          5,
          4,
          3,
          2,
          1
         ],
         "xaxis": "x",
         "y": [
          0.021505376344086023,
          0.030303030303030304,
          0.03560830860534125,
          0.034782608695652174,
          0.17391304347826086,
          0.04285714285714286,
          0.02194787379972565,
          0.013333333333333334,
          0.2,
          0.06818181818181818,
          0.04395604395604396,
          0.03214285714285714,
          0.03018867924528302,
          0.023391812865497075,
          0.75,
          0.3333333333333333,
          0.25,
          0.2222222222222222,
          0.10526315789473684,
          0.10256410256410256,
          0.08108108108108109,
          0.06976744186046512,
          0.06944444444444445,
          0.0625,
          0.043478260869565216,
          0.039735099337748346,
          0
         ],
         "yaxis": "y"
        },
        {
         "hovertemplate": "process=C0023434<br>n_clusters=%{x}<br>best_ratio=%{y}<extra></extra>",
         "legendgroup": "C0023434",
         "line": {
          "color": "#FFA15A",
          "dash": "solid"
         },
         "marker": {
          "symbol": "circle"
         },
         "mode": "lines",
         "name": "C0023434",
         "showlegend": true,
         "type": "scattergl",
         "x": [
          27,
          23,
          19,
          17,
          15,
          13,
          12,
          11,
          10,
          9,
          8,
          7,
          6,
          5,
          4,
          3,
          2
         ],
         "xaxis": "x",
         "y": [
          0.024630541871921183,
          0.017241379310344827,
          0.047058823529411764,
          0.02032520325203252,
          0.010830324909747292,
          0.1111111111111111,
          0.06896551724137931,
          0.058823529411764705,
          0.05555555555555555,
          0.05454545454545454,
          0.25,
          0.06896551724137931,
          0.04477611940298507,
          0.037037037037037035,
          0.03508771929824561,
          0.016453382084095063,
          0
         ],
         "yaxis": "y"
        },
        {
         "hovertemplate": "process=C0917798<br>n_clusters=%{x}<br>best_ratio=%{y}<extra></extra>",
         "legendgroup": "C0917798",
         "line": {
          "color": "#19d3f3",
          "dash": "solid"
         },
         "marker": {
          "symbol": "circle"
         },
         "mode": "lines",
         "name": "C0917798",
         "showlegend": true,
         "type": "scattergl",
         "x": [
          30,
          26,
          23,
          22,
          20,
          18,
          17,
          16,
          15,
          14,
          13,
          12,
          11,
          10,
          9,
          8,
          7,
          6,
          5,
          4,
          3,
          2
         ],
         "xaxis": "x",
         "y": [
          0.01478494623655914,
          0.022857142857142857,
          0.25,
          0.031578947368421054,
          0.024390243902439025,
          0.3333333333333333,
          0.25,
          0.18181818181818182,
          0.11764705882352941,
          0.1111111111111111,
          0.1111111111111111,
          0.10256410256410256,
          0.08823529411764706,
          0.08,
          0.06818181818181818,
          0.06521739130434782,
          0.06382978723404255,
          0.05263157894736842,
          0.125,
          0.03225806451612903,
          0.021929824561403508,
          0
         ],
         "yaxis": "y"
        },
        {
         "hovertemplate": "process=C0751111<br>n_clusters=%{x}<br>best_ratio=%{y}<extra></extra>",
         "legendgroup": "C0751111",
         "line": {
          "color": "#FF6692",
          "dash": "solid"
         },
         "marker": {
          "symbol": "circle"
         },
         "mode": "lines",
         "name": "C0751111",
         "showlegend": true,
         "type": "scattergl",
         "x": [
          53,
          44,
          41,
          36,
          32,
          29,
          27,
          25,
          23,
          21,
          19,
          17,
          16,
          15,
          14,
          13,
          12,
          11,
          10,
          9,
          8,
          7,
          6,
          5,
          4,
          3,
          2
         ],
         "xaxis": "x",
         "y": [
          0.014507772020725389,
          0.041237113402061855,
          0.009587727708533078,
          0.016355140186915886,
          0.010189228529839884,
          0.0967741935483871,
          0.05263157894736842,
          0.043478260869565216,
          0.028037383177570093,
          0.01293103448275862,
          0.004143646408839779,
          0.3333333333333333,
          0.3333333333333333,
          0.15384615384615385,
          0.14285714285714285,
          0.1111111111111111,
          0.09090909090909091,
          0.08,
          0.06818181818181818,
          0.0625,
          0.05952380952380952,
          0.0684931506849315,
          0.09090909090909091,
          0.043478260869565216,
          0.04065040650406504,
          0.03508771929824561,
          0
         ],
         "yaxis": "y"
        },
        {
         "hovertemplate": "process=C0002152<br>n_clusters=%{x}<br>best_ratio=%{y}<extra></extra>",
         "legendgroup": "C0002152",
         "line": {
          "color": "#B6E880",
          "dash": "solid"
         },
         "marker": {
          "symbol": "circle"
         },
         "mode": "lines",
         "name": "C0002152",
         "showlegend": true,
         "type": "scattergl",
         "x": [
          55,
          51,
          46,
          43,
          40,
          38,
          36,
          34,
          32,
          30,
          28,
          26,
          24,
          23,
          22,
          21,
          20,
          19,
          18,
          17,
          16,
          15,
          14,
          13,
          12,
          11,
          10,
          9,
          8,
          7,
          6,
          5,
          4,
          3
         ],
         "xaxis": "x",
         "y": [
          0.01747311827956989,
          0.013471502590673576,
          0.02666666666666667,
          0.0223463687150838,
          0.06976744186046512,
          0.13043478260869565,
          0.06666666666666667,
          0.028925619834710745,
          0.08571428571428572,
          0.020942408376963352,
          0.020833333333333332,
          0.006906077348066298,
          0.6666666666666666,
          0.3333333333333333,
          0.2,
          0.16666666666666666,
          0.14285714285714285,
          0.13333333333333333,
          0.11764705882352941,
          0.11764705882352941,
          0.11764705882352941,
          0.09375,
          0.07692307692307693,
          0.07407407407407407,
          0.07317073170731707,
          0.07317073170731707,
          0.05844155844155844,
          0.1111111111111111,
          0.061855670103092786,
          0.05714285714285714,
          0.05555555555555555,
          0.043478260869565216,
          0.017699115044247787,
          0
         ],
         "yaxis": "y"
        },
        {
         "hovertemplate": "process=C3468561<br>n_clusters=%{x}<br>best_ratio=%{y}<extra></extra>",
         "legendgroup": "C3468561",
         "line": {
          "color": "#FF97FF",
          "dash": "solid"
         },
         "marker": {
          "symbol": "circle"
         },
         "mode": "lines",
         "name": "C3468561",
         "showlegend": true,
         "type": "scattergl",
         "x": [
          97,
          88,
          81,
          76,
          70,
          65,
          61,
          59,
          57,
          54,
          52,
          49,
          46,
          44,
          42,
          40,
          38,
          36,
          34,
          32,
          30,
          28,
          26,
          24,
          23,
          22,
          21,
          20,
          19,
          18,
          17,
          16,
          15,
          14,
          13,
          12,
          11,
          10,
          9,
          8,
          7,
          6,
          5,
          4,
          3,
          2
         ],
         "xaxis": "x",
         "y": [
          0.015128593040847202,
          0.022408963585434174,
          0.019448946515397084,
          0.01747311827956989,
          0.02888086642599278,
          0.018469656992084433,
          0.10714285714285714,
          0.05454545454545454,
          0.0449438202247191,
          0.023391812865497075,
          0.01529051987767584,
          0.01126126126126126,
          0.09090909090909091,
          0.07142857142857142,
          0.0625,
          0.0410958904109589,
          0.037383177570093455,
          0.03571428571428571,
          0.03355704697986577,
          0.02727272727272727,
          0.02356902356902357,
          0.01871657754010695,
          0.014314928425357873,
          0.25,
          0.22727272727272727,
          0.16666666666666666,
          0.15,
          0.14285714285714285,
          0.125,
          0.10714285714285714,
          0.0967741935483871,
          0.0967741935483871,
          0.0958904109589041,
          0.11538461538461539,
          0.08,
          0.06451612903225806,
          0.05454545454545454,
          0.05128205128205128,
          0.05084745762711865,
          0.05063291139240506,
          0.04477611940298507,
          0.03571428571428571,
          0.03333333333333333,
          0.030303030303030304,
          0.026785714285714284,
          0
         ],
         "yaxis": "y"
        },
        {
         "hovertemplate": "process=C0242379<br>n_clusters=%{x}<br>best_ratio=%{y}<extra></extra>",
         "legendgroup": "C0242379",
         "line": {
          "color": "#FECB52",
          "dash": "solid"
         },
         "marker": {
          "symbol": "circle"
         },
         "mode": "lines",
         "name": "C0242379",
         "showlegend": true,
         "type": "scattergl",
         "x": [
          74,
          70,
          66,
          63,
          60,
          58,
          56,
          54,
          52,
          50,
          48,
          46,
          44,
          42,
          40,
          38,
          36,
          34,
          33,
          32,
          31,
          30,
          29,
          28,
          27,
          26,
          25,
          24,
          23,
          22,
          21,
          20,
          19,
          18,
          17,
          16,
          15,
          14,
          13,
          12,
          11,
          10,
          9,
          8,
          7,
          6,
          5,
          4,
          3,
          2
         ],
         "xaxis": "x",
         "y": [
          0.04310344827586207,
          0.023289665211062592,
          0.3076923076923077,
          0.020080321285140562,
          0.15384615384615385,
          0.10084033613445378,
          0.08823529411764706,
          0.08823529411764706,
          0.08139534883720931,
          0.07272727272727272,
          0.056910569105691054,
          0.05263157894736842,
          0.05172413793103448,
          0.05,
          0.047619047619047616,
          0.04580152671755725,
          0.015193370165745856,
          0.375,
          0.3333333333333333,
          0.3333333333333333,
          0.21428571428571427,
          0.2,
          0.19047619047619047,
          0.18181818181818182,
          0.18181818181818182,
          0.17391304347826086,
          0.17391304347826086,
          0.16666666666666666,
          0.14285714285714285,
          0.14285714285714285,
          0.14285714285714285,
          0.14285714285714285,
          0.13513513513513514,
          0.13157894736842105,
          0.1111111111111111,
          0.1111111111111111,
          0.09523809523809523,
          0.08333333333333333,
          0.08,
          0.07692307692307693,
          0.07142857142857142,
          0.06896551724137931,
          0.06521739130434782,
          0.05,
          0.046511627906976744,
          0.03856749311294766,
          0.041666666666666664,
          0.03296703296703297,
          0.009345794392523364,
          0
         ],
         "yaxis": "y"
        },
        {
         "hovertemplate": "process=C0011853<br>n_clusters=%{x}<br>best_ratio=%{y}<extra></extra>",
         "legendgroup": "C0011853",
         "line": {
          "color": "#636efa",
          "dash": "solid"
         },
         "marker": {
          "symbol": "circle"
         },
         "mode": "lines",
         "name": "C0011853",
         "showlegend": true,
         "type": "scattergl",
         "x": [
          55,
          51,
          46,
          43,
          40,
          38,
          36,
          34,
          32,
          30,
          28,
          26,
          24,
          23,
          22,
          21,
          20,
          19,
          18,
          17,
          16,
          15,
          14,
          13,
          12,
          11,
          10,
          9,
          8,
          7,
          6,
          5,
          4,
          3
         ],
         "xaxis": "x",
         "y": [
          0.01747311827956989,
          0.013471502590673576,
          0.02666666666666667,
          0.0223463687150838,
          0.06976744186046512,
          0.13043478260869565,
          0.06666666666666667,
          0.028925619834710745,
          0.08571428571428572,
          0.020942408376963352,
          0.020833333333333332,
          0.006906077348066298,
          0.6666666666666666,
          0.3333333333333333,
          0.2,
          0.16666666666666666,
          0.14285714285714285,
          0.13333333333333333,
          0.11764705882352941,
          0.11764705882352941,
          0.11764705882352941,
          0.09375,
          0.07692307692307693,
          0.07407407407407407,
          0.07317073170731707,
          0.07317073170731707,
          0.05844155844155844,
          0.1111111111111111,
          0.061855670103092786,
          0.05714285714285714,
          0.05555555555555555,
          0.043478260869565216,
          0.017699115044247787,
          0
         ],
         "yaxis": "y"
        },
        {
         "hovertemplate": "process=C0022658<br>n_clusters=%{x}<br>best_ratio=%{y}<extra></extra>",
         "legendgroup": "C0022658",
         "line": {
          "color": "#EF553B",
          "dash": "solid"
         },
         "marker": {
          "symbol": "circle"
         },
         "mode": "lines",
         "name": "C0022658",
         "showlegend": true,
         "type": "scattergl",
         "x": [
          59,
          52,
          50,
          45,
          41,
          40,
          38,
          36,
          34,
          32,
          30,
          28,
          26,
          25,
          24,
          23,
          22,
          21,
          20,
          19,
          18,
          17,
          16,
          15,
          14,
          13,
          12,
          11,
          10,
          9,
          8,
          7,
          6,
          5,
          4,
          3
         ],
         "xaxis": "x",
         "y": [
          0.015151515151515152,
          0.024691358024691357,
          0.01361573373676248,
          0.024793388429752067,
          0.08333333333333333,
          0.05263157894736842,
          0.043478260869565216,
          0.021739130434782608,
          0.08108108108108109,
          0.017543859649122806,
          0.014925373134328358,
          0.0110803324099723,
          0.4,
          0.2,
          0.11764705882352941,
          0.10714285714285714,
          0.10526315789473684,
          0.08695652173913043,
          0.07317073170731707,
          0.07142857142857142,
          0.05714285714285714,
          0.05405405405405406,
          0.05,
          0.05,
          0.047619047619047616,
          0.045454545454545456,
          0.044444444444444446,
          0.040983606557377046,
          0.03676470588235294,
          0.02564102564102564,
          0.024509803921568627,
          0.2222222222222222,
          0.02702702702702703,
          0.022727272727272728,
          0.012295081967213115,
          0
         ],
         "yaxis": "y"
        },
        {
         "hovertemplate": "process=C0751123<br>n_clusters=%{x}<br>best_ratio=%{y}<extra></extra>",
         "legendgroup": "C0751123",
         "line": {
          "color": "#00cc96",
          "dash": "solid"
         },
         "marker": {
          "symbol": "circle"
         },
         "mode": "lines",
         "name": "C0751123",
         "showlegend": true,
         "type": "scattergl",
         "x": [
          81,
          71,
          67,
          65,
          62,
          59,
          56,
          53,
          51,
          48,
          46,
          44,
          42,
          40,
          38,
          36,
          34,
          32,
          30,
          29,
          28,
          27,
          26,
          25,
          24,
          23,
          22,
          21,
          20,
          19,
          18,
          17,
          16,
          15,
          14,
          13,
          12,
          11,
          10,
          9,
          8,
          7,
          6,
          5,
          4,
          3,
          2
         ],
         "xaxis": "x",
         "y": [
          0.01881720430107527,
          0.11363636363636363,
          0.014534883720930232,
          0.38461538461538464,
          0.049019607843137254,
          0.01652892561983471,
          0.013636363636363636,
          0.09375,
          0.04395604395604396,
          0.06976744186046512,
          0.06521739130434782,
          0.06382978723404255,
          0.043478260869565216,
          0.03488372093023256,
          0.025423728813559324,
          0.013651877133105802,
          0.012919896640826873,
          0.008287292817679558,
          0.3333333333333333,
          0.2222222222222222,
          0.2,
          0.18181818181818182,
          0.13333333333333333,
          0.11764705882352941,
          0.09523809523809523,
          0.08333333333333333,
          0.08333333333333333,
          0.06896551724137931,
          0.05714285714285714,
          0.05555555555555555,
          0.06451612903225806,
          0.05128205128205128,
          0.04918032786885246,
          0.04878048780487805,
          0.04411764705882353,
          0.030927835051546393,
          0.028169014084507043,
          0.03007518796992481,
          0.027777777777777776,
          0.02727272727272727,
          0.023529411764705882,
          0.022388059701492536,
          0.020905923344947737,
          0.018691588785046728,
          0.012048192771084338,
          0.007481296758104738,
          0
         ],
         "yaxis": "y"
        },
        {
         "hovertemplate": "process=C0029408<br>n_clusters=%{x}<br>best_ratio=%{y}<extra></extra>",
         "legendgroup": "C0029408",
         "line": {
          "color": "#ab63fa",
          "dash": "solid"
         },
         "marker": {
          "symbol": "circle"
         },
         "mode": "lines",
         "name": "C0029408",
         "showlegend": true,
         "type": "scattergl",
         "x": [
          53,
          44,
          38,
          35,
          32,
          30,
          27,
          25,
          24,
          22,
          20,
          18,
          16,
          14,
          13,
          12,
          11,
          10,
          9,
          8,
          7,
          6,
          5,
          4,
          3
         ],
         "xaxis": "x",
         "y": [
          0.021761658031088083,
          0.016574585635359115,
          0.0759493670886076,
          0.057971014492753624,
          0.07407407407407407,
          0.03821656050955414,
          0.0975609756097561,
          0.06666666666666667,
          0.05454545454545454,
          0.05154639175257732,
          0.05063291139240506,
          0.034482758620689655,
          0.02830188679245283,
          0.3333333333333333,
          0.2222222222222222,
          0.18181818181818182,
          0.11764705882352941,
          0.09090909090909091,
          0.09090909090909091,
          0.08,
          0.06666666666666667,
          0.06060606060606061,
          0.03508771929824561,
          0.030120481927710843,
          0
         ],
         "yaxis": "y"
        },
        {
         "hovertemplate": "process=C0152427<br>n_clusters=%{x}<br>best_ratio=%{y}<extra></extra>",
         "legendgroup": "C0152427",
         "line": {
          "color": "#FFA15A",
          "dash": "solid"
         },
         "marker": {
          "symbol": "circle"
         },
         "mode": "lines",
         "name": "C0152427",
         "showlegend": true,
         "type": "scattergl",
         "x": [
          52,
          47,
          43,
          40,
          37,
          34,
          31,
          28,
          26,
          24,
          22,
          20,
          19,
          18,
          17,
          16,
          15,
          14,
          13,
          12,
          11,
          10,
          9,
          8,
          7,
          6,
          5,
          4,
          3
         ],
         "xaxis": "x",
         "y": [
          0.013888888888888888,
          0.017326732673267328,
          0.02100840336134454,
          0.0196078431372549,
          0.10810810810810811,
          0.05333333333333334,
          0.02403846153846154,
          0.06,
          0.058823529411764705,
          0.05063291139240506,
          0.029411764705882353,
          0.15384615384615385,
          0.125,
          0.11764705882352941,
          0.09523809523809523,
          0.09090909090909091,
          0.09090909090909091,
          0.08247422680412371,
          0.10714285714285714,
          0.08,
          0.07692307692307693,
          0.06666666666666667,
          0.043478260869565216,
          0.0425531914893617,
          0.03614457831325301,
          0.019417475728155338,
          0.014962593516209476,
          0.09090909090909091,
          0
         ],
         "yaxis": "y"
        },
        {
         "hovertemplate": "process=C0004238<br>n_clusters=%{x}<br>best_ratio=%{y}<extra></extra>",
         "legendgroup": "C0004238",
         "line": {
          "color": "#19d3f3",
          "dash": "solid"
         },
         "marker": {
          "symbol": "circle"
         },
         "mode": "lines",
         "name": "C0004238",
         "showlegend": true,
         "type": "scattergl",
         "x": [
          101,
          92,
          85,
          80,
          74,
          69,
          65,
          63,
          60,
          58,
          55,
          53,
          50,
          47,
          45,
          43,
          41,
          39,
          37,
          35,
          33,
          31,
          29,
          27,
          26,
          25,
          24,
          23,
          22,
          21,
          20,
          19,
          18,
          17,
          16,
          15,
          14,
          13,
          12,
          11,
          10,
          9,
          8,
          7,
          6,
          5,
          4,
          3,
          2
         ],
         "xaxis": "x",
         "y": [
          0.015128593040847202,
          0.022408963585434174,
          0.019448946515397084,
          0.01747311827956989,
          0.02888086642599278,
          0.018469656992084433,
          0.10714285714285714,
          0.07142857142857142,
          0.05454545454545454,
          0.0449438202247191,
          0.023391812865497075,
          0.01529051987767584,
          0.01126126126126126,
          0.09090909090909091,
          0.07142857142857142,
          0.0410958904109589,
          0.037383177570093455,
          0.03571428571428571,
          0.03355704697986577,
          0.02727272727272727,
          0.02356902356902357,
          0.01871657754010695,
          0.014314928425357873,
          1,
          0.25,
          0.22727272727272727,
          0.16666666666666666,
          0.15,
          0.14285714285714285,
          0.125,
          0.10714285714285714,
          0.0967741935483871,
          0.0967741935483871,
          0.0958904109589041,
          0.11538461538461539,
          0.08,
          0.06896551724137931,
          0.06451612903225806,
          0.05454545454545454,
          0.05128205128205128,
          0.05084745762711865,
          0.05063291139240506,
          0.04477611940298507,
          0.03571428571428571,
          0.03333333333333333,
          0.030303030303030304,
          0.029850746268656716,
          0.026785714285714284,
          0
         ],
         "yaxis": "y"
        },
        {
         "hovertemplate": "process=C0002736<br>n_clusters=%{x}<br>best_ratio=%{y}<extra></extra>",
         "legendgroup": "C0002736",
         "line": {
          "color": "#FF6692",
          "dash": "solid"
         },
         "marker": {
          "symbol": "circle"
         },
         "mode": "lines",
         "name": "C0002736",
         "showlegend": true,
         "type": "scattergl",
         "x": [
          33,
          27,
          24,
          21,
          19,
          17,
          15,
          14,
          13,
          12,
          11,
          10,
          9,
          8,
          7,
          6,
          5,
          4,
          3,
          2
         ],
         "xaxis": "x",
         "y": [
          0.01361573373676248,
          0.03058103975535168,
          0.024242424242424242,
          0.10294117647058823,
          0.0625,
          0.013888888888888888,
          0.36363636363636365,
          0.15384615384615385,
          0.14285714285714285,
          0.10526315789473684,
          0.09523809523809523,
          0.03636363636363636,
          0.030303030303030304,
          0.023809523809523808,
          0.020618556701030927,
          0.019801980198019802,
          0.015957446808510637,
          0.02127659574468085,
          0.014598540145985401,
          0
         ],
         "yaxis": "y"
        },
        {
         "hovertemplate": "process=C0751494<br>n_clusters=%{x}<br>best_ratio=%{y}<extra></extra>",
         "legendgroup": "C0751494",
         "line": {
          "color": "#B6E880",
          "dash": "solid"
         },
         "marker": {
          "symbol": "circle"
         },
         "mode": "lines",
         "name": "C0751494",
         "showlegend": true,
         "type": "scattergl",
         "x": [
          81,
          71,
          67,
          65,
          62,
          59,
          56,
          53,
          51,
          48,
          46,
          44,
          42,
          40,
          38,
          36,
          34,
          32,
          30,
          29,
          28,
          27,
          26,
          25,
          24,
          23,
          22,
          21,
          20,
          19,
          18,
          17,
          16,
          15,
          14,
          13,
          12,
          11,
          10,
          9,
          8,
          7,
          6,
          5,
          4,
          3,
          2
         ],
         "xaxis": "x",
         "y": [
          0.01881720430107527,
          0.11363636363636363,
          0.014534883720930232,
          0.38461538461538464,
          0.049019607843137254,
          0.01652892561983471,
          0.013636363636363636,
          0.09375,
          0.04395604395604396,
          0.06976744186046512,
          0.06521739130434782,
          0.06382978723404255,
          0.043478260869565216,
          0.03488372093023256,
          0.025423728813559324,
          0.013651877133105802,
          0.012919896640826873,
          0.008287292817679558,
          0.3333333333333333,
          0.2222222222222222,
          0.2,
          0.18181818181818182,
          0.13333333333333333,
          0.11764705882352941,
          0.09523809523809523,
          0.08333333333333333,
          0.08333333333333333,
          0.06896551724137931,
          0.05714285714285714,
          0.05555555555555555,
          0.06451612903225806,
          0.05128205128205128,
          0.04918032786885246,
          0.04878048780487805,
          0.04411764705882353,
          0.030927835051546393,
          0.028169014084507043,
          0.03007518796992481,
          0.027777777777777776,
          0.02727272727272727,
          0.023529411764705882,
          0.022388059701492536,
          0.020905923344947737,
          0.018691588785046728,
          0.012048192771084338,
          0.007481296758104738,
          0
         ],
         "yaxis": "y"
        },
        {
         "hovertemplate": "process=C0458247<br>n_clusters=%{x}<br>best_ratio=%{y}<extra></extra>",
         "legendgroup": "C0458247",
         "line": {
          "color": "#FF97FF",
          "dash": "solid"
         },
         "marker": {
          "symbol": "circle"
         },
         "mode": "lines",
         "name": "C0458247",
         "showlegend": true,
         "type": "scattergl",
         "x": [
          57,
          52,
          49,
          46,
          43,
          40,
          36,
          34,
          32,
          30,
          28,
          26,
          24,
          23,
          22,
          21,
          20,
          19,
          18,
          17,
          16,
          15,
          14,
          13,
          12,
          11,
          10,
          9,
          8,
          7,
          6,
          5,
          4,
          3
         ],
         "xaxis": "x",
         "y": [
          0.032,
          0.0111731843575419,
          0.09090909090909091,
          0.021505376344086023,
          0.01059001512859304,
          0.00727802037845706,
          0.09375,
          0.056074766355140186,
          0.05128205128205128,
          0.06451612903225806,
          0.033112582781456956,
          0.0108499095840868,
          0.75,
          0.5,
          0.2857142857142857,
          0.2222222222222222,
          0.11764705882352941,
          0.08333333333333333,
          0.075,
          0.0625,
          0.06060606060606061,
          0.058823529411764705,
          0.04878048780487805,
          0.047619047619047616,
          0.03508771929824561,
          0.03125,
          0.031914893617021274,
          0.03273809523809524,
          0.02976190476190476,
          0.2,
          0.02666666666666667,
          0.021929824561403508,
          0.016666666666666666,
          0
         ],
         "yaxis": "y"
        },
        {
         "hovertemplate": "process=C0041755<br>n_clusters=%{x}<br>best_ratio=%{y}<extra></extra>",
         "legendgroup": "C0041755",
         "line": {
          "color": "#FECB52",
          "dash": "solid"
         },
         "marker": {
          "symbol": "circle"
         },
         "mode": "lines",
         "name": "C0041755",
         "showlegend": true,
         "type": "scattergl",
         "x": [
          56,
          51,
          47,
          44,
          42,
          40,
          39,
          37,
          35,
          33,
          31,
          29,
          27,
          25,
          23,
          21,
          20,
          19,
          18,
          17,
          16,
          15,
          14,
          13,
          12,
          11,
          10,
          9,
          8,
          7,
          6,
          5,
          4,
          3
         ],
         "xaxis": "x",
         "y": [
          0.015128593040847202,
          0.18840579710144928,
          0.026119402985074626,
          0.05454545454545454,
          0.01675977653631285,
          1,
          0.13636363636363635,
          0.06976744186046512,
          0.033112582781456956,
          0.028037383177570093,
          0.08333333333333333,
          0.02112676056338028,
          0.016736401673640166,
          0.016129032258064516,
          0.013452914798206279,
          0.5,
          0.35714285714285715,
          0.2,
          0.17647058823529413,
          0.13333333333333333,
          0.125,
          0.10526315789473684,
          0.1,
          0.08333333333333333,
          0.07272727272727272,
          0.07142857142857142,
          0.06896551724137931,
          0.0625,
          0.061224489795918366,
          0.058823529411764705,
          0.05357142857142857,
          0.041666666666666664,
          0.03571428571428571,
          0
         ],
         "yaxis": "y"
        }
       ],
       "layout": {
        "legend": {
         "title": {
          "text": "process"
         },
         "tracegroupgap": 0
        },
        "margin": {
         "t": 60
        },
        "template": {
         "data": {
          "bar": [
           {
            "error_x": {
             "color": "#2a3f5f"
            },
            "error_y": {
             "color": "#2a3f5f"
            },
            "marker": {
             "line": {
              "color": "#E5ECF6",
              "width": 0.5
             },
             "pattern": {
              "fillmode": "overlay",
              "size": 10,
              "solidity": 0.2
             }
            },
            "type": "bar"
           }
          ],
          "barpolar": [
           {
            "marker": {
             "line": {
              "color": "#E5ECF6",
              "width": 0.5
             },
             "pattern": {
              "fillmode": "overlay",
              "size": 10,
              "solidity": 0.2
             }
            },
            "type": "barpolar"
           }
          ],
          "carpet": [
           {
            "aaxis": {
             "endlinecolor": "#2a3f5f",
             "gridcolor": "white",
             "linecolor": "white",
             "minorgridcolor": "white",
             "startlinecolor": "#2a3f5f"
            },
            "baxis": {
             "endlinecolor": "#2a3f5f",
             "gridcolor": "white",
             "linecolor": "white",
             "minorgridcolor": "white",
             "startlinecolor": "#2a3f5f"
            },
            "type": "carpet"
           }
          ],
          "choropleth": [
           {
            "colorbar": {
             "outlinewidth": 0,
             "ticks": ""
            },
            "type": "choropleth"
           }
          ],
          "contour": [
           {
            "colorbar": {
             "outlinewidth": 0,
             "ticks": ""
            },
            "colorscale": [
             [
              0,
              "#0d0887"
             ],
             [
              0.1111111111111111,
              "#46039f"
             ],
             [
              0.2222222222222222,
              "#7201a8"
             ],
             [
              0.3333333333333333,
              "#9c179e"
             ],
             [
              0.4444444444444444,
              "#bd3786"
             ],
             [
              0.5555555555555556,
              "#d8576b"
             ],
             [
              0.6666666666666666,
              "#ed7953"
             ],
             [
              0.7777777777777778,
              "#fb9f3a"
             ],
             [
              0.8888888888888888,
              "#fdca26"
             ],
             [
              1,
              "#f0f921"
             ]
            ],
            "type": "contour"
           }
          ],
          "contourcarpet": [
           {
            "colorbar": {
             "outlinewidth": 0,
             "ticks": ""
            },
            "type": "contourcarpet"
           }
          ],
          "heatmap": [
           {
            "colorbar": {
             "outlinewidth": 0,
             "ticks": ""
            },
            "colorscale": [
             [
              0,
              "#0d0887"
             ],
             [
              0.1111111111111111,
              "#46039f"
             ],
             [
              0.2222222222222222,
              "#7201a8"
             ],
             [
              0.3333333333333333,
              "#9c179e"
             ],
             [
              0.4444444444444444,
              "#bd3786"
             ],
             [
              0.5555555555555556,
              "#d8576b"
             ],
             [
              0.6666666666666666,
              "#ed7953"
             ],
             [
              0.7777777777777778,
              "#fb9f3a"
             ],
             [
              0.8888888888888888,
              "#fdca26"
             ],
             [
              1,
              "#f0f921"
             ]
            ],
            "type": "heatmap"
           }
          ],
          "heatmapgl": [
           {
            "colorbar": {
             "outlinewidth": 0,
             "ticks": ""
            },
            "colorscale": [
             [
              0,
              "#0d0887"
             ],
             [
              0.1111111111111111,
              "#46039f"
             ],
             [
              0.2222222222222222,
              "#7201a8"
             ],
             [
              0.3333333333333333,
              "#9c179e"
             ],
             [
              0.4444444444444444,
              "#bd3786"
             ],
             [
              0.5555555555555556,
              "#d8576b"
             ],
             [
              0.6666666666666666,
              "#ed7953"
             ],
             [
              0.7777777777777778,
              "#fb9f3a"
             ],
             [
              0.8888888888888888,
              "#fdca26"
             ],
             [
              1,
              "#f0f921"
             ]
            ],
            "type": "heatmapgl"
           }
          ],
          "histogram": [
           {
            "marker": {
             "pattern": {
              "fillmode": "overlay",
              "size": 10,
              "solidity": 0.2
             }
            },
            "type": "histogram"
           }
          ],
          "histogram2d": [
           {
            "colorbar": {
             "outlinewidth": 0,
             "ticks": ""
            },
            "colorscale": [
             [
              0,
              "#0d0887"
             ],
             [
              0.1111111111111111,
              "#46039f"
             ],
             [
              0.2222222222222222,
              "#7201a8"
             ],
             [
              0.3333333333333333,
              "#9c179e"
             ],
             [
              0.4444444444444444,
              "#bd3786"
             ],
             [
              0.5555555555555556,
              "#d8576b"
             ],
             [
              0.6666666666666666,
              "#ed7953"
             ],
             [
              0.7777777777777778,
              "#fb9f3a"
             ],
             [
              0.8888888888888888,
              "#fdca26"
             ],
             [
              1,
              "#f0f921"
             ]
            ],
            "type": "histogram2d"
           }
          ],
          "histogram2dcontour": [
           {
            "colorbar": {
             "outlinewidth": 0,
             "ticks": ""
            },
            "colorscale": [
             [
              0,
              "#0d0887"
             ],
             [
              0.1111111111111111,
              "#46039f"
             ],
             [
              0.2222222222222222,
              "#7201a8"
             ],
             [
              0.3333333333333333,
              "#9c179e"
             ],
             [
              0.4444444444444444,
              "#bd3786"
             ],
             [
              0.5555555555555556,
              "#d8576b"
             ],
             [
              0.6666666666666666,
              "#ed7953"
             ],
             [
              0.7777777777777778,
              "#fb9f3a"
             ],
             [
              0.8888888888888888,
              "#fdca26"
             ],
             [
              1,
              "#f0f921"
             ]
            ],
            "type": "histogram2dcontour"
           }
          ],
          "mesh3d": [
           {
            "colorbar": {
             "outlinewidth": 0,
             "ticks": ""
            },
            "type": "mesh3d"
           }
          ],
          "parcoords": [
           {
            "line": {
             "colorbar": {
              "outlinewidth": 0,
              "ticks": ""
             }
            },
            "type": "parcoords"
           }
          ],
          "pie": [
           {
            "automargin": true,
            "type": "pie"
           }
          ],
          "scatter": [
           {
            "marker": {
             "colorbar": {
              "outlinewidth": 0,
              "ticks": ""
             }
            },
            "type": "scatter"
           }
          ],
          "scatter3d": [
           {
            "line": {
             "colorbar": {
              "outlinewidth": 0,
              "ticks": ""
             }
            },
            "marker": {
             "colorbar": {
              "outlinewidth": 0,
              "ticks": ""
             }
            },
            "type": "scatter3d"
           }
          ],
          "scattercarpet": [
           {
            "marker": {
             "colorbar": {
              "outlinewidth": 0,
              "ticks": ""
             }
            },
            "type": "scattercarpet"
           }
          ],
          "scattergeo": [
           {
            "marker": {
             "colorbar": {
              "outlinewidth": 0,
              "ticks": ""
             }
            },
            "type": "scattergeo"
           }
          ],
          "scattergl": [
           {
            "marker": {
             "colorbar": {
              "outlinewidth": 0,
              "ticks": ""
             }
            },
            "type": "scattergl"
           }
          ],
          "scattermapbox": [
           {
            "marker": {
             "colorbar": {
              "outlinewidth": 0,
              "ticks": ""
             }
            },
            "type": "scattermapbox"
           }
          ],
          "scatterpolar": [
           {
            "marker": {
             "colorbar": {
              "outlinewidth": 0,
              "ticks": ""
             }
            },
            "type": "scatterpolar"
           }
          ],
          "scatterpolargl": [
           {
            "marker": {
             "colorbar": {
              "outlinewidth": 0,
              "ticks": ""
             }
            },
            "type": "scatterpolargl"
           }
          ],
          "scatterternary": [
           {
            "marker": {
             "colorbar": {
              "outlinewidth": 0,
              "ticks": ""
             }
            },
            "type": "scatterternary"
           }
          ],
          "surface": [
           {
            "colorbar": {
             "outlinewidth": 0,
             "ticks": ""
            },
            "colorscale": [
             [
              0,
              "#0d0887"
             ],
             [
              0.1111111111111111,
              "#46039f"
             ],
             [
              0.2222222222222222,
              "#7201a8"
             ],
             [
              0.3333333333333333,
              "#9c179e"
             ],
             [
              0.4444444444444444,
              "#bd3786"
             ],
             [
              0.5555555555555556,
              "#d8576b"
             ],
             [
              0.6666666666666666,
              "#ed7953"
             ],
             [
              0.7777777777777778,
              "#fb9f3a"
             ],
             [
              0.8888888888888888,
              "#fdca26"
             ],
             [
              1,
              "#f0f921"
             ]
            ],
            "type": "surface"
           }
          ],
          "table": [
           {
            "cells": {
             "fill": {
              "color": "#EBF0F8"
             },
             "line": {
              "color": "white"
             }
            },
            "header": {
             "fill": {
              "color": "#C8D4E3"
             },
             "line": {
              "color": "white"
             }
            },
            "type": "table"
           }
          ]
         },
         "layout": {
          "annotationdefaults": {
           "arrowcolor": "#2a3f5f",
           "arrowhead": 0,
           "arrowwidth": 1
          },
          "autotypenumbers": "strict",
          "coloraxis": {
           "colorbar": {
            "outlinewidth": 0,
            "ticks": ""
           }
          },
          "colorscale": {
           "diverging": [
            [
             0,
             "#8e0152"
            ],
            [
             0.1,
             "#c51b7d"
            ],
            [
             0.2,
             "#de77ae"
            ],
            [
             0.3,
             "#f1b6da"
            ],
            [
             0.4,
             "#fde0ef"
            ],
            [
             0.5,
             "#f7f7f7"
            ],
            [
             0.6,
             "#e6f5d0"
            ],
            [
             0.7,
             "#b8e186"
            ],
            [
             0.8,
             "#7fbc41"
            ],
            [
             0.9,
             "#4d9221"
            ],
            [
             1,
             "#276419"
            ]
           ],
           "sequential": [
            [
             0,
             "#0d0887"
            ],
            [
             0.1111111111111111,
             "#46039f"
            ],
            [
             0.2222222222222222,
             "#7201a8"
            ],
            [
             0.3333333333333333,
             "#9c179e"
            ],
            [
             0.4444444444444444,
             "#bd3786"
            ],
            [
             0.5555555555555556,
             "#d8576b"
            ],
            [
             0.6666666666666666,
             "#ed7953"
            ],
            [
             0.7777777777777778,
             "#fb9f3a"
            ],
            [
             0.8888888888888888,
             "#fdca26"
            ],
            [
             1,
             "#f0f921"
            ]
           ],
           "sequentialminus": [
            [
             0,
             "#0d0887"
            ],
            [
             0.1111111111111111,
             "#46039f"
            ],
            [
             0.2222222222222222,
             "#7201a8"
            ],
            [
             0.3333333333333333,
             "#9c179e"
            ],
            [
             0.4444444444444444,
             "#bd3786"
            ],
            [
             0.5555555555555556,
             "#d8576b"
            ],
            [
             0.6666666666666666,
             "#ed7953"
            ],
            [
             0.7777777777777778,
             "#fb9f3a"
            ],
            [
             0.8888888888888888,
             "#fdca26"
            ],
            [
             1,
             "#f0f921"
            ]
           ]
          },
          "colorway": [
           "#636efa",
           "#EF553B",
           "#00cc96",
           "#ab63fa",
           "#FFA15A",
           "#19d3f3",
           "#FF6692",
           "#B6E880",
           "#FF97FF",
           "#FECB52"
          ],
          "font": {
           "color": "#2a3f5f"
          },
          "geo": {
           "bgcolor": "white",
           "lakecolor": "white",
           "landcolor": "#E5ECF6",
           "showlakes": true,
           "showland": true,
           "subunitcolor": "white"
          },
          "hoverlabel": {
           "align": "left"
          },
          "hovermode": "closest",
          "mapbox": {
           "style": "light"
          },
          "paper_bgcolor": "white",
          "plot_bgcolor": "#E5ECF6",
          "polar": {
           "angularaxis": {
            "gridcolor": "white",
            "linecolor": "white",
            "ticks": ""
           },
           "bgcolor": "#E5ECF6",
           "radialaxis": {
            "gridcolor": "white",
            "linecolor": "white",
            "ticks": ""
           }
          },
          "scene": {
           "xaxis": {
            "backgroundcolor": "#E5ECF6",
            "gridcolor": "white",
            "gridwidth": 2,
            "linecolor": "white",
            "showbackground": true,
            "ticks": "",
            "zerolinecolor": "white"
           },
           "yaxis": {
            "backgroundcolor": "#E5ECF6",
            "gridcolor": "white",
            "gridwidth": 2,
            "linecolor": "white",
            "showbackground": true,
            "ticks": "",
            "zerolinecolor": "white"
           },
           "zaxis": {
            "backgroundcolor": "#E5ECF6",
            "gridcolor": "white",
            "gridwidth": 2,
            "linecolor": "white",
            "showbackground": true,
            "ticks": "",
            "zerolinecolor": "white"
           }
          },
          "shapedefaults": {
           "line": {
            "color": "#2a3f5f"
           }
          },
          "ternary": {
           "aaxis": {
            "gridcolor": "white",
            "linecolor": "white",
            "ticks": ""
           },
           "baxis": {
            "gridcolor": "white",
            "linecolor": "white",
            "ticks": ""
           },
           "bgcolor": "#E5ECF6",
           "caxis": {
            "gridcolor": "white",
            "linecolor": "white",
            "ticks": ""
           }
          },
          "title": {
           "x": 0.05
          },
          "xaxis": {
           "automargin": true,
           "gridcolor": "white",
           "linecolor": "white",
           "ticks": "",
           "title": {
            "standoff": 15
           },
           "zerolinecolor": "white",
           "zerolinewidth": 2
          },
          "yaxis": {
           "automargin": true,
           "gridcolor": "white",
           "linecolor": "white",
           "ticks": "",
           "title": {
            "standoff": 15
           },
           "zerolinecolor": "white",
           "zerolinewidth": 2
          }
         }
        },
        "xaxis": {
         "anchor": "y",
         "autorange": "reversed",
         "domain": [
          0,
          1
         ],
         "title": {
          "text": "n_clusters"
         }
        },
        "yaxis": {
         "anchor": "x",
         "domain": [
          0,
          1
         ],
         "title": {
          "text": "best_ratio"
         }
        }
       }
      }
     },
     "metadata": {},
     "output_type": "display_data"
    }
   ],
   "source": [
    "import plotly.express as px\n",
    "fig = px.line(cluster_analysis, x=\"n_clusters\", y=\"best_ratio\", color=\"process\")\n",
    "fig.update_layout(xaxis = dict(autorange = 'reversed'))\n",
    "fig.show()"
   ]
  },
  {
   "cell_type": "code",
   "execution_count": 67,
   "metadata": {},
   "outputs": [
    {
     "data": {
      "application/vnd.plotly.v1+json": {
       "config": {
        "plotlyServerURL": "https://plot.ly"
       },
       "data": [
        {
         "hovertemplate": "process=C0274861<br>n_clusters=%{x}<br>n_candidates=%{y}<extra></extra>",
         "legendgroup": "C0274861",
         "line": {
          "color": "#636efa",
          "dash": "solid"
         },
         "marker": {
          "symbol": "circle"
         },
         "mode": "lines",
         "name": "C0274861",
         "showlegend": true,
         "type": "scattergl",
         "x": [
          48,
          44,
          42,
          37,
          33,
          30,
          28,
          26,
          24,
          22,
          20,
          19,
          18,
          17,
          16,
          15,
          14,
          12,
          11,
          10,
          9,
          8,
          7,
          6,
          5,
          4,
          3,
          2,
          1
         ],
         "xaxis": "x",
         "y": [
          3,
          1,
          2,
          3,
          1,
          11,
          7,
          5,
          3,
          1,
          94,
          90,
          80,
          69,
          64,
          59,
          1,
          56,
          54,
          53,
          49,
          47,
          22,
          19,
          15,
          4,
          3,
          2,
          0
         ],
         "yaxis": "y"
        },
        {
         "hovertemplate": "process=C4277690<br>n_clusters=%{x}<br>n_candidates=%{y}<extra></extra>",
         "legendgroup": "C4277690",
         "line": {
          "color": "#EF553B",
          "dash": "solid"
         },
         "marker": {
          "symbol": "circle"
         },
         "mode": "lines",
         "name": "C4277690",
         "showlegend": true,
         "type": "scattergl",
         "x": [
          47,
          44,
          40,
          36,
          32,
          29,
          26,
          24,
          23,
          21,
          20,
          19,
          18,
          17,
          16,
          15,
          14,
          13,
          12,
          11,
          10,
          9,
          8,
          7,
          6,
          5,
          4,
          3
         ],
         "xaxis": "x",
         "y": [
          1,
          1,
          1,
          1,
          4,
          1,
          7,
          6,
          1,
          83,
          70,
          56,
          54,
          50,
          44,
          37,
          31,
          15,
          12,
          11,
          10,
          9,
          8,
          7,
          3,
          2,
          1,
          0
         ],
         "yaxis": "y"
        },
        {
         "hovertemplate": "process=C0234535<br>n_clusters=%{x}<br>n_candidates=%{y}<extra></extra>",
         "legendgroup": "C0234535",
         "line": {
          "color": "#00cc96",
          "dash": "solid"
         },
         "marker": {
          "symbol": "circle"
         },
         "mode": "lines",
         "name": "C0234535",
         "showlegend": true,
         "type": "scattergl",
         "x": [
          81,
          71,
          67,
          65,
          62,
          59,
          56,
          53,
          51,
          48,
          46,
          44,
          42,
          40,
          38,
          36,
          34,
          32,
          30,
          29,
          28,
          27,
          26,
          25,
          24,
          23,
          22,
          21,
          20,
          19,
          18,
          17,
          16,
          15,
          14,
          13,
          12,
          11,
          10,
          9,
          8,
          7,
          6,
          5,
          4,
          3,
          2
         ],
         "xaxis": "x",
         "y": [
          1,
          2,
          1,
          1,
          3,
          2,
          1,
          25,
          1,
          18,
          14,
          11,
          8,
          6,
          5,
          3,
          2,
          1,
          87,
          78,
          76,
          72,
          60,
          54,
          49,
          48,
          44,
          40,
          37,
          36,
          36,
          34,
          33,
          29,
          21,
          18,
          16,
          15,
          13,
          12,
          10,
          11,
          4,
          3,
          2,
          1,
          0
         ],
         "yaxis": "y"
        },
        {
         "hovertemplate": "process=C0235874<br>n_clusters=%{x}<br>n_candidates=%{y}<extra></extra>",
         "legendgroup": "C0235874",
         "line": {
          "color": "#ab63fa",
          "dash": "solid"
         },
         "marker": {
          "symbol": "circle"
         },
         "mode": "lines",
         "name": "C0235874",
         "showlegend": true,
         "type": "scattergl",
         "x": [
          56,
          51,
          47,
          44,
          41,
          39,
          36,
          33,
          30,
          28,
          26,
          24,
          22,
          20,
          19,
          18,
          17,
          16,
          15,
          14,
          13,
          12,
          11,
          10,
          9,
          8,
          7,
          6,
          5,
          4,
          3,
          2
         ],
         "xaxis": "x",
         "y": [
          2,
          1,
          13,
          11,
          8,
          6,
          2,
          1,
          16,
          12,
          7,
          5,
          1,
          144,
          141,
          140,
          137,
          125,
          102,
          100,
          97,
          68,
          59,
          52,
          45,
          36,
          31,
          19,
          13,
          8,
          1,
          0
         ],
         "yaxis": "y"
        },
        {
         "hovertemplate": "process=C0038356<br>n_clusters=%{x}<br>n_candidates=%{y}<extra></extra>",
         "legendgroup": "C0038356",
         "line": {
          "color": "#FFA15A",
          "dash": "solid"
         },
         "marker": {
          "symbol": "circle"
         },
         "mode": "lines",
         "name": "C0038356",
         "showlegend": true,
         "type": "scattergl",
         "x": [
          88,
          82,
          76,
          72,
          68,
          64,
          61,
          58,
          55,
          52,
          50,
          48,
          46,
          44,
          42,
          40,
          38,
          36,
          34,
          32,
          30,
          28,
          26,
          25,
          24,
          22,
          21,
          20,
          19,
          18,
          17,
          16,
          15,
          14,
          13,
          12,
          11,
          10,
          9,
          8,
          7,
          6,
          5,
          4,
          3,
          2
         ],
         "xaxis": "x",
         "y": [
          2,
          1,
          3,
          2,
          1,
          7,
          5,
          3,
          2,
          35,
          33,
          29,
          23,
          20,
          17,
          16,
          14,
          12,
          7,
          6,
          4,
          2,
          185,
          182,
          1,
          144,
          134,
          99,
          96,
          92,
          87,
          69,
          58,
          55,
          50,
          42,
          41,
          27,
          20,
          10,
          9,
          7,
          4,
          2,
          1,
          0
         ],
         "yaxis": "y"
        },
        {
         "hovertemplate": "process=C1266044<br>n_clusters=%{x}<br>n_candidates=%{y}<extra></extra>",
         "legendgroup": "C1266044",
         "line": {
          "color": "#19d3f3",
          "dash": "solid"
         },
         "marker": {
          "symbol": "circle"
         },
         "mode": "lines",
         "name": "C1266044",
         "showlegend": true,
         "type": "scattergl",
         "x": [
          65,
          61,
          59,
          54,
          51,
          48,
          46,
          44,
          42,
          40,
          38,
          36,
          34,
          32,
          30,
          28,
          26,
          25,
          24,
          23,
          22,
          21,
          20,
          19,
          18,
          17,
          16,
          15,
          14,
          13,
          12,
          11,
          10,
          9,
          8,
          7,
          6,
          5,
          4,
          3,
          2,
          1
         ],
         "xaxis": "x",
         "y": [
          2,
          6,
          3,
          5,
          6,
          2,
          1,
          24,
          21,
          14,
          11,
          5,
          4,
          2,
          1,
          1,
          145,
          131,
          121,
          104,
          91,
          82,
          75,
          70,
          69,
          62,
          58,
          51,
          50,
          46,
          33,
          31,
          30,
          21,
          19,
          14,
          13,
          5,
          2,
          1,
          1,
          0
         ],
         "yaxis": "y"
        },
        {
         "hovertemplate": "process=C0422852<br>n_clusters=%{x}<br>n_candidates=%{y}<extra></extra>",
         "legendgroup": "C0422852",
         "line": {
          "color": "#FF6692",
          "dash": "solid"
         },
         "marker": {
          "symbol": "circle"
         },
         "mode": "lines",
         "name": "C0422852",
         "showlegend": true,
         "type": "scattergl",
         "x": [
          81,
          71,
          67,
          65,
          62,
          59,
          56,
          53,
          51,
          48,
          46,
          44,
          42,
          40,
          38,
          36,
          34,
          32,
          30,
          29,
          28,
          27,
          26,
          25,
          24,
          23,
          22,
          21,
          20,
          19,
          18,
          17,
          16,
          15,
          14,
          13,
          12,
          11,
          10,
          9,
          8,
          7,
          6,
          5,
          4,
          3,
          2
         ],
         "xaxis": "x",
         "y": [
          1,
          2,
          1,
          1,
          3,
          2,
          1,
          25,
          1,
          18,
          14,
          11,
          8,
          6,
          5,
          3,
          2,
          1,
          87,
          78,
          76,
          72,
          60,
          54,
          49,
          48,
          44,
          40,
          37,
          36,
          36,
          34,
          33,
          29,
          21,
          18,
          16,
          15,
          13,
          12,
          10,
          11,
          4,
          3,
          2,
          1,
          0
         ],
         "yaxis": "y"
        },
        {
         "hovertemplate": "process=C4721507<br>n_clusters=%{x}<br>n_candidates=%{y}<extra></extra>",
         "legendgroup": "C4721507",
         "line": {
          "color": "#B6E880",
          "dash": "solid"
         },
         "marker": {
          "symbol": "circle"
         },
         "mode": "lines",
         "name": "C4721507",
         "showlegend": true,
         "type": "scattergl",
         "x": [
          45,
          41,
          38,
          35,
          32,
          29,
          27,
          25,
          23,
          21,
          19,
          17,
          15,
          13,
          12,
          11,
          10,
          9,
          8,
          7,
          6,
          5,
          4,
          3,
          2
         ],
         "xaxis": "x",
         "y": [
          1,
          4,
          7,
          3,
          1,
          18,
          17,
          14,
          11,
          10,
          7,
          3,
          1,
          151,
          138,
          118,
          117,
          21,
          17,
          14,
          5,
          3,
          2,
          1,
          0
         ],
         "yaxis": "y"
        },
        {
         "hovertemplate": "process=C0041696<br>n_clusters=%{x}<br>n_candidates=%{y}<extra></extra>",
         "legendgroup": "C0041696",
         "line": {
          "color": "#FF97FF",
          "dash": "solid"
         },
         "marker": {
          "symbol": "circle"
         },
         "mode": "lines",
         "name": "C0041696",
         "showlegend": true,
         "type": "scattergl",
         "x": [
          104,
          99,
          95,
          91,
          87,
          83,
          79,
          76,
          73,
          71,
          69,
          67,
          65,
          63,
          61,
          59,
          57,
          55,
          53,
          51,
          49,
          47,
          46,
          45,
          44,
          43,
          42,
          41,
          40,
          39,
          38,
          37,
          36,
          35,
          34,
          33,
          32,
          31,
          30,
          29,
          28,
          27,
          26,
          25,
          24,
          23,
          22,
          21,
          20,
          19,
          18,
          17,
          16,
          15,
          14,
          13,
          12,
          11,
          10,
          9,
          8,
          7,
          6
         ],
         "xaxis": "x",
         "y": [
          1,
          1,
          3,
          1,
          5,
          1,
          4,
          2,
          38,
          35,
          28,
          23,
          20,
          18,
          13,
          9,
          8,
          6,
          5,
          4,
          1,
          176,
          169,
          153,
          148,
          140,
          124,
          122,
          120,
          102,
          100,
          90,
          82,
          76,
          73,
          69,
          66,
          64,
          62,
          57,
          50,
          49,
          48,
          47,
          45,
          42,
          38,
          35,
          31,
          29,
          25,
          24,
          22,
          20,
          19,
          18,
          17,
          16,
          15,
          11,
          8,
          2,
          0
         ],
         "yaxis": "y"
        },
        {
         "hovertemplate": "process=C1136382<br>n_clusters=%{x}<br>n_candidates=%{y}<extra></extra>",
         "legendgroup": "C1136382",
         "line": {
          "color": "#FECB52",
          "dash": "solid"
         },
         "marker": {
          "symbol": "circle"
         },
         "mode": "lines",
         "name": "C1136382",
         "showlegend": true,
         "type": "scattergl",
         "x": [
          110,
          102,
          94,
          88,
          83,
          80,
          75,
          70,
          68,
          64,
          61,
          58,
          55,
          52,
          50,
          48,
          46,
          44,
          42,
          40,
          38,
          36,
          34,
          32,
          30,
          29,
          28,
          27,
          26,
          25,
          24,
          23,
          22,
          21,
          20,
          19,
          18,
          17,
          16,
          15,
          14,
          13,
          12,
          11,
          10,
          9,
          8,
          7,
          6,
          5,
          4
         ],
         "xaxis": "x",
         "y": [
          1,
          2,
          2,
          1,
          1,
          4,
          1,
          3,
          1,
          7,
          5,
          2,
          1,
          21,
          15,
          12,
          9,
          8,
          7,
          5,
          4,
          3,
          2,
          1,
          141,
          123,
          105,
          97,
          74,
          66,
          63,
          58,
          49,
          47,
          45,
          37,
          35,
          28,
          22,
          18,
          17,
          16,
          12,
          11,
          10,
          10,
          8,
          3,
          2,
          1,
          0
         ],
         "yaxis": "y"
        },
        {
         "hovertemplate": "process=C0038454<br>n_clusters=%{x}<br>n_candidates=%{y}<extra></extra>",
         "legendgroup": "C0038454",
         "line": {
          "color": "#636efa",
          "dash": "solid"
         },
         "marker": {
          "symbol": "circle"
         },
         "mode": "lines",
         "name": "C0038454",
         "showlegend": true,
         "type": "scattergl",
         "x": [
          43,
          39,
          36,
          33,
          32,
          30,
          28,
          26,
          24,
          22,
          21,
          20,
          19,
          18,
          17,
          16,
          15,
          14,
          13,
          12,
          11,
          10,
          9,
          8,
          7,
          6,
          5,
          4
         ],
         "xaxis": "x",
         "y": [
          1,
          4,
          3,
          16,
          9,
          7,
          6,
          2,
          1,
          75,
          70,
          68,
          65,
          48,
          46,
          41,
          36,
          34,
          33,
          26,
          24,
          20,
          16,
          13,
          9,
          3,
          1,
          0
         ],
         "yaxis": "y"
        },
        {
         "hovertemplate": "process=C0025958<br>n_clusters=%{x}<br>n_candidates=%{y}<extra></extra>",
         "legendgroup": "C0025958",
         "line": {
          "color": "#EF553B",
          "dash": "solid"
         },
         "marker": {
          "symbol": "circle"
         },
         "mode": "lines",
         "name": "C0025958",
         "showlegend": true,
         "type": "scattergl",
         "x": [
          49,
          42,
          35,
          31,
          28,
          26,
          24,
          22,
          20,
          18,
          17,
          16,
          15,
          14,
          13,
          12,
          11,
          10,
          9,
          8,
          7,
          6,
          5,
          4,
          3
         ],
         "xaxis": "x",
         "y": [
          1,
          2,
          1,
          1,
          24,
          12,
          10,
          4,
          3,
          68,
          61,
          45,
          42,
          31,
          29,
          27,
          19,
          18,
          15,
          12,
          11,
          3,
          2,
          2,
          0
         ],
         "yaxis": "y"
        },
        {
         "hovertemplate": "process=C4704862<br>n_clusters=%{x}<br>n_candidates=%{y}<extra></extra>",
         "legendgroup": "C4704862",
         "line": {
          "color": "#00cc96",
          "dash": "solid"
         },
         "marker": {
          "symbol": "circle"
         },
         "mode": "lines",
         "name": "C4704862",
         "showlegend": true,
         "type": "scattergl",
         "x": [
          93,
          86,
          81,
          76,
          71,
          66,
          63,
          60,
          57,
          54,
          51,
          48,
          45,
          43,
          41,
          39,
          37,
          35,
          33,
          31,
          29,
          27,
          26,
          25,
          24,
          23,
          22,
          21,
          20,
          19,
          18,
          17,
          16,
          15,
          14,
          13,
          12,
          11,
          10,
          9,
          8,
          7,
          6,
          5,
          4
         ],
         "xaxis": "x",
         "y": [
          1,
          1,
          6,
          2,
          1,
          3,
          7,
          5,
          3,
          2,
          1,
          1,
          24,
          22,
          16,
          15,
          12,
          11,
          9,
          3,
          2,
          170,
          167,
          161,
          157,
          126,
          112,
          97,
          91,
          85,
          76,
          62,
          58,
          52,
          43,
          31,
          22,
          18,
          15,
          12,
          10,
          5,
          2,
          1,
          0
         ],
         "yaxis": "y"
        },
        {
         "hovertemplate": "process=C0035126<br>n_clusters=%{x}<br>n_candidates=%{y}<extra></extra>",
         "legendgroup": "C0035126",
         "line": {
          "color": "#ab63fa",
          "dash": "solid"
         },
         "marker": {
          "symbol": "circle"
         },
         "mode": "lines",
         "name": "C0035126",
         "showlegend": true,
         "type": "scattergl",
         "x": [
          53,
          46,
          41,
          38,
          35,
          33,
          30,
          27,
          24,
          23,
          21,
          19,
          17,
          15,
          13,
          12,
          11,
          10,
          9,
          8,
          7,
          6,
          5,
          4,
          3,
          2,
          1
         ],
         "xaxis": "x",
         "y": [
          1,
          1,
          2,
          2,
          9,
          6,
          3,
          1,
          21,
          12,
          7,
          3,
          2,
          1,
          72,
          70,
          66,
          57,
          50,
          42,
          39,
          27,
          24,
          10,
          8,
          5,
          0
         ],
         "yaxis": "y"
        },
        {
         "hovertemplate": "process=C0023434<br>n_clusters=%{x}<br>n_candidates=%{y}<extra></extra>",
         "legendgroup": "C0023434",
         "line": {
          "color": "#FFA15A",
          "dash": "solid"
         },
         "marker": {
          "symbol": "circle"
         },
         "mode": "lines",
         "name": "C0023434",
         "showlegend": true,
         "type": "scattergl",
         "x": [
          27,
          23,
          19,
          17,
          15,
          13,
          12,
          11,
          10,
          9,
          8,
          7,
          6,
          5,
          4,
          3,
          2
         ],
         "xaxis": "x",
         "y": [
          1,
          1,
          5,
          3,
          2,
          50,
          46,
          44,
          43,
          40,
          35,
          30,
          21,
          13,
          3,
          1,
          0
         ],
         "yaxis": "y"
        },
        {
         "hovertemplate": "process=C0917798<br>n_clusters=%{x}<br>n_candidates=%{y}<extra></extra>",
         "legendgroup": "C0917798",
         "line": {
          "color": "#19d3f3",
          "dash": "solid"
         },
         "marker": {
          "symbol": "circle"
         },
         "mode": "lines",
         "name": "C0917798",
         "showlegend": true,
         "type": "scattergl",
         "x": [
          30,
          26,
          23,
          22,
          20,
          18,
          17,
          16,
          15,
          14,
          13,
          12,
          11,
          10,
          9,
          8,
          7,
          6,
          5,
          4,
          3,
          2
         ],
         "xaxis": "x",
         "y": [
          1,
          1,
          6,
          2,
          1,
          82,
          77,
          76,
          69,
          55,
          50,
          42,
          38,
          29,
          28,
          19,
          15,
          12,
          10,
          5,
          2,
          0
         ],
         "yaxis": "y"
        },
        {
         "hovertemplate": "process=C0751111<br>n_clusters=%{x}<br>n_candidates=%{y}<extra></extra>",
         "legendgroup": "C0751111",
         "line": {
          "color": "#FF6692",
          "dash": "solid"
         },
         "marker": {
          "symbol": "circle"
         },
         "mode": "lines",
         "name": "C0751111",
         "showlegend": true,
         "type": "scattergl",
         "x": [
          53,
          44,
          41,
          36,
          32,
          29,
          27,
          25,
          23,
          21,
          19,
          17,
          16,
          15,
          14,
          13,
          12,
          11,
          10,
          9,
          8,
          7,
          6,
          5,
          4,
          3,
          2
         ],
         "xaxis": "x",
         "y": [
          1,
          11,
          1,
          2,
          1,
          9,
          8,
          6,
          4,
          2,
          1,
          126,
          92,
          87,
          74,
          65,
          63,
          53,
          49,
          26,
          13,
          10,
          8,
          6,
          4,
          2,
          0
         ],
         "yaxis": "y"
        },
        {
         "hovertemplate": "process=C0002152<br>n_clusters=%{x}<br>n_candidates=%{y}<extra></extra>",
         "legendgroup": "C0002152",
         "line": {
          "color": "#B6E880",
          "dash": "solid"
         },
         "marker": {
          "symbol": "circle"
         },
         "mode": "lines",
         "name": "C0002152",
         "showlegend": true,
         "type": "scattergl",
         "x": [
          55,
          51,
          46,
          43,
          40,
          38,
          36,
          34,
          32,
          30,
          28,
          26,
          24,
          23,
          22,
          21,
          20,
          19,
          18,
          17,
          16,
          15,
          14,
          13,
          12,
          11,
          10,
          9,
          8,
          7,
          6,
          5,
          4,
          3
         ],
         "xaxis": "x",
         "y": [
          1,
          1,
          1,
          1,
          10,
          9,
          6,
          5,
          5,
          3,
          2,
          1,
          105,
          101,
          94,
          81,
          78,
          73,
          65,
          60,
          55,
          53,
          36,
          34,
          26,
          23,
          19,
          18,
          17,
          9,
          4,
          3,
          1,
          0
         ],
         "yaxis": "y"
        },
        {
         "hovertemplate": "process=C3468561<br>n_clusters=%{x}<br>n_candidates=%{y}<extra></extra>",
         "legendgroup": "C3468561",
         "line": {
          "color": "#FF97FF",
          "dash": "solid"
         },
         "marker": {
          "symbol": "circle"
         },
         "mode": "lines",
         "name": "C3468561",
         "showlegend": true,
         "type": "scattergl",
         "x": [
          97,
          88,
          81,
          76,
          70,
          65,
          61,
          59,
          57,
          54,
          52,
          49,
          46,
          44,
          42,
          40,
          38,
          36,
          34,
          32,
          30,
          28,
          26,
          24,
          23,
          22,
          21,
          20,
          19,
          18,
          17,
          16,
          15,
          14,
          13,
          12,
          11,
          10,
          9,
          8,
          7,
          6,
          5,
          4,
          3,
          2
         ],
         "xaxis": "x",
         "y": [
          1,
          2,
          2,
          1,
          1,
          1,
          24,
          12,
          5,
          3,
          2,
          1,
          23,
          21,
          20,
          17,
          15,
          13,
          9,
          8,
          7,
          5,
          1,
          79,
          76,
          72,
          60,
          59,
          51,
          44,
          42,
          34,
          32,
          27,
          26,
          24,
          21,
          18,
          17,
          16,
          13,
          11,
          3,
          2,
          1,
          0
         ],
         "yaxis": "y"
        },
        {
         "hovertemplate": "process=C0242379<br>n_clusters=%{x}<br>n_candidates=%{y}<extra></extra>",
         "legendgroup": "C0242379",
         "line": {
          "color": "#FECB52",
          "dash": "solid"
         },
         "marker": {
          "symbol": "circle"
         },
         "mode": "lines",
         "name": "C0242379",
         "showlegend": true,
         "type": "scattergl",
         "x": [
          74,
          70,
          66,
          63,
          60,
          58,
          56,
          54,
          52,
          50,
          48,
          46,
          44,
          42,
          40,
          38,
          36,
          34,
          33,
          32,
          31,
          30,
          29,
          28,
          27,
          26,
          25,
          24,
          23,
          22,
          21,
          20,
          19,
          18,
          17,
          16,
          15,
          14,
          13,
          12,
          11,
          10,
          9,
          8,
          7,
          6,
          5,
          4,
          3,
          2
         ],
         "xaxis": "x",
         "y": [
          1,
          1,
          3,
          1,
          32,
          28,
          24,
          18,
          15,
          10,
          9,
          8,
          7,
          4,
          3,
          2,
          1,
          128,
          125,
          121,
          110,
          106,
          105,
          98,
          88,
          87,
          82,
          73,
          70,
          63,
          62,
          58,
          57,
          55,
          36,
          35,
          31,
          25,
          22,
          20,
          17,
          16,
          11,
          10,
          8,
          5,
          4,
          2,
          1,
          0
         ],
         "yaxis": "y"
        },
        {
         "hovertemplate": "process=C0011853<br>n_clusters=%{x}<br>n_candidates=%{y}<extra></extra>",
         "legendgroup": "C0011853",
         "line": {
          "color": "#636efa",
          "dash": "solid"
         },
         "marker": {
          "symbol": "circle"
         },
         "mode": "lines",
         "name": "C0011853",
         "showlegend": true,
         "type": "scattergl",
         "x": [
          55,
          51,
          46,
          43,
          40,
          38,
          36,
          34,
          32,
          30,
          28,
          26,
          24,
          23,
          22,
          21,
          20,
          19,
          18,
          17,
          16,
          15,
          14,
          13,
          12,
          11,
          10,
          9,
          8,
          7,
          6,
          5,
          4,
          3
         ],
         "xaxis": "x",
         "y": [
          1,
          1,
          1,
          1,
          10,
          9,
          6,
          5,
          5,
          3,
          2,
          1,
          105,
          101,
          94,
          81,
          78,
          73,
          65,
          60,
          55,
          53,
          36,
          34,
          26,
          23,
          19,
          18,
          17,
          9,
          4,
          3,
          1,
          0
         ],
         "yaxis": "y"
        },
        {
         "hovertemplate": "process=C0022658<br>n_clusters=%{x}<br>n_candidates=%{y}<extra></extra>",
         "legendgroup": "C0022658",
         "line": {
          "color": "#EF553B",
          "dash": "solid"
         },
         "marker": {
          "symbol": "circle"
         },
         "mode": "lines",
         "name": "C0022658",
         "showlegend": true,
         "type": "scattergl",
         "x": [
          59,
          52,
          50,
          45,
          41,
          40,
          38,
          36,
          34,
          32,
          30,
          28,
          26,
          25,
          24,
          23,
          22,
          21,
          20,
          19,
          18,
          17,
          16,
          15,
          14,
          13,
          12,
          11,
          10,
          9,
          8,
          7,
          6,
          5,
          4,
          3
         ],
         "xaxis": "x",
         "y": [
          1,
          2,
          1,
          3,
          30,
          22,
          17,
          6,
          5,
          4,
          4,
          1,
          120,
          111,
          110,
          107,
          101,
          98,
          93,
          84,
          78,
          73,
          68,
          67,
          55,
          48,
          41,
          35,
          33,
          10,
          9,
          9,
          8,
          5,
          5,
          0
         ],
         "yaxis": "y"
        },
        {
         "hovertemplate": "process=C0751123<br>n_clusters=%{x}<br>n_candidates=%{y}<extra></extra>",
         "legendgroup": "C0751123",
         "line": {
          "color": "#00cc96",
          "dash": "solid"
         },
         "marker": {
          "symbol": "circle"
         },
         "mode": "lines",
         "name": "C0751123",
         "showlegend": true,
         "type": "scattergl",
         "x": [
          81,
          71,
          67,
          65,
          62,
          59,
          56,
          53,
          51,
          48,
          46,
          44,
          42,
          40,
          38,
          36,
          34,
          32,
          30,
          29,
          28,
          27,
          26,
          25,
          24,
          23,
          22,
          21,
          20,
          19,
          18,
          17,
          16,
          15,
          14,
          13,
          12,
          11,
          10,
          9,
          8,
          7,
          6,
          5,
          4,
          3,
          2
         ],
         "xaxis": "x",
         "y": [
          1,
          2,
          1,
          1,
          3,
          2,
          1,
          25,
          1,
          18,
          14,
          11,
          8,
          6,
          5,
          3,
          2,
          1,
          87,
          78,
          76,
          72,
          60,
          54,
          49,
          48,
          44,
          40,
          37,
          36,
          36,
          34,
          33,
          29,
          21,
          18,
          16,
          15,
          13,
          12,
          10,
          11,
          4,
          3,
          2,
          1,
          0
         ],
         "yaxis": "y"
        },
        {
         "hovertemplate": "process=C0029408<br>n_clusters=%{x}<br>n_candidates=%{y}<extra></extra>",
         "legendgroup": "C0029408",
         "line": {
          "color": "#ab63fa",
          "dash": "solid"
         },
         "marker": {
          "symbol": "circle"
         },
         "mode": "lines",
         "name": "C0029408",
         "showlegend": true,
         "type": "scattergl",
         "x": [
          53,
          44,
          38,
          35,
          32,
          30,
          27,
          25,
          24,
          22,
          20,
          18,
          16,
          14,
          13,
          12,
          11,
          10,
          9,
          8,
          7,
          6,
          5,
          4,
          3
         ],
         "xaxis": "x",
         "y": [
          1,
          1,
          6,
          5,
          2,
          1,
          20,
          18,
          11,
          8,
          7,
          4,
          2,
          97,
          93,
          78,
          58,
          54,
          23,
          17,
          13,
          10,
          6,
          1,
          0
         ],
         "yaxis": "y"
        },
        {
         "hovertemplate": "process=C0152427<br>n_clusters=%{x}<br>n_candidates=%{y}<extra></extra>",
         "legendgroup": "C0152427",
         "line": {
          "color": "#FFA15A",
          "dash": "solid"
         },
         "marker": {
          "symbol": "circle"
         },
         "mode": "lines",
         "name": "C0152427",
         "showlegend": true,
         "type": "scattergl",
         "x": [
          52,
          47,
          43,
          40,
          37,
          34,
          31,
          28,
          26,
          24,
          22,
          20,
          19,
          18,
          17,
          16,
          15,
          14,
          13,
          12,
          11,
          10,
          9,
          8,
          7,
          6,
          5,
          4,
          3
         ],
         "xaxis": "x",
         "y": [
          1,
          1,
          2,
          1,
          6,
          5,
          3,
          8,
          5,
          2,
          1,
          105,
          101,
          95,
          87,
          75,
          62,
          60,
          57,
          37,
          26,
          18,
          14,
          8,
          3,
          2,
          1,
          1,
          0
         ],
         "yaxis": "y"
        },
        {
         "hovertemplate": "process=C0004238<br>n_clusters=%{x}<br>n_candidates=%{y}<extra></extra>",
         "legendgroup": "C0004238",
         "line": {
          "color": "#19d3f3",
          "dash": "solid"
         },
         "marker": {
          "symbol": "circle"
         },
         "mode": "lines",
         "name": "C0004238",
         "showlegend": true,
         "type": "scattergl",
         "x": [
          101,
          92,
          85,
          80,
          74,
          69,
          65,
          63,
          60,
          58,
          55,
          53,
          50,
          47,
          45,
          43,
          41,
          39,
          37,
          35,
          33,
          31,
          29,
          27,
          26,
          25,
          24,
          23,
          22,
          21,
          20,
          19,
          18,
          17,
          16,
          15,
          14,
          13,
          12,
          11,
          10,
          9,
          8,
          7,
          6,
          5,
          4,
          3,
          2
         ],
         "xaxis": "x",
         "y": [
          1,
          2,
          2,
          1,
          1,
          1,
          25,
          13,
          12,
          5,
          3,
          2,
          1,
          21,
          20,
          18,
          15,
          13,
          9,
          8,
          7,
          5,
          1,
          92,
          85,
          82,
          78,
          66,
          65,
          57,
          50,
          48,
          40,
          38,
          33,
          32,
          30,
          26,
          23,
          20,
          19,
          18,
          15,
          13,
          5,
          4,
          3,
          1,
          0
         ],
         "yaxis": "y"
        },
        {
         "hovertemplate": "process=C0002736<br>n_clusters=%{x}<br>n_candidates=%{y}<extra></extra>",
         "legendgroup": "C0002736",
         "line": {
          "color": "#FF6692",
          "dash": "solid"
         },
         "marker": {
          "symbol": "circle"
         },
         "mode": "lines",
         "name": "C0002736",
         "showlegend": true,
         "type": "scattergl",
         "x": [
          33,
          27,
          24,
          21,
          19,
          17,
          15,
          14,
          13,
          12,
          11,
          10,
          9,
          8,
          7,
          6,
          5,
          4,
          3,
          2
         ],
         "xaxis": "x",
         "y": [
          1,
          1,
          1,
          10,
          3,
          1,
          50,
          49,
          44,
          31,
          26,
          13,
          10,
          9,
          6,
          4,
          3,
          3,
          2,
          0
         ],
         "yaxis": "y"
        },
        {
         "hovertemplate": "process=C0751494<br>n_clusters=%{x}<br>n_candidates=%{y}<extra></extra>",
         "legendgroup": "C0751494",
         "line": {
          "color": "#B6E880",
          "dash": "solid"
         },
         "marker": {
          "symbol": "circle"
         },
         "mode": "lines",
         "name": "C0751494",
         "showlegend": true,
         "type": "scattergl",
         "x": [
          81,
          71,
          67,
          65,
          62,
          59,
          56,
          53,
          51,
          48,
          46,
          44,
          42,
          40,
          38,
          36,
          34,
          32,
          30,
          29,
          28,
          27,
          26,
          25,
          24,
          23,
          22,
          21,
          20,
          19,
          18,
          17,
          16,
          15,
          14,
          13,
          12,
          11,
          10,
          9,
          8,
          7,
          6,
          5,
          4,
          3,
          2
         ],
         "xaxis": "x",
         "y": [
          1,
          2,
          1,
          1,
          3,
          2,
          1,
          25,
          1,
          18,
          14,
          11,
          8,
          6,
          5,
          3,
          2,
          1,
          87,
          78,
          76,
          72,
          60,
          54,
          49,
          48,
          44,
          40,
          37,
          36,
          36,
          34,
          33,
          29,
          21,
          18,
          16,
          15,
          13,
          12,
          10,
          11,
          4,
          3,
          2,
          1,
          0
         ],
         "yaxis": "y"
        },
        {
         "hovertemplate": "process=C0458247<br>n_clusters=%{x}<br>n_candidates=%{y}<extra></extra>",
         "legendgroup": "C0458247",
         "line": {
          "color": "#FF97FF",
          "dash": "solid"
         },
         "marker": {
          "symbol": "circle"
         },
         "mode": "lines",
         "name": "C0458247",
         "showlegend": true,
         "type": "scattergl",
         "x": [
          57,
          52,
          49,
          46,
          43,
          40,
          36,
          34,
          32,
          30,
          28,
          26,
          24,
          23,
          22,
          21,
          20,
          19,
          18,
          17,
          16,
          15,
          14,
          13,
          12,
          11,
          10,
          9,
          8,
          7,
          6,
          5,
          4,
          3
         ],
         "xaxis": "x",
         "y": [
          1,
          1,
          6,
          4,
          1,
          1,
          10,
          8,
          5,
          4,
          2,
          1,
          68,
          66,
          57,
          56,
          54,
          48,
          40,
          27,
          24,
          21,
          18,
          14,
          11,
          10,
          10,
          8,
          5,
          5,
          4,
          3,
          1,
          0
         ],
         "yaxis": "y"
        },
        {
         "hovertemplate": "process=C0041755<br>n_clusters=%{x}<br>n_candidates=%{y}<extra></extra>",
         "legendgroup": "C0041755",
         "line": {
          "color": "#FECB52",
          "dash": "solid"
         },
         "marker": {
          "symbol": "circle"
         },
         "mode": "lines",
         "name": "C0041755",
         "showlegend": true,
         "type": "scattergl",
         "x": [
          56,
          51,
          47,
          44,
          42,
          40,
          39,
          37,
          35,
          33,
          31,
          29,
          27,
          25,
          23,
          21,
          20,
          19,
          18,
          17,
          16,
          15,
          14,
          13,
          12,
          11,
          10,
          9,
          8,
          7,
          6,
          5,
          4,
          3
         ],
         "xaxis": "x",
         "y": [
          1,
          3,
          2,
          4,
          2,
          27,
          18,
          18,
          9,
          8,
          7,
          4,
          3,
          2,
          1,
          96,
          89,
          73,
          72,
          70,
          67,
          65,
          61,
          56,
          53,
          46,
          31,
          28,
          21,
          11,
          8,
          3,
          1,
          0
         ],
         "yaxis": "y"
        }
       ],
       "layout": {
        "legend": {
         "title": {
          "text": "process"
         },
         "tracegroupgap": 0
        },
        "margin": {
         "t": 60
        },
        "template": {
         "data": {
          "bar": [
           {
            "error_x": {
             "color": "#2a3f5f"
            },
            "error_y": {
             "color": "#2a3f5f"
            },
            "marker": {
             "line": {
              "color": "#E5ECF6",
              "width": 0.5
             },
             "pattern": {
              "fillmode": "overlay",
              "size": 10,
              "solidity": 0.2
             }
            },
            "type": "bar"
           }
          ],
          "barpolar": [
           {
            "marker": {
             "line": {
              "color": "#E5ECF6",
              "width": 0.5
             },
             "pattern": {
              "fillmode": "overlay",
              "size": 10,
              "solidity": 0.2
             }
            },
            "type": "barpolar"
           }
          ],
          "carpet": [
           {
            "aaxis": {
             "endlinecolor": "#2a3f5f",
             "gridcolor": "white",
             "linecolor": "white",
             "minorgridcolor": "white",
             "startlinecolor": "#2a3f5f"
            },
            "baxis": {
             "endlinecolor": "#2a3f5f",
             "gridcolor": "white",
             "linecolor": "white",
             "minorgridcolor": "white",
             "startlinecolor": "#2a3f5f"
            },
            "type": "carpet"
           }
          ],
          "choropleth": [
           {
            "colorbar": {
             "outlinewidth": 0,
             "ticks": ""
            },
            "type": "choropleth"
           }
          ],
          "contour": [
           {
            "colorbar": {
             "outlinewidth": 0,
             "ticks": ""
            },
            "colorscale": [
             [
              0,
              "#0d0887"
             ],
             [
              0.1111111111111111,
              "#46039f"
             ],
             [
              0.2222222222222222,
              "#7201a8"
             ],
             [
              0.3333333333333333,
              "#9c179e"
             ],
             [
              0.4444444444444444,
              "#bd3786"
             ],
             [
              0.5555555555555556,
              "#d8576b"
             ],
             [
              0.6666666666666666,
              "#ed7953"
             ],
             [
              0.7777777777777778,
              "#fb9f3a"
             ],
             [
              0.8888888888888888,
              "#fdca26"
             ],
             [
              1,
              "#f0f921"
             ]
            ],
            "type": "contour"
           }
          ],
          "contourcarpet": [
           {
            "colorbar": {
             "outlinewidth": 0,
             "ticks": ""
            },
            "type": "contourcarpet"
           }
          ],
          "heatmap": [
           {
            "colorbar": {
             "outlinewidth": 0,
             "ticks": ""
            },
            "colorscale": [
             [
              0,
              "#0d0887"
             ],
             [
              0.1111111111111111,
              "#46039f"
             ],
             [
              0.2222222222222222,
              "#7201a8"
             ],
             [
              0.3333333333333333,
              "#9c179e"
             ],
             [
              0.4444444444444444,
              "#bd3786"
             ],
             [
              0.5555555555555556,
              "#d8576b"
             ],
             [
              0.6666666666666666,
              "#ed7953"
             ],
             [
              0.7777777777777778,
              "#fb9f3a"
             ],
             [
              0.8888888888888888,
              "#fdca26"
             ],
             [
              1,
              "#f0f921"
             ]
            ],
            "type": "heatmap"
           }
          ],
          "heatmapgl": [
           {
            "colorbar": {
             "outlinewidth": 0,
             "ticks": ""
            },
            "colorscale": [
             [
              0,
              "#0d0887"
             ],
             [
              0.1111111111111111,
              "#46039f"
             ],
             [
              0.2222222222222222,
              "#7201a8"
             ],
             [
              0.3333333333333333,
              "#9c179e"
             ],
             [
              0.4444444444444444,
              "#bd3786"
             ],
             [
              0.5555555555555556,
              "#d8576b"
             ],
             [
              0.6666666666666666,
              "#ed7953"
             ],
             [
              0.7777777777777778,
              "#fb9f3a"
             ],
             [
              0.8888888888888888,
              "#fdca26"
             ],
             [
              1,
              "#f0f921"
             ]
            ],
            "type": "heatmapgl"
           }
          ],
          "histogram": [
           {
            "marker": {
             "pattern": {
              "fillmode": "overlay",
              "size": 10,
              "solidity": 0.2
             }
            },
            "type": "histogram"
           }
          ],
          "histogram2d": [
           {
            "colorbar": {
             "outlinewidth": 0,
             "ticks": ""
            },
            "colorscale": [
             [
              0,
              "#0d0887"
             ],
             [
              0.1111111111111111,
              "#46039f"
             ],
             [
              0.2222222222222222,
              "#7201a8"
             ],
             [
              0.3333333333333333,
              "#9c179e"
             ],
             [
              0.4444444444444444,
              "#bd3786"
             ],
             [
              0.5555555555555556,
              "#d8576b"
             ],
             [
              0.6666666666666666,
              "#ed7953"
             ],
             [
              0.7777777777777778,
              "#fb9f3a"
             ],
             [
              0.8888888888888888,
              "#fdca26"
             ],
             [
              1,
              "#f0f921"
             ]
            ],
            "type": "histogram2d"
           }
          ],
          "histogram2dcontour": [
           {
            "colorbar": {
             "outlinewidth": 0,
             "ticks": ""
            },
            "colorscale": [
             [
              0,
              "#0d0887"
             ],
             [
              0.1111111111111111,
              "#46039f"
             ],
             [
              0.2222222222222222,
              "#7201a8"
             ],
             [
              0.3333333333333333,
              "#9c179e"
             ],
             [
              0.4444444444444444,
              "#bd3786"
             ],
             [
              0.5555555555555556,
              "#d8576b"
             ],
             [
              0.6666666666666666,
              "#ed7953"
             ],
             [
              0.7777777777777778,
              "#fb9f3a"
             ],
             [
              0.8888888888888888,
              "#fdca26"
             ],
             [
              1,
              "#f0f921"
             ]
            ],
            "type": "histogram2dcontour"
           }
          ],
          "mesh3d": [
           {
            "colorbar": {
             "outlinewidth": 0,
             "ticks": ""
            },
            "type": "mesh3d"
           }
          ],
          "parcoords": [
           {
            "line": {
             "colorbar": {
              "outlinewidth": 0,
              "ticks": ""
             }
            },
            "type": "parcoords"
           }
          ],
          "pie": [
           {
            "automargin": true,
            "type": "pie"
           }
          ],
          "scatter": [
           {
            "marker": {
             "colorbar": {
              "outlinewidth": 0,
              "ticks": ""
             }
            },
            "type": "scatter"
           }
          ],
          "scatter3d": [
           {
            "line": {
             "colorbar": {
              "outlinewidth": 0,
              "ticks": ""
             }
            },
            "marker": {
             "colorbar": {
              "outlinewidth": 0,
              "ticks": ""
             }
            },
            "type": "scatter3d"
           }
          ],
          "scattercarpet": [
           {
            "marker": {
             "colorbar": {
              "outlinewidth": 0,
              "ticks": ""
             }
            },
            "type": "scattercarpet"
           }
          ],
          "scattergeo": [
           {
            "marker": {
             "colorbar": {
              "outlinewidth": 0,
              "ticks": ""
             }
            },
            "type": "scattergeo"
           }
          ],
          "scattergl": [
           {
            "marker": {
             "colorbar": {
              "outlinewidth": 0,
              "ticks": ""
             }
            },
            "type": "scattergl"
           }
          ],
          "scattermapbox": [
           {
            "marker": {
             "colorbar": {
              "outlinewidth": 0,
              "ticks": ""
             }
            },
            "type": "scattermapbox"
           }
          ],
          "scatterpolar": [
           {
            "marker": {
             "colorbar": {
              "outlinewidth": 0,
              "ticks": ""
             }
            },
            "type": "scatterpolar"
           }
          ],
          "scatterpolargl": [
           {
            "marker": {
             "colorbar": {
              "outlinewidth": 0,
              "ticks": ""
             }
            },
            "type": "scatterpolargl"
           }
          ],
          "scatterternary": [
           {
            "marker": {
             "colorbar": {
              "outlinewidth": 0,
              "ticks": ""
             }
            },
            "type": "scatterternary"
           }
          ],
          "surface": [
           {
            "colorbar": {
             "outlinewidth": 0,
             "ticks": ""
            },
            "colorscale": [
             [
              0,
              "#0d0887"
             ],
             [
              0.1111111111111111,
              "#46039f"
             ],
             [
              0.2222222222222222,
              "#7201a8"
             ],
             [
              0.3333333333333333,
              "#9c179e"
             ],
             [
              0.4444444444444444,
              "#bd3786"
             ],
             [
              0.5555555555555556,
              "#d8576b"
             ],
             [
              0.6666666666666666,
              "#ed7953"
             ],
             [
              0.7777777777777778,
              "#fb9f3a"
             ],
             [
              0.8888888888888888,
              "#fdca26"
             ],
             [
              1,
              "#f0f921"
             ]
            ],
            "type": "surface"
           }
          ],
          "table": [
           {
            "cells": {
             "fill": {
              "color": "#EBF0F8"
             },
             "line": {
              "color": "white"
             }
            },
            "header": {
             "fill": {
              "color": "#C8D4E3"
             },
             "line": {
              "color": "white"
             }
            },
            "type": "table"
           }
          ]
         },
         "layout": {
          "annotationdefaults": {
           "arrowcolor": "#2a3f5f",
           "arrowhead": 0,
           "arrowwidth": 1
          },
          "autotypenumbers": "strict",
          "coloraxis": {
           "colorbar": {
            "outlinewidth": 0,
            "ticks": ""
           }
          },
          "colorscale": {
           "diverging": [
            [
             0,
             "#8e0152"
            ],
            [
             0.1,
             "#c51b7d"
            ],
            [
             0.2,
             "#de77ae"
            ],
            [
             0.3,
             "#f1b6da"
            ],
            [
             0.4,
             "#fde0ef"
            ],
            [
             0.5,
             "#f7f7f7"
            ],
            [
             0.6,
             "#e6f5d0"
            ],
            [
             0.7,
             "#b8e186"
            ],
            [
             0.8,
             "#7fbc41"
            ],
            [
             0.9,
             "#4d9221"
            ],
            [
             1,
             "#276419"
            ]
           ],
           "sequential": [
            [
             0,
             "#0d0887"
            ],
            [
             0.1111111111111111,
             "#46039f"
            ],
            [
             0.2222222222222222,
             "#7201a8"
            ],
            [
             0.3333333333333333,
             "#9c179e"
            ],
            [
             0.4444444444444444,
             "#bd3786"
            ],
            [
             0.5555555555555556,
             "#d8576b"
            ],
            [
             0.6666666666666666,
             "#ed7953"
            ],
            [
             0.7777777777777778,
             "#fb9f3a"
            ],
            [
             0.8888888888888888,
             "#fdca26"
            ],
            [
             1,
             "#f0f921"
            ]
           ],
           "sequentialminus": [
            [
             0,
             "#0d0887"
            ],
            [
             0.1111111111111111,
             "#46039f"
            ],
            [
             0.2222222222222222,
             "#7201a8"
            ],
            [
             0.3333333333333333,
             "#9c179e"
            ],
            [
             0.4444444444444444,
             "#bd3786"
            ],
            [
             0.5555555555555556,
             "#d8576b"
            ],
            [
             0.6666666666666666,
             "#ed7953"
            ],
            [
             0.7777777777777778,
             "#fb9f3a"
            ],
            [
             0.8888888888888888,
             "#fdca26"
            ],
            [
             1,
             "#f0f921"
            ]
           ]
          },
          "colorway": [
           "#636efa",
           "#EF553B",
           "#00cc96",
           "#ab63fa",
           "#FFA15A",
           "#19d3f3",
           "#FF6692",
           "#B6E880",
           "#FF97FF",
           "#FECB52"
          ],
          "font": {
           "color": "#2a3f5f"
          },
          "geo": {
           "bgcolor": "white",
           "lakecolor": "white",
           "landcolor": "#E5ECF6",
           "showlakes": true,
           "showland": true,
           "subunitcolor": "white"
          },
          "hoverlabel": {
           "align": "left"
          },
          "hovermode": "closest",
          "mapbox": {
           "style": "light"
          },
          "paper_bgcolor": "white",
          "plot_bgcolor": "#E5ECF6",
          "polar": {
           "angularaxis": {
            "gridcolor": "white",
            "linecolor": "white",
            "ticks": ""
           },
           "bgcolor": "#E5ECF6",
           "radialaxis": {
            "gridcolor": "white",
            "linecolor": "white",
            "ticks": ""
           }
          },
          "scene": {
           "xaxis": {
            "backgroundcolor": "#E5ECF6",
            "gridcolor": "white",
            "gridwidth": 2,
            "linecolor": "white",
            "showbackground": true,
            "ticks": "",
            "zerolinecolor": "white"
           },
           "yaxis": {
            "backgroundcolor": "#E5ECF6",
            "gridcolor": "white",
            "gridwidth": 2,
            "linecolor": "white",
            "showbackground": true,
            "ticks": "",
            "zerolinecolor": "white"
           },
           "zaxis": {
            "backgroundcolor": "#E5ECF6",
            "gridcolor": "white",
            "gridwidth": 2,
            "linecolor": "white",
            "showbackground": true,
            "ticks": "",
            "zerolinecolor": "white"
           }
          },
          "shapedefaults": {
           "line": {
            "color": "#2a3f5f"
           }
          },
          "ternary": {
           "aaxis": {
            "gridcolor": "white",
            "linecolor": "white",
            "ticks": ""
           },
           "baxis": {
            "gridcolor": "white",
            "linecolor": "white",
            "ticks": ""
           },
           "bgcolor": "#E5ECF6",
           "caxis": {
            "gridcolor": "white",
            "linecolor": "white",
            "ticks": ""
           }
          },
          "title": {
           "x": 0.05
          },
          "xaxis": {
           "automargin": true,
           "gridcolor": "white",
           "linecolor": "white",
           "ticks": "",
           "title": {
            "standoff": 15
           },
           "zerolinecolor": "white",
           "zerolinewidth": 2
          },
          "yaxis": {
           "automargin": true,
           "gridcolor": "white",
           "linecolor": "white",
           "ticks": "",
           "title": {
            "standoff": 15
           },
           "zerolinecolor": "white",
           "zerolinewidth": 2
          }
         }
        },
        "xaxis": {
         "anchor": "y",
         "autorange": "reversed",
         "domain": [
          0,
          1
         ],
         "title": {
          "text": "n_clusters"
         }
        },
        "yaxis": {
         "anchor": "x",
         "domain": [
          0,
          1
         ],
         "title": {
          "text": "n_candidates"
         }
        }
       }
      }
     },
     "metadata": {},
     "output_type": "display_data"
    }
   ],
   "source": [
    "import plotly.express as px\n",
    "fig = px.line(cluster_analysis, x=\"n_clusters\", y=\"n_candidates\", color=\"process\")\n",
    "fig.update_layout(xaxis = dict(autorange = 'reversed'))\n",
    "fig.show()"
   ]
  }
 ],
 "metadata": {
  "interpreter": {
   "hash": "d5176552db7e1d31da44fbf681b3b7735b94866973afd6a4b259b8a50eddf61e"
  },
  "kernelspec": {
   "display_name": "Python 3.8.8 ('base')",
   "language": "python",
   "name": "python3"
  },
  "language_info": {
   "codemirror_mode": {
    "name": "ipython",
    "version": 3
   },
   "file_extension": ".py",
   "mimetype": "text/x-python",
   "name": "python",
   "nbconvert_exporter": "python",
   "pygments_lexer": "ipython3",
   "version": "3.8.8"
  },
  "orig_nbformat": 4
 },
 "nbformat": 4,
 "nbformat_minor": 2
}
