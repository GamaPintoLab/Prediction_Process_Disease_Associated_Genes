{
 "cells": [
  {
   "cell_type": "code",
   "execution_count": 1,
   "id": "7b1dbe72",
   "metadata": {},
   "outputs": [],
   "source": [
    "import pandas as pd\n",
    "import numpy as np \n",
    "from igraph import Graph\n",
    "import networkx as nx\n",
    "from ast import literal_eval\n",
    "import importlib\n",
    "import steiner_tree"
   ]
  },
  {
   "cell_type": "code",
   "execution_count": 2,
   "id": "d383ec64",
   "metadata": {},
   "outputs": [],
   "source": [
    "graph = Graph.Read_GML('../../data/processed/graph_apid_huri')\n",
    "disgenet_protein_index = pd.read_csv('../../data/processed/disgenet_proteins_indexes_apid_huri.csv')\n",
    "adj_matrix_apid_huri = np.load(\"../../data/processed/adjacency_matrix_apid_huri.npy\")\n",
    "ids = graph.vs['name']"
   ]
  },
  {
   "cell_type": "code",
   "execution_count": 12,
   "id": "2d15566d",
   "metadata": {},
   "outputs": [],
   "source": [
    "disgenet_protein_index['protein_index'] = disgenet_protein_index['protein_index'].apply(literal_eval)\n",
    "disgenet_protein_index['proteins_ids'] = disgenet_protein_index['proteins_ids'].apply(literal_eval)"
   ]
  },
  {
   "cell_type": "code",
   "execution_count": 13,
   "id": "5cf8c749",
   "metadata": {},
   "outputs": [
    {
     "data": {
      "application/vnd.jupyter.widget-view+json": {
       "model_id": "de9e272bef4347c4bc1868c85a638abc",
       "version_major": 2,
       "version_minor": 0
      },
      "text/plain": [
       "  0%|          | 0/301 [00:00<?, ?it/s]"
      ]
     },
     "metadata": {},
     "output_type": "display_data"
    }
   ],
   "source": [
    "importlib.reload(steiner_tree)\n",
    "from tqdm.notebook import tqdm\n",
    "tqdm.pandas()\n",
    "disgenet_protein_index['main_component'], disgenet_protein_index['conservative_module'], disgenet_protein_index['added_nodes'] = disgenet_protein_index.progress_apply(lambda row: steiner_tree.sca(row['protein_index'],graph,adj_matrix_apid_huri), axis=1, result_type='expand').T.values"
   ]
  },
  {
   "cell_type": "code",
   "execution_count": 15,
   "id": "2293b79e",
   "metadata": {},
   "outputs": [],
   "source": [
    "disgenet_protein_index['len_main_component'] = disgenet_protein_index['main_component'].apply(lambda x: len(x))\n",
    "disgenet_protein_index['len_cm'] = disgenet_protein_index['conservative_module'].apply(lambda x: len(x))\n",
    "disgenet_protein_index['len_added_nodes'] = disgenet_protein_index['added_nodes'].apply(lambda x: len(x))"
   ]
  },
  {
   "cell_type": "code",
   "execution_count": null,
   "id": "26081f8f",
   "metadata": {},
   "outputs": [],
   "source": [
    "disgenet_protein_index['main_component_ids'] = disgenet_protein_index.apply(lambda row: [ids[i] for i in row['main_component']], axis=1)\n",
    "disgenet_protein_index['conservative_module_ids'] = disgenet_protein_index.apply(lambda row: [ids[i] for i in row['conservative_module']], axis=1)\n",
    "disgenet_protein_index['added_nodes_ids'] = disgenet_protein_index.apply(lambda row: [ids[i] for i in row['added_nodes']], axis=1)"
   ]
  },
  {
   "cell_type": "code",
   "execution_count": 18,
   "id": "f45ab36a",
   "metadata": {},
   "outputs": [],
   "source": [
    "disgenet_protein_index.to_csv('../../data/processed/disgenet_prot_index_main_comp.csv', index=False)"
   ]
  }
 ],
 "metadata": {
  "kernelspec": {
   "display_name": "Python 3",
   "language": "python",
   "name": "python3"
  },
  "language_info": {
   "codemirror_mode": {
    "name": "ipython",
    "version": 3
   },
   "file_extension": ".py",
   "mimetype": "text/x-python",
   "name": "python",
   "nbconvert_exporter": "python",
   "pygments_lexer": "ipython3",
   "version": "3.8.8"
  }
 },
 "nbformat": 4,
 "nbformat_minor": 5
}
