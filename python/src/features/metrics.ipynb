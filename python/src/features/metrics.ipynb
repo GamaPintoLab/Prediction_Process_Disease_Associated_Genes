{
 "cells": [
  {
   "cell_type": "markdown",
   "id": "45391e72",
   "metadata": {},
   "source": [
    "# 0. Imports & Data Load"
   ]
  },
  {
   "cell_type": "code",
   "execution_count": 24,
   "id": "7edcc355",
   "metadata": {},
   "outputs": [],
   "source": [
    "import pandas as pd\n",
    "from igraph import Graph\n",
    "import disease_process_proteins\n",
    "import metrics_functions\n",
    "import importlib\n",
    "import numpy as np\n",
    "from ast import literal_eval\n",
    "import pickle\n",
    "import matplotlib.pyplot as plt\n",
    "from tqdm.notebook import tqdm\n",
    "import plotly.graph_objects as go\n",
    "from plotly.offline import iplot"
   ]
  },
  {
   "cell_type": "code",
   "execution_count": 25,
   "id": "2007394e",
   "metadata": {},
   "outputs": [],
   "source": [
    "reactome_proteins_indexes_df = pd.read_csv(\"../../data/processed/reactome_proteins_indexes.csv\", sep=',', header=0)\n",
    "disgenet_proteins_indexes_df = pd.read_csv(\"../../data/processed/disgenet_proteins_indexes.csv\", sep=',', header=0)\n",
    "protein_ids_df = pd.read_csv(\"../../data/processed/protein_ids.csv\", sep=',', header=0)\n",
    "adj_matrix = np.load(\"../../data/processed/adjacency_matrix.npy\")\n",
    "ppi_80 = np.load(\"../../data/processed/ppis/ppis_red80.npy\", allow_pickle=True)"
   ]
  },
  {
   "cell_type": "code",
   "execution_count": 26,
   "id": "5a3f2c1f",
   "metadata": {},
   "outputs": [],
   "source": [
    "reactome_proteins_indexes_df['protein_index'] = reactome_proteins_indexes_df['protein_index'].apply(literal_eval)\n",
    "disgenet_proteins_indexes_df['protein_index'] = disgenet_proteins_indexes_df['protein_index'].apply(literal_eval)\n",
    "reactome_proteins_indexes_df['proteins_ids'] = reactome_proteins_indexes_df['proteins_ids'].apply(literal_eval)\n",
    "disgenet_proteins_indexes_df['proteins_ids'] = disgenet_proteins_indexes_df['proteins_ids'].apply(literal_eval)"
   ]
  },
  {
   "cell_type": "code",
   "execution_count": 27,
   "id": "cfe4931f",
   "metadata": {},
   "outputs": [],
   "source": [
    "graph = Graph.Read_GML(\"../../data/processed/graph\")"
   ]
  },
  {
   "cell_type": "markdown",
   "id": "d2a1a051",
   "metadata": {},
   "source": [
    "# 1. Target Process Metrics"
   ]
  },
  {
   "cell_type": "markdown",
   "id": "cf0000ef",
   "metadata": {},
   "source": [
    "## 1.1. Hypergeometric Test"
   ]
  },
  {
   "cell_type": "markdown",
   "id": "bc7f16d3",
   "metadata": {},
   "source": [
    "For a given protein and given process, the number of interactions formed between the protein and the proteins of the process are summed. The hypergeometric test is calculated given this number, the number total number of interactions of the protein,the number of proteins of the process and the total number of proteins. For an easier analysis, the p-values are presented in a -log10 form (higher -log10 means lower p-value)."
   ]
  },
  {
   "cell_type": "code",
   "execution_count": 6,
   "id": "df7a0c0a",
   "metadata": {},
   "outputs": [
    {
     "data": {
      "application/vnd.jupyter.widget-view+json": {
       "model_id": "b4f33c34a2984b18b4a1acf319c63f8c",
       "version_major": 2,
       "version_minor": 0
      },
      "text/plain": [
       "  0%|          | 0/21302 [00:00<?, ?it/s]"
      ]
     },
     "metadata": {},
     "output_type": "display_data"
    }
   ],
   "source": [
    "importlib.reload(metrics_functions)\n",
    "proteins_neglogp_byprocess = metrics_functions.hypergeometric_test(graph, reactome_proteins_indexes_df, adj_matrix)"
   ]
  },
  {
   "cell_type": "code",
   "execution_count": 7,
   "id": "2e83a3ad",
   "metadata": {},
   "outputs": [
    {
     "data": {
      "text/html": [
       "<div>\n",
       "<style scoped>\n",
       "    .dataframe tbody tr th:only-of-type {\n",
       "        vertical-align: middle;\n",
       "    }\n",
       "\n",
       "    .dataframe tbody tr th {\n",
       "        vertical-align: top;\n",
       "    }\n",
       "\n",
       "    .dataframe thead th {\n",
       "        text-align: right;\n",
       "    }\n",
       "</style>\n",
       "<table border=\"1\" class=\"dataframe\">\n",
       "  <thead>\n",
       "    <tr style=\"text-align: right;\">\n",
       "      <th></th>\n",
       "      <th>R-HSA-1031716</th>\n",
       "      <th>R-HSA-112379</th>\n",
       "      <th>R-HSA-112385</th>\n",
       "      <th>R-HSA-1168640</th>\n",
       "      <th>R-HSA-1214188</th>\n",
       "      <th>R-HSA-1234159</th>\n",
       "      <th>R-HSA-141409</th>\n",
       "      <th>R-HSA-141422</th>\n",
       "      <th>R-HSA-141431</th>\n",
       "      <th>R-HSA-141439</th>\n",
       "      <th>...</th>\n",
       "      <th>R-HSA-9670149</th>\n",
       "      <th>R-HSA-9698928</th>\n",
       "      <th>R-HSA-9710490</th>\n",
       "      <th>R-HSA-977224</th>\n",
       "      <th>R-HSA-983140</th>\n",
       "      <th>R-HSA-983147</th>\n",
       "      <th>R-HSA-983156</th>\n",
       "      <th>R-HSA-983157</th>\n",
       "      <th>R-HSA-983259</th>\n",
       "      <th>R-HSA-983266</th>\n",
       "    </tr>\n",
       "  </thead>\n",
       "  <tbody>\n",
       "    <tr>\n",
       "      <th>7SK.1</th>\n",
       "      <td>0.006866</td>\n",
       "      <td>0.005453</td>\n",
       "      <td>0.005453</td>\n",
       "      <td>0.004794</td>\n",
       "      <td>0.005547</td>\n",
       "      <td>0.005830</td>\n",
       "      <td>0.009034</td>\n",
       "      <td>0.009034</td>\n",
       "      <td>0.009034</td>\n",
       "      <td>0.009034</td>\n",
       "      <td>...</td>\n",
       "      <td>0.006112</td>\n",
       "      <td>0.005736</td>\n",
       "      <td>0.006207</td>\n",
       "      <td>0.005359</td>\n",
       "      <td>0.023898</td>\n",
       "      <td>0.020290</td>\n",
       "      <td>0.023898</td>\n",
       "      <td>0.023898</td>\n",
       "      <td>0.005547</td>\n",
       "      <td>0.005547</td>\n",
       "    </tr>\n",
       "    <tr>\n",
       "      <th>A1BG</th>\n",
       "      <td>0.116811</td>\n",
       "      <td>0.092776</td>\n",
       "      <td>0.092776</td>\n",
       "      <td>2.585937</td>\n",
       "      <td>0.094378</td>\n",
       "      <td>2.407728</td>\n",
       "      <td>0.153698</td>\n",
       "      <td>0.153698</td>\n",
       "      <td>0.153698</td>\n",
       "      <td>0.153698</td>\n",
       "      <td>...</td>\n",
       "      <td>0.103990</td>\n",
       "      <td>0.097582</td>\n",
       "      <td>0.105593</td>\n",
       "      <td>0.091174</td>\n",
       "      <td>4.980567</td>\n",
       "      <td>5.414976</td>\n",
       "      <td>4.980567</td>\n",
       "      <td>4.980567</td>\n",
       "      <td>0.094378</td>\n",
       "      <td>0.094378</td>\n",
       "    </tr>\n",
       "    <tr>\n",
       "      <th>A1CF</th>\n",
       "      <td>0.116811</td>\n",
       "      <td>0.092776</td>\n",
       "      <td>0.092776</td>\n",
       "      <td>2.585937</td>\n",
       "      <td>0.094378</td>\n",
       "      <td>0.099184</td>\n",
       "      <td>0.153698</td>\n",
       "      <td>0.153698</td>\n",
       "      <td>0.153698</td>\n",
       "      <td>0.153698</td>\n",
       "      <td>...</td>\n",
       "      <td>0.103990</td>\n",
       "      <td>0.097582</td>\n",
       "      <td>0.105593</td>\n",
       "      <td>0.091174</td>\n",
       "      <td>0.406565</td>\n",
       "      <td>0.345189</td>\n",
       "      <td>0.406565</td>\n",
       "      <td>0.406565</td>\n",
       "      <td>0.094378</td>\n",
       "      <td>0.094378</td>\n",
       "    </tr>\n",
       "    <tr>\n",
       "      <th>A2M</th>\n",
       "      <td>1.062935</td>\n",
       "      <td>1.155290</td>\n",
       "      <td>1.155290</td>\n",
       "      <td>1.219699</td>\n",
       "      <td>4.214351</td>\n",
       "      <td>0.571015</td>\n",
       "      <td>0.884863</td>\n",
       "      <td>0.884863</td>\n",
       "      <td>0.884863</td>\n",
       "      <td>0.884863</td>\n",
       "      <td>...</td>\n",
       "      <td>2.326305</td>\n",
       "      <td>1.132384</td>\n",
       "      <td>3.936025</td>\n",
       "      <td>4.301489</td>\n",
       "      <td>2.914667</td>\n",
       "      <td>3.391239</td>\n",
       "      <td>2.914667</td>\n",
       "      <td>2.914667</td>\n",
       "      <td>1.147370</td>\n",
       "      <td>1.147370</td>\n",
       "    </tr>\n",
       "    <tr>\n",
       "      <th>A2ML1</th>\n",
       "      <td>1.851789</td>\n",
       "      <td>0.150153</td>\n",
       "      <td>0.150153</td>\n",
       "      <td>2.154418</td>\n",
       "      <td>0.152746</td>\n",
       "      <td>0.160524</td>\n",
       "      <td>0.248752</td>\n",
       "      <td>0.248752</td>\n",
       "      <td>0.248752</td>\n",
       "      <td>0.248752</td>\n",
       "      <td>...</td>\n",
       "      <td>0.168303</td>\n",
       "      <td>0.157931</td>\n",
       "      <td>0.170896</td>\n",
       "      <td>0.147561</td>\n",
       "      <td>0.658006</td>\n",
       "      <td>0.558671</td>\n",
       "      <td>0.658006</td>\n",
       "      <td>0.658006</td>\n",
       "      <td>0.152746</td>\n",
       "      <td>0.152746</td>\n",
       "    </tr>\n",
       "  </tbody>\n",
       "</table>\n",
       "<p>5 rows × 433 columns</p>\n",
       "</div>"
      ],
      "text/plain": [
       "       R-HSA-1031716  R-HSA-112379  R-HSA-112385  R-HSA-1168640  \\\n",
       "7SK.1       0.006866      0.005453      0.005453       0.004794   \n",
       "A1BG        0.116811      0.092776      0.092776       2.585937   \n",
       "A1CF        0.116811      0.092776      0.092776       2.585937   \n",
       "A2M         1.062935      1.155290      1.155290       1.219699   \n",
       "A2ML1       1.851789      0.150153      0.150153       2.154418   \n",
       "\n",
       "       R-HSA-1214188  R-HSA-1234159  R-HSA-141409  R-HSA-141422  R-HSA-141431  \\\n",
       "7SK.1       0.005547       0.005830      0.009034      0.009034      0.009034   \n",
       "A1BG        0.094378       2.407728      0.153698      0.153698      0.153698   \n",
       "A1CF        0.094378       0.099184      0.153698      0.153698      0.153698   \n",
       "A2M         4.214351       0.571015      0.884863      0.884863      0.884863   \n",
       "A2ML1       0.152746       0.160524      0.248752      0.248752      0.248752   \n",
       "\n",
       "       R-HSA-141439  ...  R-HSA-9670149  R-HSA-9698928  R-HSA-9710490  \\\n",
       "7SK.1      0.009034  ...       0.006112       0.005736       0.006207   \n",
       "A1BG       0.153698  ...       0.103990       0.097582       0.105593   \n",
       "A1CF       0.153698  ...       0.103990       0.097582       0.105593   \n",
       "A2M        0.884863  ...       2.326305       1.132384       3.936025   \n",
       "A2ML1      0.248752  ...       0.168303       0.157931       0.170896   \n",
       "\n",
       "       R-HSA-977224  R-HSA-983140  R-HSA-983147  R-HSA-983156  R-HSA-983157  \\\n",
       "7SK.1      0.005359      0.023898      0.020290      0.023898      0.023898   \n",
       "A1BG       0.091174      4.980567      5.414976      4.980567      4.980567   \n",
       "A1CF       0.091174      0.406565      0.345189      0.406565      0.406565   \n",
       "A2M        4.301489      2.914667      3.391239      2.914667      2.914667   \n",
       "A2ML1      0.147561      0.658006      0.558671      0.658006      0.658006   \n",
       "\n",
       "       R-HSA-983259  R-HSA-983266  \n",
       "7SK.1      0.005547      0.005547  \n",
       "A1BG       0.094378      0.094378  \n",
       "A1CF       0.094378      0.094378  \n",
       "A2M        1.147370      1.147370  \n",
       "A2ML1      0.152746      0.152746  \n",
       "\n",
       "[5 rows x 433 columns]"
      ]
     },
     "execution_count": 7,
     "metadata": {},
     "output_type": "execute_result"
    }
   ],
   "source": [
    "proteins_neglogp_byprocess_df = pd.DataFrame.from_dict(proteins_neglogp_byprocess, orient='index')\n",
    "proteins_neglogp_byprocess_df.to_csv('../../data/processed/metrics/neglogpvalue_reactome.csv')\n",
    "proteins_neglogp_byprocess_df.head()"
   ]
  },
  {
   "cell_type": "code",
   "execution_count": null,
   "id": "cc67d7d9",
   "metadata": {},
   "outputs": [],
   "source": [
    "importlib.reload(metrics_functions)\n",
    "proteins_neglogp_bydisease = metrics_functions.hypergeometric_test(graph, disgenet_proteins_indexes_df, adj_matrix)"
   ]
  },
  {
   "cell_type": "code",
   "execution_count": null,
   "id": "19850415",
   "metadata": {
    "scrolled": false
   },
   "outputs": [],
   "source": [
    "proteins_neglogp_bydisease_df = pd.DataFrame.from_dict(proteins_neglogp_bydisease, orient='index')\n",
    "proteins_neglogp_bydisease_df.to_csv('../../data/processed/metrics/neglogpvalue_disgenet.csv')\n",
    "proteins_neglogp_bydisease_df.head()"
   ]
  },
  {
   "cell_type": "markdown",
   "id": "7a294233",
   "metadata": {},
   "source": [
    "## 1.2. Shortest Paths"
   ]
  },
  {
   "cell_type": "code",
   "execution_count": 14,
   "id": "dae5d8b7",
   "metadata": {
    "scrolled": true
   },
   "outputs": [
    {
     "data": {
      "application/vnd.jupyter.widget-view+json": {
       "model_id": "1d75cdf22fd040bd959790249fcfe499",
       "version_major": 2,
       "version_minor": 0
      },
      "text/plain": [
       "  0%|          | 0/3795 [00:00<?, ?it/s]"
      ]
     },
     "metadata": {},
     "output_type": "display_data"
    }
   ],
   "source": [
    "importlib.reload(metrics_functions)\n",
    "process_shortest_paths = metrics_functions.shortest_paths(graph, reactome_proteins_indexes_df)"
   ]
  },
  {
   "cell_type": "code",
   "execution_count": 15,
   "id": "ed9ffc92",
   "metadata": {},
   "outputs": [
    {
     "name": "stdout",
     "output_type": "stream",
     "text": [
      "(21302, 3795)\n"
     ]
    },
    {
     "data": {
      "text/html": [
       "<div>\n",
       "<style scoped>\n",
       "    .dataframe tbody tr th:only-of-type {\n",
       "        vertical-align: middle;\n",
       "    }\n",
       "\n",
       "    .dataframe tbody tr th {\n",
       "        vertical-align: top;\n",
       "    }\n",
       "\n",
       "    .dataframe thead th {\n",
       "        text-align: right;\n",
       "    }\n",
       "</style>\n",
       "<table border=\"1\" class=\"dataframe\">\n",
       "  <thead>\n",
       "    <tr style=\"text-align: right;\">\n",
       "      <th></th>\n",
       "      <th>CTSS</th>\n",
       "      <th>RXFP1</th>\n",
       "      <th>KRTAP1-4</th>\n",
       "      <th>COMMD5</th>\n",
       "      <th>FERMT2</th>\n",
       "      <th>PLET1</th>\n",
       "      <th>COPZ2</th>\n",
       "      <th>OFD1</th>\n",
       "      <th>IQCB1</th>\n",
       "      <th>GBP1</th>\n",
       "      <th>...</th>\n",
       "      <th>SKA1</th>\n",
       "      <th>RPL41</th>\n",
       "      <th>TBP</th>\n",
       "      <th>FBXL19</th>\n",
       "      <th>GRIN1</th>\n",
       "      <th>NPY5R</th>\n",
       "      <th>HP</th>\n",
       "      <th>PKM</th>\n",
       "      <th>UBTF</th>\n",
       "      <th>DCUN1D3</th>\n",
       "    </tr>\n",
       "  </thead>\n",
       "  <tbody>\n",
       "    <tr>\n",
       "      <th>7SK.1</th>\n",
       "      <td>3</td>\n",
       "      <td>4</td>\n",
       "      <td>4</td>\n",
       "      <td>3</td>\n",
       "      <td>3</td>\n",
       "      <td>3</td>\n",
       "      <td>3</td>\n",
       "      <td>3</td>\n",
       "      <td>3</td>\n",
       "      <td>3</td>\n",
       "      <td>...</td>\n",
       "      <td>3</td>\n",
       "      <td>3</td>\n",
       "      <td>2</td>\n",
       "      <td>2</td>\n",
       "      <td>2</td>\n",
       "      <td>3</td>\n",
       "      <td>3</td>\n",
       "      <td>3</td>\n",
       "      <td>3</td>\n",
       "      <td>3</td>\n",
       "    </tr>\n",
       "    <tr>\n",
       "      <th>A1BG</th>\n",
       "      <td>3</td>\n",
       "      <td>3</td>\n",
       "      <td>2</td>\n",
       "      <td>3</td>\n",
       "      <td>3</td>\n",
       "      <td>3</td>\n",
       "      <td>2</td>\n",
       "      <td>2</td>\n",
       "      <td>2</td>\n",
       "      <td>3</td>\n",
       "      <td>...</td>\n",
       "      <td>3</td>\n",
       "      <td>3</td>\n",
       "      <td>2</td>\n",
       "      <td>2</td>\n",
       "      <td>2</td>\n",
       "      <td>2</td>\n",
       "      <td>2</td>\n",
       "      <td>2</td>\n",
       "      <td>2</td>\n",
       "      <td>3</td>\n",
       "    </tr>\n",
       "    <tr>\n",
       "      <th>A1CF</th>\n",
       "      <td>3</td>\n",
       "      <td>3</td>\n",
       "      <td>3</td>\n",
       "      <td>2</td>\n",
       "      <td>3</td>\n",
       "      <td>3</td>\n",
       "      <td>3</td>\n",
       "      <td>2</td>\n",
       "      <td>3</td>\n",
       "      <td>3</td>\n",
       "      <td>...</td>\n",
       "      <td>2</td>\n",
       "      <td>3</td>\n",
       "      <td>2</td>\n",
       "      <td>3</td>\n",
       "      <td>3</td>\n",
       "      <td>3</td>\n",
       "      <td>2</td>\n",
       "      <td>2</td>\n",
       "      <td>3</td>\n",
       "      <td>2</td>\n",
       "    </tr>\n",
       "    <tr>\n",
       "      <th>A2M</th>\n",
       "      <td>2</td>\n",
       "      <td>3</td>\n",
       "      <td>3</td>\n",
       "      <td>2</td>\n",
       "      <td>2</td>\n",
       "      <td>3</td>\n",
       "      <td>3</td>\n",
       "      <td>2</td>\n",
       "      <td>2</td>\n",
       "      <td>2</td>\n",
       "      <td>...</td>\n",
       "      <td>2</td>\n",
       "      <td>2</td>\n",
       "      <td>2</td>\n",
       "      <td>3</td>\n",
       "      <td>2</td>\n",
       "      <td>2</td>\n",
       "      <td>2</td>\n",
       "      <td>2</td>\n",
       "      <td>2</td>\n",
       "      <td>2</td>\n",
       "    </tr>\n",
       "    <tr>\n",
       "      <th>A2ML1</th>\n",
       "      <td>2</td>\n",
       "      <td>2</td>\n",
       "      <td>3</td>\n",
       "      <td>2</td>\n",
       "      <td>2</td>\n",
       "      <td>3</td>\n",
       "      <td>3</td>\n",
       "      <td>2</td>\n",
       "      <td>3</td>\n",
       "      <td>3</td>\n",
       "      <td>...</td>\n",
       "      <td>2</td>\n",
       "      <td>3</td>\n",
       "      <td>2</td>\n",
       "      <td>2</td>\n",
       "      <td>2</td>\n",
       "      <td>3</td>\n",
       "      <td>2</td>\n",
       "      <td>2</td>\n",
       "      <td>2</td>\n",
       "      <td>3</td>\n",
       "    </tr>\n",
       "  </tbody>\n",
       "</table>\n",
       "<p>5 rows × 3795 columns</p>\n",
       "</div>"
      ],
      "text/plain": [
       "       CTSS  RXFP1  KRTAP1-4  COMMD5  FERMT2  PLET1  COPZ2  OFD1  IQCB1  GBP1  \\\n",
       "7SK.1     3      4         4       3       3      3      3     3      3     3   \n",
       "A1BG      3      3         2       3       3      3      2     2      2     3   \n",
       "A1CF      3      3         3       2       3      3      3     2      3     3   \n",
       "A2M       2      3         3       2       2      3      3     2      2     2   \n",
       "A2ML1     2      2         3       2       2      3      3     2      3     3   \n",
       "\n",
       "       ...  SKA1  RPL41  TBP  FBXL19  GRIN1  NPY5R  HP  PKM  UBTF  DCUN1D3  \n",
       "7SK.1  ...     3      3    2       2      2      3   3    3     3        3  \n",
       "A1BG   ...     3      3    2       2      2      2   2    2     2        3  \n",
       "A1CF   ...     2      3    2       3      3      3   2    2     3        2  \n",
       "A2M    ...     2      2    2       3      2      2   2    2     2        2  \n",
       "A2ML1  ...     2      3    2       2      2      3   2    2     2        3  \n",
       "\n",
       "[5 rows x 3795 columns]"
      ]
     },
     "execution_count": 15,
     "metadata": {},
     "output_type": "execute_result"
    }
   ],
   "source": [
    "process_shortest_paths_df = pd.DataFrame.from_dict(process_shortest_paths)\n",
    "process_shortest_paths_df = process_shortest_paths_df.rename(index=dict(zip(list(process_shortest_paths_df.index),list(protein_ids_df['protein_id'].values))))\n",
    "process_shortest_paths_df.to_csv('../../data/processed/metrics/process_shortest_paths.csv')\n",
    "print(process_shortest_paths_df.shape)\n",
    "process_shortest_paths_df.head()"
   ]
  },
  {
   "cell_type": "markdown",
   "id": "d3713e5d",
   "metadata": {},
   "source": [
    "## 1.3. Closeness"
   ]
  },
  {
   "cell_type": "code",
   "execution_count": 6,
   "id": "ae4d5a3d",
   "metadata": {},
   "outputs": [],
   "source": [
    "process_shortest_paths_df = pd.read_csv(\"../../data/processed/metrics/process_shortest_paths.csv\", sep=',', header=0, index_col=0)"
   ]
  },
  {
   "cell_type": "code",
   "execution_count": 30,
   "id": "3ac6b943",
   "metadata": {
    "scrolled": true
   },
   "outputs": [
    {
     "data": {
      "application/vnd.jupyter.widget-view+json": {
       "model_id": "52d0a74f80da4a85abd209c9492e4241",
       "version_major": 2,
       "version_minor": 0
      },
      "text/plain": [
       "  0%|          | 0/433 [00:00<?, ?it/s]"
      ]
     },
     "metadata": {},
     "output_type": "display_data"
    }
   ],
   "source": [
    "importlib.reload(metrics_functions)\n",
    "closeness = metrics_functions.closeness(process_shortest_paths_df, reactome_proteins_indexes_df)"
   ]
  },
  {
   "cell_type": "code",
   "execution_count": 31,
   "id": "dcbadc36",
   "metadata": {},
   "outputs": [
    {
     "name": "stdout",
     "output_type": "stream",
     "text": [
      "(21302, 433)\n"
     ]
    },
    {
     "data": {
      "text/html": [
       "<div>\n",
       "<style scoped>\n",
       "    .dataframe tbody tr th:only-of-type {\n",
       "        vertical-align: middle;\n",
       "    }\n",
       "\n",
       "    .dataframe tbody tr th {\n",
       "        vertical-align: top;\n",
       "    }\n",
       "\n",
       "    .dataframe thead th {\n",
       "        text-align: right;\n",
       "    }\n",
       "</style>\n",
       "<table border=\"1\" class=\"dataframe\">\n",
       "  <thead>\n",
       "    <tr style=\"text-align: right;\">\n",
       "      <th></th>\n",
       "      <th>R-HSA-1031716</th>\n",
       "      <th>R-HSA-112379</th>\n",
       "      <th>R-HSA-112385</th>\n",
       "      <th>R-HSA-1168640</th>\n",
       "      <th>R-HSA-1214188</th>\n",
       "      <th>R-HSA-1234159</th>\n",
       "      <th>R-HSA-141409</th>\n",
       "      <th>R-HSA-141422</th>\n",
       "      <th>R-HSA-141431</th>\n",
       "      <th>R-HSA-141439</th>\n",
       "      <th>...</th>\n",
       "      <th>R-HSA-9670149</th>\n",
       "      <th>R-HSA-9698928</th>\n",
       "      <th>R-HSA-9710490</th>\n",
       "      <th>R-HSA-977224</th>\n",
       "      <th>R-HSA-983140</th>\n",
       "      <th>R-HSA-983147</th>\n",
       "      <th>R-HSA-983156</th>\n",
       "      <th>R-HSA-983157</th>\n",
       "      <th>R-HSA-983259</th>\n",
       "      <th>R-HSA-983266</th>\n",
       "    </tr>\n",
       "  </thead>\n",
       "  <tbody>\n",
       "    <tr>\n",
       "      <th>7SK.1</th>\n",
       "      <td>0.324444</td>\n",
       "      <td>0.339181</td>\n",
       "      <td>0.339181</td>\n",
       "      <td>0.335526</td>\n",
       "      <td>0.310526</td>\n",
       "      <td>0.342541</td>\n",
       "      <td>0.336842</td>\n",
       "      <td>0.336842</td>\n",
       "      <td>0.336842</td>\n",
       "      <td>0.336842</td>\n",
       "      <td>...</td>\n",
       "      <td>0.325000</td>\n",
       "      <td>0.309645</td>\n",
       "      <td>0.314286</td>\n",
       "      <td>0.309783</td>\n",
       "      <td>0.329427</td>\n",
       "      <td>0.327744</td>\n",
       "      <td>0.329427</td>\n",
       "      <td>0.329427</td>\n",
       "      <td>0.327778</td>\n",
       "      <td>0.327778</td>\n",
       "    </tr>\n",
       "    <tr>\n",
       "      <th>A1BG</th>\n",
       "      <td>0.386243</td>\n",
       "      <td>0.386667</td>\n",
       "      <td>0.386667</td>\n",
       "      <td>0.490385</td>\n",
       "      <td>0.355422</td>\n",
       "      <td>0.484375</td>\n",
       "      <td>0.380952</td>\n",
       "      <td>0.380952</td>\n",
       "      <td>0.380952</td>\n",
       "      <td>0.380952</td>\n",
       "      <td>...</td>\n",
       "      <td>0.365169</td>\n",
       "      <td>0.350575</td>\n",
       "      <td>0.364641</td>\n",
       "      <td>0.358491</td>\n",
       "      <td>0.415435</td>\n",
       "      <td>0.420744</td>\n",
       "      <td>0.415435</td>\n",
       "      <td>0.415435</td>\n",
       "      <td>0.398649</td>\n",
       "      <td>0.398649</td>\n",
       "    </tr>\n",
       "    <tr>\n",
       "      <th>A1CF</th>\n",
       "      <td>0.412429</td>\n",
       "      <td>0.371795</td>\n",
       "      <td>0.371795</td>\n",
       "      <td>0.414634</td>\n",
       "      <td>0.388158</td>\n",
       "      <td>0.405229</td>\n",
       "      <td>0.391837</td>\n",
       "      <td>0.391837</td>\n",
       "      <td>0.391837</td>\n",
       "      <td>0.391837</td>\n",
       "      <td>...</td>\n",
       "      <td>0.396341</td>\n",
       "      <td>0.391026</td>\n",
       "      <td>0.392857</td>\n",
       "      <td>0.390411</td>\n",
       "      <td>0.383915</td>\n",
       "      <td>0.383244</td>\n",
       "      <td>0.383915</td>\n",
       "      <td>0.383915</td>\n",
       "      <td>0.390728</td>\n",
       "      <td>0.390728</td>\n",
       "    </tr>\n",
       "    <tr>\n",
       "      <th>A2M</th>\n",
       "      <td>0.477124</td>\n",
       "      <td>0.464000</td>\n",
       "      <td>0.464000</td>\n",
       "      <td>0.476636</td>\n",
       "      <td>0.433824</td>\n",
       "      <td>0.476923</td>\n",
       "      <td>0.442396</td>\n",
       "      <td>0.442396</td>\n",
       "      <td>0.442396</td>\n",
       "      <td>0.442396</td>\n",
       "      <td>...</td>\n",
       "      <td>0.442177</td>\n",
       "      <td>0.423611</td>\n",
       "      <td>0.440000</td>\n",
       "      <td>0.431818</td>\n",
       "      <td>0.463370</td>\n",
       "      <td>0.464363</td>\n",
       "      <td>0.463370</td>\n",
       "      <td>0.463370</td>\n",
       "      <td>0.472000</td>\n",
       "      <td>0.472000</td>\n",
       "    </tr>\n",
       "    <tr>\n",
       "      <th>A2ML1</th>\n",
       "      <td>0.453416</td>\n",
       "      <td>0.432836</td>\n",
       "      <td>0.432836</td>\n",
       "      <td>0.425000</td>\n",
       "      <td>0.418440</td>\n",
       "      <td>0.421769</td>\n",
       "      <td>0.444444</td>\n",
       "      <td>0.444444</td>\n",
       "      <td>0.444444</td>\n",
       "      <td>0.444444</td>\n",
       "      <td>...</td>\n",
       "      <td>0.433333</td>\n",
       "      <td>0.420690</td>\n",
       "      <td>0.428571</td>\n",
       "      <td>0.422222</td>\n",
       "      <td>0.428088</td>\n",
       "      <td>0.430862</td>\n",
       "      <td>0.428088</td>\n",
       "      <td>0.428088</td>\n",
       "      <td>0.450382</td>\n",
       "      <td>0.450382</td>\n",
       "    </tr>\n",
       "  </tbody>\n",
       "</table>\n",
       "<p>5 rows × 433 columns</p>\n",
       "</div>"
      ],
      "text/plain": [
       "       R-HSA-1031716  R-HSA-112379  R-HSA-112385  R-HSA-1168640  \\\n",
       "7SK.1       0.324444      0.339181      0.339181       0.335526   \n",
       "A1BG        0.386243      0.386667      0.386667       0.490385   \n",
       "A1CF        0.412429      0.371795      0.371795       0.414634   \n",
       "A2M         0.477124      0.464000      0.464000       0.476636   \n",
       "A2ML1       0.453416      0.432836      0.432836       0.425000   \n",
       "\n",
       "       R-HSA-1214188  R-HSA-1234159  R-HSA-141409  R-HSA-141422  R-HSA-141431  \\\n",
       "7SK.1       0.310526       0.342541      0.336842      0.336842      0.336842   \n",
       "A1BG        0.355422       0.484375      0.380952      0.380952      0.380952   \n",
       "A1CF        0.388158       0.405229      0.391837      0.391837      0.391837   \n",
       "A2M         0.433824       0.476923      0.442396      0.442396      0.442396   \n",
       "A2ML1       0.418440       0.421769      0.444444      0.444444      0.444444   \n",
       "\n",
       "       R-HSA-141439  ...  R-HSA-9670149  R-HSA-9698928  R-HSA-9710490  \\\n",
       "7SK.1      0.336842  ...       0.325000       0.309645       0.314286   \n",
       "A1BG       0.380952  ...       0.365169       0.350575       0.364641   \n",
       "A1CF       0.391837  ...       0.396341       0.391026       0.392857   \n",
       "A2M        0.442396  ...       0.442177       0.423611       0.440000   \n",
       "A2ML1      0.444444  ...       0.433333       0.420690       0.428571   \n",
       "\n",
       "       R-HSA-977224  R-HSA-983140  R-HSA-983147  R-HSA-983156  R-HSA-983157  \\\n",
       "7SK.1      0.309783      0.329427      0.327744      0.329427      0.329427   \n",
       "A1BG       0.358491      0.415435      0.420744      0.415435      0.415435   \n",
       "A1CF       0.390411      0.383915      0.383244      0.383915      0.383915   \n",
       "A2M        0.431818      0.463370      0.464363      0.463370      0.463370   \n",
       "A2ML1      0.422222      0.428088      0.430862      0.428088      0.428088   \n",
       "\n",
       "       R-HSA-983259  R-HSA-983266  \n",
       "7SK.1      0.327778      0.327778  \n",
       "A1BG       0.398649      0.398649  \n",
       "A1CF       0.390728      0.390728  \n",
       "A2M        0.472000      0.472000  \n",
       "A2ML1      0.450382      0.450382  \n",
       "\n",
       "[5 rows x 433 columns]"
      ]
     },
     "execution_count": 31,
     "metadata": {},
     "output_type": "execute_result"
    }
   ],
   "source": [
    "closeness_df = pd.DataFrame.from_dict(closeness)\n",
    "closeness_df = closeness_df.rename(index=dict(zip(list(closeness_df.index),list(protein_ids_df['protein_id'].values))))\n",
    "closeness_df.to_csv('../../data/processed/metrics/process_closeness.csv')\n",
    "print(closeness_df.shape)\n",
    "closeness_df.head()"
   ]
  },
  {
   "cell_type": "markdown",
   "id": "48207bd9",
   "metadata": {},
   "source": [
    "## 1.4. Betweenness"
   ]
  },
  {
   "cell_type": "code",
   "execution_count": 18,
   "id": "ab0284c1",
   "metadata": {},
   "outputs": [],
   "source": [
    "process_shortest_paths_df = pd.read_csv('../../data/processed/metrics/process_shortest_paths.csv', index_col=0)"
   ]
  },
  {
   "cell_type": "code",
   "execution_count": 19,
   "id": "6209c15e",
   "metadata": {
    "scrolled": false
   },
   "outputs": [
    {
     "data": {
      "application/vnd.jupyter.widget-view+json": {
       "model_id": "e028d2c83467490bacb278bb3ba76e54",
       "version_major": 2,
       "version_minor": 0
      },
      "text/plain": [
       "  0%|          | 0/433 [00:00<?, ?it/s]"
      ]
     },
     "metadata": {},
     "output_type": "display_data"
    }
   ],
   "source": [
    "importlib.reload(metrics_functions)\n",
    "process_betweenness = metrics_functions.betweenness(process_shortest_paths_df, reactome_proteins_indexes_df, graph)"
   ]
  },
  {
   "cell_type": "code",
   "execution_count": 20,
   "id": "251983f6",
   "metadata": {},
   "outputs": [
    {
     "name": "stdout",
     "output_type": "stream",
     "text": [
      "(21302, 433)\n"
     ]
    },
    {
     "data": {
      "text/html": [
       "<div>\n",
       "<style scoped>\n",
       "    .dataframe tbody tr th:only-of-type {\n",
       "        vertical-align: middle;\n",
       "    }\n",
       "\n",
       "    .dataframe tbody tr th {\n",
       "        vertical-align: top;\n",
       "    }\n",
       "\n",
       "    .dataframe thead th {\n",
       "        text-align: right;\n",
       "    }\n",
       "</style>\n",
       "<table border=\"1\" class=\"dataframe\">\n",
       "  <thead>\n",
       "    <tr style=\"text-align: right;\">\n",
       "      <th></th>\n",
       "      <th>R-HSA-1031716</th>\n",
       "      <th>R-HSA-112379</th>\n",
       "      <th>R-HSA-112385</th>\n",
       "      <th>R-HSA-1168640</th>\n",
       "      <th>R-HSA-1214188</th>\n",
       "      <th>R-HSA-1234159</th>\n",
       "      <th>R-HSA-141409</th>\n",
       "      <th>R-HSA-141422</th>\n",
       "      <th>R-HSA-141431</th>\n",
       "      <th>R-HSA-141439</th>\n",
       "      <th>...</th>\n",
       "      <th>R-HSA-9670149</th>\n",
       "      <th>R-HSA-9698928</th>\n",
       "      <th>R-HSA-9710490</th>\n",
       "      <th>R-HSA-977224</th>\n",
       "      <th>R-HSA-983140</th>\n",
       "      <th>R-HSA-983147</th>\n",
       "      <th>R-HSA-983156</th>\n",
       "      <th>R-HSA-983157</th>\n",
       "      <th>R-HSA-983259</th>\n",
       "      <th>R-HSA-983266</th>\n",
       "    </tr>\n",
       "  </thead>\n",
       "  <tbody>\n",
       "    <tr>\n",
       "      <th>7SK.1</th>\n",
       "      <td>0.013318</td>\n",
       "      <td>0.0</td>\n",
       "      <td>0.0</td>\n",
       "      <td>0.002353</td>\n",
       "      <td>0.013442</td>\n",
       "      <td>0.000529</td>\n",
       "      <td>0.005921</td>\n",
       "      <td>0.005921</td>\n",
       "      <td>0.005921</td>\n",
       "      <td>0.005921</td>\n",
       "      <td>...</td>\n",
       "      <td>0.018750</td>\n",
       "      <td>0.014208</td>\n",
       "      <td>0.012587</td>\n",
       "      <td>0.013784</td>\n",
       "      <td>0.006431</td>\n",
       "      <td>0.006216</td>\n",
       "      <td>0.006431</td>\n",
       "      <td>0.006431</td>\n",
       "      <td>0.042665</td>\n",
       "      <td>0.042665</td>\n",
       "    </tr>\n",
       "    <tr>\n",
       "      <th>A1BG</th>\n",
       "      <td>0.013318</td>\n",
       "      <td>0.0</td>\n",
       "      <td>0.0</td>\n",
       "      <td>0.002353</td>\n",
       "      <td>0.013442</td>\n",
       "      <td>0.000529</td>\n",
       "      <td>0.007018</td>\n",
       "      <td>0.007018</td>\n",
       "      <td>0.007018</td>\n",
       "      <td>0.007018</td>\n",
       "      <td>...</td>\n",
       "      <td>0.017308</td>\n",
       "      <td>0.013661</td>\n",
       "      <td>0.012587</td>\n",
       "      <td>0.013784</td>\n",
       "      <td>0.004611</td>\n",
       "      <td>0.003912</td>\n",
       "      <td>0.004611</td>\n",
       "      <td>0.004611</td>\n",
       "      <td>0.038574</td>\n",
       "      <td>0.038574</td>\n",
       "    </tr>\n",
       "    <tr>\n",
       "      <th>A1CF</th>\n",
       "      <td>0.028158</td>\n",
       "      <td>0.0</td>\n",
       "      <td>0.0</td>\n",
       "      <td>0.000000</td>\n",
       "      <td>0.000000</td>\n",
       "      <td>0.000000</td>\n",
       "      <td>0.000000</td>\n",
       "      <td>0.000000</td>\n",
       "      <td>0.000000</td>\n",
       "      <td>0.000000</td>\n",
       "      <td>...</td>\n",
       "      <td>0.000000</td>\n",
       "      <td>0.000000</td>\n",
       "      <td>0.000000</td>\n",
       "      <td>0.000000</td>\n",
       "      <td>0.004172</td>\n",
       "      <td>0.002173</td>\n",
       "      <td>0.004172</td>\n",
       "      <td>0.004172</td>\n",
       "      <td>0.000000</td>\n",
       "      <td>0.000000</td>\n",
       "    </tr>\n",
       "    <tr>\n",
       "      <th>A2M</th>\n",
       "      <td>0.029300</td>\n",
       "      <td>0.0</td>\n",
       "      <td>0.0</td>\n",
       "      <td>0.000000</td>\n",
       "      <td>0.000000</td>\n",
       "      <td>0.000000</td>\n",
       "      <td>0.000000</td>\n",
       "      <td>0.000000</td>\n",
       "      <td>0.000000</td>\n",
       "      <td>0.000000</td>\n",
       "      <td>...</td>\n",
       "      <td>0.000000</td>\n",
       "      <td>0.000000</td>\n",
       "      <td>0.000000</td>\n",
       "      <td>0.000000</td>\n",
       "      <td>0.000000</td>\n",
       "      <td>0.000000</td>\n",
       "      <td>0.000000</td>\n",
       "      <td>0.000000</td>\n",
       "      <td>0.000000</td>\n",
       "      <td>0.000000</td>\n",
       "    </tr>\n",
       "    <tr>\n",
       "      <th>A2ML1</th>\n",
       "      <td>0.002664</td>\n",
       "      <td>0.0</td>\n",
       "      <td>0.0</td>\n",
       "      <td>0.000000</td>\n",
       "      <td>0.000000</td>\n",
       "      <td>0.000000</td>\n",
       "      <td>0.000000</td>\n",
       "      <td>0.000000</td>\n",
       "      <td>0.000000</td>\n",
       "      <td>0.000000</td>\n",
       "      <td>...</td>\n",
       "      <td>0.000000</td>\n",
       "      <td>0.000000</td>\n",
       "      <td>0.000000</td>\n",
       "      <td>0.000000</td>\n",
       "      <td>0.000063</td>\n",
       "      <td>0.000043</td>\n",
       "      <td>0.000063</td>\n",
       "      <td>0.000063</td>\n",
       "      <td>0.000000</td>\n",
       "      <td>0.000000</td>\n",
       "    </tr>\n",
       "  </tbody>\n",
       "</table>\n",
       "<p>5 rows × 433 columns</p>\n",
       "</div>"
      ],
      "text/plain": [
       "       R-HSA-1031716  R-HSA-112379  R-HSA-112385  R-HSA-1168640  \\\n",
       "7SK.1       0.013318           0.0           0.0       0.002353   \n",
       "A1BG        0.013318           0.0           0.0       0.002353   \n",
       "A1CF        0.028158           0.0           0.0       0.000000   \n",
       "A2M         0.029300           0.0           0.0       0.000000   \n",
       "A2ML1       0.002664           0.0           0.0       0.000000   \n",
       "\n",
       "       R-HSA-1214188  R-HSA-1234159  R-HSA-141409  R-HSA-141422  R-HSA-141431  \\\n",
       "7SK.1       0.013442       0.000529      0.005921      0.005921      0.005921   \n",
       "A1BG        0.013442       0.000529      0.007018      0.007018      0.007018   \n",
       "A1CF        0.000000       0.000000      0.000000      0.000000      0.000000   \n",
       "A2M         0.000000       0.000000      0.000000      0.000000      0.000000   \n",
       "A2ML1       0.000000       0.000000      0.000000      0.000000      0.000000   \n",
       "\n",
       "       R-HSA-141439  ...  R-HSA-9670149  R-HSA-9698928  R-HSA-9710490  \\\n",
       "7SK.1      0.005921  ...       0.018750       0.014208       0.012587   \n",
       "A1BG       0.007018  ...       0.017308       0.013661       0.012587   \n",
       "A1CF       0.000000  ...       0.000000       0.000000       0.000000   \n",
       "A2M        0.000000  ...       0.000000       0.000000       0.000000   \n",
       "A2ML1      0.000000  ...       0.000000       0.000000       0.000000   \n",
       "\n",
       "       R-HSA-977224  R-HSA-983140  R-HSA-983147  R-HSA-983156  R-HSA-983157  \\\n",
       "7SK.1      0.013784      0.006431      0.006216      0.006431      0.006431   \n",
       "A1BG       0.013784      0.004611      0.003912      0.004611      0.004611   \n",
       "A1CF       0.000000      0.004172      0.002173      0.004172      0.004172   \n",
       "A2M        0.000000      0.000000      0.000000      0.000000      0.000000   \n",
       "A2ML1      0.000000      0.000063      0.000043      0.000063      0.000063   \n",
       "\n",
       "       R-HSA-983259  R-HSA-983266  \n",
       "7SK.1      0.042665      0.042665  \n",
       "A1BG       0.038574      0.038574  \n",
       "A1CF       0.000000      0.000000  \n",
       "A2M        0.000000      0.000000  \n",
       "A2ML1      0.000000      0.000000  \n",
       "\n",
       "[5 rows x 433 columns]"
      ]
     },
     "execution_count": 20,
     "metadata": {},
     "output_type": "execute_result"
    }
   ],
   "source": [
    "process_betweenness_df = pd.DataFrame.from_dict(process_betweenness)\n",
    "process_betweenness_df = process_betweenness_df.rename(index=dict(zip(list(process_betweenness_df.index),list(protein_ids_df['protein_id'].values))))\n",
    "process_betweenness_df.fillna(value=0, inplace=True)\n",
    "process_betweenness_df.to_csv('../../data/processed/metrics/process_betweenness.csv')\n",
    "print(process_betweenness_df.shape)\n",
    "process_betweenness_df.head()"
   ]
  },
  {
   "cell_type": "markdown",
   "id": "34133ba8",
   "metadata": {},
   "source": [
    "## 1.5. Random-walks with restart"
   ]
  },
  {
   "cell_type": "code",
   "execution_count": 21,
   "id": "443ca783",
   "metadata": {},
   "outputs": [
    {
     "data": {
      "application/vnd.jupyter.widget-view+json": {
       "model_id": "d8649dc11eb647b2a08f1f66cd224554",
       "version_major": 2,
       "version_minor": 0
      },
      "text/plain": [
       "  0%|          | 0/433 [00:00<?, ?it/s]"
      ]
     },
     "metadata": {},
     "output_type": "display_data"
    }
   ],
   "source": [
    "importlib.reload(metrics_functions)\n",
    "process_rwr = metrics_functions.random_walk_restart(graph, reactome_proteins_indexes_df)"
   ]
  },
  {
   "cell_type": "code",
   "execution_count": 22,
   "id": "9b9abe2d",
   "metadata": {
    "scrolled": true
   },
   "outputs": [
    {
     "name": "stdout",
     "output_type": "stream",
     "text": [
      "(21302, 433)\n"
     ]
    },
    {
     "data": {
      "text/html": [
       "<div>\n",
       "<style scoped>\n",
       "    .dataframe tbody tr th:only-of-type {\n",
       "        vertical-align: middle;\n",
       "    }\n",
       "\n",
       "    .dataframe tbody tr th {\n",
       "        vertical-align: top;\n",
       "    }\n",
       "\n",
       "    .dataframe thead th {\n",
       "        text-align: right;\n",
       "    }\n",
       "</style>\n",
       "<table border=\"1\" class=\"dataframe\">\n",
       "  <thead>\n",
       "    <tr style=\"text-align: right;\">\n",
       "      <th></th>\n",
       "      <th>R-HSA-1031716</th>\n",
       "      <th>R-HSA-112379</th>\n",
       "      <th>R-HSA-112385</th>\n",
       "      <th>R-HSA-1168640</th>\n",
       "      <th>R-HSA-1214188</th>\n",
       "      <th>R-HSA-1234159</th>\n",
       "      <th>R-HSA-141409</th>\n",
       "      <th>R-HSA-141422</th>\n",
       "      <th>R-HSA-141431</th>\n",
       "      <th>R-HSA-141439</th>\n",
       "      <th>...</th>\n",
       "      <th>R-HSA-9670149</th>\n",
       "      <th>R-HSA-9698928</th>\n",
       "      <th>R-HSA-9710490</th>\n",
       "      <th>R-HSA-977224</th>\n",
       "      <th>R-HSA-983140</th>\n",
       "      <th>R-HSA-983147</th>\n",
       "      <th>R-HSA-983156</th>\n",
       "      <th>R-HSA-983157</th>\n",
       "      <th>R-HSA-983259</th>\n",
       "      <th>R-HSA-983266</th>\n",
       "    </tr>\n",
       "  </thead>\n",
       "  <tbody>\n",
       "    <tr>\n",
       "      <th>7SK.1</th>\n",
       "      <td>0.000001</td>\n",
       "      <td>9.798433e-07</td>\n",
       "      <td>9.798433e-07</td>\n",
       "      <td>7.379129e-07</td>\n",
       "      <td>0.000004</td>\n",
       "      <td>8.470797e-07</td>\n",
       "      <td>0.000001</td>\n",
       "      <td>0.000001</td>\n",
       "      <td>0.000001</td>\n",
       "      <td>0.000001</td>\n",
       "      <td>...</td>\n",
       "      <td>0.000003</td>\n",
       "      <td>0.000003</td>\n",
       "      <td>0.000003</td>\n",
       "      <td>0.000004</td>\n",
       "      <td>8.603440e-07</td>\n",
       "      <td>8.440027e-07</td>\n",
       "      <td>8.603440e-07</td>\n",
       "      <td>8.603440e-07</td>\n",
       "      <td>7.677677e-07</td>\n",
       "      <td>7.677677e-07</td>\n",
       "    </tr>\n",
       "    <tr>\n",
       "      <th>A1BG</th>\n",
       "      <td>0.000015</td>\n",
       "      <td>1.450999e-05</td>\n",
       "      <td>1.450999e-05</td>\n",
       "      <td>4.661402e-05</td>\n",
       "      <td>0.000015</td>\n",
       "      <td>4.201305e-05</td>\n",
       "      <td>0.000015</td>\n",
       "      <td>0.000015</td>\n",
       "      <td>0.000015</td>\n",
       "      <td>0.000015</td>\n",
       "      <td>...</td>\n",
       "      <td>0.000014</td>\n",
       "      <td>0.000014</td>\n",
       "      <td>0.000015</td>\n",
       "      <td>0.000015</td>\n",
       "      <td>3.276858e-05</td>\n",
       "      <td>3.538742e-05</td>\n",
       "      <td>3.276858e-05</td>\n",
       "      <td>3.276858e-05</td>\n",
       "      <td>1.716237e-05</td>\n",
       "      <td>1.716237e-05</td>\n",
       "    </tr>\n",
       "    <tr>\n",
       "      <th>A1CF</th>\n",
       "      <td>0.000014</td>\n",
       "      <td>1.351225e-05</td>\n",
       "      <td>1.351225e-05</td>\n",
       "      <td>2.972250e-05</td>\n",
       "      <td>0.000014</td>\n",
       "      <td>2.119540e-05</td>\n",
       "      <td>0.000014</td>\n",
       "      <td>0.000014</td>\n",
       "      <td>0.000014</td>\n",
       "      <td>0.000014</td>\n",
       "      <td>...</td>\n",
       "      <td>0.000013</td>\n",
       "      <td>0.000014</td>\n",
       "      <td>0.000014</td>\n",
       "      <td>0.000014</td>\n",
       "      <td>1.480853e-05</td>\n",
       "      <td>1.497975e-05</td>\n",
       "      <td>1.480853e-05</td>\n",
       "      <td>1.480853e-05</td>\n",
       "      <td>1.561255e-05</td>\n",
       "      <td>1.561255e-05</td>\n",
       "    </tr>\n",
       "    <tr>\n",
       "      <th>A2M</th>\n",
       "      <td>0.000090</td>\n",
       "      <td>9.780978e-05</td>\n",
       "      <td>9.780978e-05</td>\n",
       "      <td>8.531566e-05</td>\n",
       "      <td>0.000118</td>\n",
       "      <td>8.424280e-05</td>\n",
       "      <td>0.000082</td>\n",
       "      <td>0.000082</td>\n",
       "      <td>0.000082</td>\n",
       "      <td>0.000082</td>\n",
       "      <td>...</td>\n",
       "      <td>0.000109</td>\n",
       "      <td>0.000087</td>\n",
       "      <td>0.000115</td>\n",
       "      <td>0.000119</td>\n",
       "      <td>1.119695e-04</td>\n",
       "      <td>1.162859e-04</td>\n",
       "      <td>1.119695e-04</td>\n",
       "      <td>1.119695e-04</td>\n",
       "      <td>1.180395e-04</td>\n",
       "      <td>1.180395e-04</td>\n",
       "    </tr>\n",
       "    <tr>\n",
       "      <th>A2ML1</th>\n",
       "      <td>0.000034</td>\n",
       "      <td>2.198489e-05</td>\n",
       "      <td>2.198489e-05</td>\n",
       "      <td>2.345548e-05</td>\n",
       "      <td>0.000029</td>\n",
       "      <td>2.060198e-05</td>\n",
       "      <td>0.000023</td>\n",
       "      <td>0.000023</td>\n",
       "      <td>0.000023</td>\n",
       "      <td>0.000023</td>\n",
       "      <td>...</td>\n",
       "      <td>0.000025</td>\n",
       "      <td>0.000030</td>\n",
       "      <td>0.000029</td>\n",
       "      <td>0.000030</td>\n",
       "      <td>2.305171e-05</td>\n",
       "      <td>2.329654e-05</td>\n",
       "      <td>2.305171e-05</td>\n",
       "      <td>2.305171e-05</td>\n",
       "      <td>2.567130e-05</td>\n",
       "      <td>2.567130e-05</td>\n",
       "    </tr>\n",
       "  </tbody>\n",
       "</table>\n",
       "<p>5 rows × 433 columns</p>\n",
       "</div>"
      ],
      "text/plain": [
       "       R-HSA-1031716  R-HSA-112379  R-HSA-112385  R-HSA-1168640  \\\n",
       "7SK.1       0.000001  9.798433e-07  9.798433e-07   7.379129e-07   \n",
       "A1BG        0.000015  1.450999e-05  1.450999e-05   4.661402e-05   \n",
       "A1CF        0.000014  1.351225e-05  1.351225e-05   2.972250e-05   \n",
       "A2M         0.000090  9.780978e-05  9.780978e-05   8.531566e-05   \n",
       "A2ML1       0.000034  2.198489e-05  2.198489e-05   2.345548e-05   \n",
       "\n",
       "       R-HSA-1214188  R-HSA-1234159  R-HSA-141409  R-HSA-141422  R-HSA-141431  \\\n",
       "7SK.1       0.000004   8.470797e-07      0.000001      0.000001      0.000001   \n",
       "A1BG        0.000015   4.201305e-05      0.000015      0.000015      0.000015   \n",
       "A1CF        0.000014   2.119540e-05      0.000014      0.000014      0.000014   \n",
       "A2M         0.000118   8.424280e-05      0.000082      0.000082      0.000082   \n",
       "A2ML1       0.000029   2.060198e-05      0.000023      0.000023      0.000023   \n",
       "\n",
       "       R-HSA-141439  ...  R-HSA-9670149  R-HSA-9698928  R-HSA-9710490  \\\n",
       "7SK.1      0.000001  ...       0.000003       0.000003       0.000003   \n",
       "A1BG       0.000015  ...       0.000014       0.000014       0.000015   \n",
       "A1CF       0.000014  ...       0.000013       0.000014       0.000014   \n",
       "A2M        0.000082  ...       0.000109       0.000087       0.000115   \n",
       "A2ML1      0.000023  ...       0.000025       0.000030       0.000029   \n",
       "\n",
       "       R-HSA-977224  R-HSA-983140  R-HSA-983147  R-HSA-983156  R-HSA-983157  \\\n",
       "7SK.1      0.000004  8.603440e-07  8.440027e-07  8.603440e-07  8.603440e-07   \n",
       "A1BG       0.000015  3.276858e-05  3.538742e-05  3.276858e-05  3.276858e-05   \n",
       "A1CF       0.000014  1.480853e-05  1.497975e-05  1.480853e-05  1.480853e-05   \n",
       "A2M        0.000119  1.119695e-04  1.162859e-04  1.119695e-04  1.119695e-04   \n",
       "A2ML1      0.000030  2.305171e-05  2.329654e-05  2.305171e-05  2.305171e-05   \n",
       "\n",
       "       R-HSA-983259  R-HSA-983266  \n",
       "7SK.1  7.677677e-07  7.677677e-07  \n",
       "A1BG   1.716237e-05  1.716237e-05  \n",
       "A1CF   1.561255e-05  1.561255e-05  \n",
       "A2M    1.180395e-04  1.180395e-04  \n",
       "A2ML1  2.567130e-05  2.567130e-05  \n",
       "\n",
       "[5 rows x 433 columns]"
      ]
     },
     "execution_count": 22,
     "metadata": {},
     "output_type": "execute_result"
    }
   ],
   "source": [
    "process_rwr_df = pd.DataFrame.from_dict(process_rwr)\n",
    "process_rwr_df = process_rwr_df.rename(index=dict(zip(list(process_rwr_df.index),list(protein_ids_df['protein_id'].values))))\n",
    "process_rwr_df.to_csv('../../data/processed/metrics/process_rwr.csv')\n",
    "print(process_rwr_df.shape)\n",
    "process_rwr_df.head()"
   ]
  },
  {
   "cell_type": "markdown",
   "id": "28b6c070",
   "metadata": {},
   "source": [
    "# 2. Metrics with Reduced (80%) Network"
   ]
  },
  {
   "cell_type": "code",
   "execution_count": 8,
   "id": "f4f98f2f",
   "metadata": {
    "scrolled": true
   },
   "outputs": [
    {
     "data": {
      "application/vnd.jupyter.widget-view+json": {
       "model_id": "28fb32edb7e94cd79dab052508b59970",
       "version_major": 2,
       "version_minor": 0
      },
      "text/plain": [
       "  0%|          | 0/10 [00:00<?, ?it/s]"
      ]
     },
     "metadata": {},
     "output_type": "display_data"
    },
    {
     "name": "stdout",
     "output_type": "stream",
     "text": [
      "Generating Graph\n",
      "Shortest Paths Computation:\n"
     ]
    },
    {
     "data": {
      "application/vnd.jupyter.widget-view+json": {
       "model_id": "bf6e4a2432364eda9dddffcd340502ae",
       "version_major": 2,
       "version_minor": 0
      },
      "text/plain": [
       "  0%|          | 0/3789 [00:00<?, ?it/s]"
      ]
     },
     "metadata": {},
     "output_type": "display_data"
    },
    {
     "name": "stdout",
     "output_type": "stream",
     "text": [
      "Closeness Computation:\n"
     ]
    },
    {
     "data": {
      "application/vnd.jupyter.widget-view+json": {
       "model_id": "581762ddf3854e5c8df8e4c52d254f70",
       "version_major": 2,
       "version_minor": 0
      },
      "text/plain": [
       "  0%|          | 0/433 [00:00<?, ?it/s]"
      ]
     },
     "metadata": {},
     "output_type": "display_data"
    },
    {
     "name": "stdout",
     "output_type": "stream",
     "text": [
      "Betweenness Computation:\n"
     ]
    },
    {
     "data": {
      "application/vnd.jupyter.widget-view+json": {
       "model_id": "d7d65f4e2ca548c983019bd6f85984df",
       "version_major": 2,
       "version_minor": 0
      },
      "text/plain": [
       "  0%|          | 0/433 [00:00<?, ?it/s]"
      ]
     },
     "metadata": {},
     "output_type": "display_data"
    },
    {
     "name": "stdout",
     "output_type": "stream",
     "text": [
      "Random-Walks with Restart Computation:\n"
     ]
    },
    {
     "data": {
      "application/vnd.jupyter.widget-view+json": {
       "model_id": "dcfeb08ce34848f195b07ae49536a42a",
       "version_major": 2,
       "version_minor": 0
      },
      "text/plain": [
       "  0%|          | 0/433 [00:00<?, ?it/s]"
      ]
     },
     "metadata": {},
     "output_type": "display_data"
    },
    {
     "name": "stdout",
     "output_type": "stream",
     "text": [
      "Generating Graph\n",
      "Shortest Paths Computation:\n"
     ]
    },
    {
     "data": {
      "application/vnd.jupyter.widget-view+json": {
       "model_id": "a05372cbb1954ec1abdeae26146653d7",
       "version_major": 2,
       "version_minor": 0
      },
      "text/plain": [
       "  0%|          | 0/3794 [00:00<?, ?it/s]"
      ]
     },
     "metadata": {},
     "output_type": "display_data"
    },
    {
     "name": "stdout",
     "output_type": "stream",
     "text": [
      "Closeness Computation:\n"
     ]
    },
    {
     "data": {
      "application/vnd.jupyter.widget-view+json": {
       "model_id": "19c3f49848504a75ba6a5dd6b95ba140",
       "version_major": 2,
       "version_minor": 0
      },
      "text/plain": [
       "  0%|          | 0/433 [00:00<?, ?it/s]"
      ]
     },
     "metadata": {},
     "output_type": "display_data"
    },
    {
     "name": "stdout",
     "output_type": "stream",
     "text": [
      "Betweenness Computation:\n"
     ]
    },
    {
     "data": {
      "application/vnd.jupyter.widget-view+json": {
       "model_id": "39ef84254c2f4a3baea8d27981bdef17",
       "version_major": 2,
       "version_minor": 0
      },
      "text/plain": [
       "  0%|          | 0/433 [00:00<?, ?it/s]"
      ]
     },
     "metadata": {},
     "output_type": "display_data"
    },
    {
     "name": "stdout",
     "output_type": "stream",
     "text": [
      "Random-Walks with Restart Computation:\n"
     ]
    },
    {
     "data": {
      "application/vnd.jupyter.widget-view+json": {
       "model_id": "b754d099054f49f39ebc5042f846d7db",
       "version_major": 2,
       "version_minor": 0
      },
      "text/plain": [
       "  0%|          | 0/433 [00:00<?, ?it/s]"
      ]
     },
     "metadata": {},
     "output_type": "display_data"
    },
    {
     "name": "stdout",
     "output_type": "stream",
     "text": [
      "Generating Graph\n",
      "Shortest Paths Computation:\n"
     ]
    },
    {
     "data": {
      "application/vnd.jupyter.widget-view+json": {
       "model_id": "8e1325c633b040e6862d7fd3df5d4f96",
       "version_major": 2,
       "version_minor": 0
      },
      "text/plain": [
       "  0%|          | 0/3794 [00:00<?, ?it/s]"
      ]
     },
     "metadata": {},
     "output_type": "display_data"
    },
    {
     "name": "stdout",
     "output_type": "stream",
     "text": [
      "Closeness Computation:\n"
     ]
    },
    {
     "data": {
      "application/vnd.jupyter.widget-view+json": {
       "model_id": "a446b56b7abf4721b879e8facbe09dbf",
       "version_major": 2,
       "version_minor": 0
      },
      "text/plain": [
       "  0%|          | 0/433 [00:00<?, ?it/s]"
      ]
     },
     "metadata": {},
     "output_type": "display_data"
    },
    {
     "name": "stdout",
     "output_type": "stream",
     "text": [
      "Betweenness Computation:\n"
     ]
    },
    {
     "data": {
      "application/vnd.jupyter.widget-view+json": {
       "model_id": "ff1fa712ab77423bbf53f06b3a8ef29f",
       "version_major": 2,
       "version_minor": 0
      },
      "text/plain": [
       "  0%|          | 0/433 [00:00<?, ?it/s]"
      ]
     },
     "metadata": {},
     "output_type": "display_data"
    },
    {
     "name": "stdout",
     "output_type": "stream",
     "text": [
      "Random-Walks with Restart Computation:\n"
     ]
    },
    {
     "data": {
      "application/vnd.jupyter.widget-view+json": {
       "model_id": "fa951829e7b14c8cb886e75d24e475c9",
       "version_major": 2,
       "version_minor": 0
      },
      "text/plain": [
       "  0%|          | 0/433 [00:00<?, ?it/s]"
      ]
     },
     "metadata": {},
     "output_type": "display_data"
    },
    {
     "name": "stdout",
     "output_type": "stream",
     "text": [
      "Generating Graph\n",
      "Shortest Paths Computation:\n"
     ]
    },
    {
     "data": {
      "application/vnd.jupyter.widget-view+json": {
       "model_id": "a743615d170241f0924e241f60408f8a",
       "version_major": 2,
       "version_minor": 0
      },
      "text/plain": [
       "  0%|          | 0/3793 [00:00<?, ?it/s]"
      ]
     },
     "metadata": {},
     "output_type": "display_data"
    },
    {
     "name": "stdout",
     "output_type": "stream",
     "text": [
      "Closeness Computation:\n"
     ]
    },
    {
     "data": {
      "application/vnd.jupyter.widget-view+json": {
       "model_id": "dc5655a388194a1e8105028f0da54107",
       "version_major": 2,
       "version_minor": 0
      },
      "text/plain": [
       "  0%|          | 0/433 [00:00<?, ?it/s]"
      ]
     },
     "metadata": {},
     "output_type": "display_data"
    },
    {
     "name": "stdout",
     "output_type": "stream",
     "text": [
      "Betweenness Computation:\n"
     ]
    },
    {
     "data": {
      "application/vnd.jupyter.widget-view+json": {
       "model_id": "378b0ac8fffc42b292dab044e00862c0",
       "version_major": 2,
       "version_minor": 0
      },
      "text/plain": [
       "  0%|          | 0/433 [00:00<?, ?it/s]"
      ]
     },
     "metadata": {},
     "output_type": "display_data"
    },
    {
     "name": "stdout",
     "output_type": "stream",
     "text": [
      "Random-Walks with Restart Computation:\n"
     ]
    },
    {
     "data": {
      "application/vnd.jupyter.widget-view+json": {
       "model_id": "57741dc7c796427ca74ba240150df5bc",
       "version_major": 2,
       "version_minor": 0
      },
      "text/plain": [
       "  0%|          | 0/433 [00:00<?, ?it/s]"
      ]
     },
     "metadata": {},
     "output_type": "display_data"
    },
    {
     "name": "stdout",
     "output_type": "stream",
     "text": [
      "Generating Graph\n",
      "Shortest Paths Computation:\n"
     ]
    },
    {
     "data": {
      "application/vnd.jupyter.widget-view+json": {
       "model_id": "b4479c35c3df4d44bbe2df6769dd45a4",
       "version_major": 2,
       "version_minor": 0
      },
      "text/plain": [
       "  0%|          | 0/3794 [00:00<?, ?it/s]"
      ]
     },
     "metadata": {},
     "output_type": "display_data"
    },
    {
     "name": "stdout",
     "output_type": "stream",
     "text": [
      "Closeness Computation:\n"
     ]
    },
    {
     "data": {
      "application/vnd.jupyter.widget-view+json": {
       "model_id": "bd124abd930342e8954304dc23b17899",
       "version_major": 2,
       "version_minor": 0
      },
      "text/plain": [
       "  0%|          | 0/433 [00:00<?, ?it/s]"
      ]
     },
     "metadata": {},
     "output_type": "display_data"
    },
    {
     "name": "stdout",
     "output_type": "stream",
     "text": [
      "Betweenness Computation:\n"
     ]
    },
    {
     "data": {
      "application/vnd.jupyter.widget-view+json": {
       "model_id": "abf4a5e6013d47a1b1b520e3e7275d01",
       "version_major": 2,
       "version_minor": 0
      },
      "text/plain": [
       "  0%|          | 0/433 [00:00<?, ?it/s]"
      ]
     },
     "metadata": {},
     "output_type": "display_data"
    },
    {
     "name": "stdout",
     "output_type": "stream",
     "text": [
      "Random-Walks with Restart Computation:\n"
     ]
    },
    {
     "data": {
      "application/vnd.jupyter.widget-view+json": {
       "model_id": "85d1187a65c24ac894fe06512f99d6bd",
       "version_major": 2,
       "version_minor": 0
      },
      "text/plain": [
       "  0%|          | 0/433 [00:00<?, ?it/s]"
      ]
     },
     "metadata": {},
     "output_type": "display_data"
    },
    {
     "name": "stdout",
     "output_type": "stream",
     "text": [
      "Generating Graph\n",
      "Shortest Paths Computation:\n"
     ]
    },
    {
     "data": {
      "application/vnd.jupyter.widget-view+json": {
       "model_id": "717b2a193c3f44589ec38c9fcfff46dd",
       "version_major": 2,
       "version_minor": 0
      },
      "text/plain": [
       "  0%|          | 0/3795 [00:00<?, ?it/s]"
      ]
     },
     "metadata": {},
     "output_type": "display_data"
    },
    {
     "name": "stdout",
     "output_type": "stream",
     "text": [
      "Closeness Computation:\n"
     ]
    },
    {
     "data": {
      "application/vnd.jupyter.widget-view+json": {
       "model_id": "934fbcb9ebe64a8b8b0bf9f789b95965",
       "version_major": 2,
       "version_minor": 0
      },
      "text/plain": [
       "  0%|          | 0/433 [00:00<?, ?it/s]"
      ]
     },
     "metadata": {},
     "output_type": "display_data"
    },
    {
     "name": "stdout",
     "output_type": "stream",
     "text": [
      "Betweenness Computation:\n"
     ]
    },
    {
     "data": {
      "application/vnd.jupyter.widget-view+json": {
       "model_id": "6012a78fd27f489b958bdba13b7489e1",
       "version_major": 2,
       "version_minor": 0
      },
      "text/plain": [
       "  0%|          | 0/433 [00:00<?, ?it/s]"
      ]
     },
     "metadata": {},
     "output_type": "display_data"
    },
    {
     "name": "stdout",
     "output_type": "stream",
     "text": [
      "Random-Walks with Restart Computation:\n"
     ]
    },
    {
     "data": {
      "application/vnd.jupyter.widget-view+json": {
       "model_id": "b7991c7ee3344fa69eb02ccc431715fe",
       "version_major": 2,
       "version_minor": 0
      },
      "text/plain": [
       "  0%|          | 0/433 [00:00<?, ?it/s]"
      ]
     },
     "metadata": {},
     "output_type": "display_data"
    },
    {
     "name": "stdout",
     "output_type": "stream",
     "text": [
      "Generating Graph\n",
      "Shortest Paths Computation:\n"
     ]
    },
    {
     "data": {
      "application/vnd.jupyter.widget-view+json": {
       "model_id": "8b06cfb2bfc04fccb1581d6aae6ab1be",
       "version_major": 2,
       "version_minor": 0
      },
      "text/plain": [
       "  0%|          | 0/3792 [00:00<?, ?it/s]"
      ]
     },
     "metadata": {},
     "output_type": "display_data"
    },
    {
     "name": "stdout",
     "output_type": "stream",
     "text": [
      "Closeness Computation:\n"
     ]
    },
    {
     "data": {
      "application/vnd.jupyter.widget-view+json": {
       "model_id": "207744718bb6420292e5430a9a1f3d2e",
       "version_major": 2,
       "version_minor": 0
      },
      "text/plain": [
       "  0%|          | 0/433 [00:00<?, ?it/s]"
      ]
     },
     "metadata": {},
     "output_type": "display_data"
    },
    {
     "name": "stdout",
     "output_type": "stream",
     "text": [
      "Betweenness Computation:\n"
     ]
    },
    {
     "data": {
      "application/vnd.jupyter.widget-view+json": {
       "model_id": "4be7832e0ec1442395984cbbde8912dc",
       "version_major": 2,
       "version_minor": 0
      },
      "text/plain": [
       "  0%|          | 0/433 [00:00<?, ?it/s]"
      ]
     },
     "metadata": {},
     "output_type": "display_data"
    },
    {
     "name": "stdout",
     "output_type": "stream",
     "text": [
      "Random-Walks with Restart Computation:\n"
     ]
    },
    {
     "data": {
      "application/vnd.jupyter.widget-view+json": {
       "model_id": "b537c95bc26041228ee2a578d724b03f",
       "version_major": 2,
       "version_minor": 0
      },
      "text/plain": [
       "  0%|          | 0/433 [00:00<?, ?it/s]"
      ]
     },
     "metadata": {},
     "output_type": "display_data"
    },
    {
     "name": "stdout",
     "output_type": "stream",
     "text": [
      "Generating Graph\n",
      "Shortest Paths Computation:\n"
     ]
    },
    {
     "data": {
      "application/vnd.jupyter.widget-view+json": {
       "model_id": "849425e38e5d4f919db6d3e6f0e712a9",
       "version_major": 2,
       "version_minor": 0
      },
      "text/plain": [
       "  0%|          | 0/3795 [00:00<?, ?it/s]"
      ]
     },
     "metadata": {},
     "output_type": "display_data"
    },
    {
     "name": "stdout",
     "output_type": "stream",
     "text": [
      "Closeness Computation:\n"
     ]
    },
    {
     "data": {
      "application/vnd.jupyter.widget-view+json": {
       "model_id": "fdb0aaebfa1b4da394b56522851896e1",
       "version_major": 2,
       "version_minor": 0
      },
      "text/plain": [
       "  0%|          | 0/433 [00:00<?, ?it/s]"
      ]
     },
     "metadata": {},
     "output_type": "display_data"
    },
    {
     "name": "stdout",
     "output_type": "stream",
     "text": [
      "Betweenness Computation:\n"
     ]
    },
    {
     "data": {
      "application/vnd.jupyter.widget-view+json": {
       "model_id": "fb43a0889e7c47d9b3d2caf2ae976925",
       "version_major": 2,
       "version_minor": 0
      },
      "text/plain": [
       "  0%|          | 0/433 [00:00<?, ?it/s]"
      ]
     },
     "metadata": {},
     "output_type": "display_data"
    },
    {
     "name": "stdout",
     "output_type": "stream",
     "text": [
      "Random-Walks with Restart Computation:\n"
     ]
    },
    {
     "data": {
      "application/vnd.jupyter.widget-view+json": {
       "model_id": "c99cd2cdbc074234b341b6b7b7bb63f1",
       "version_major": 2,
       "version_minor": 0
      },
      "text/plain": [
       "  0%|          | 0/433 [00:00<?, ?it/s]"
      ]
     },
     "metadata": {},
     "output_type": "display_data"
    },
    {
     "name": "stdout",
     "output_type": "stream",
     "text": [
      "Generating Graph\n",
      "Shortest Paths Computation:\n"
     ]
    },
    {
     "data": {
      "application/vnd.jupyter.widget-view+json": {
       "model_id": "9932eaab7dbd4c6db8348099adc882b3",
       "version_major": 2,
       "version_minor": 0
      },
      "text/plain": [
       "  0%|          | 0/3794 [00:00<?, ?it/s]"
      ]
     },
     "metadata": {},
     "output_type": "display_data"
    },
    {
     "name": "stdout",
     "output_type": "stream",
     "text": [
      "Closeness Computation:\n"
     ]
    },
    {
     "data": {
      "application/vnd.jupyter.widget-view+json": {
       "model_id": "bef1b1529a904b0b91dfea583acc92e3",
       "version_major": 2,
       "version_minor": 0
      },
      "text/plain": [
       "  0%|          | 0/433 [00:00<?, ?it/s]"
      ]
     },
     "metadata": {},
     "output_type": "display_data"
    },
    {
     "name": "stdout",
     "output_type": "stream",
     "text": [
      "Betweenness Computation:\n"
     ]
    },
    {
     "data": {
      "application/vnd.jupyter.widget-view+json": {
       "model_id": "8009808d942a49ccaa7eaa1567222696",
       "version_major": 2,
       "version_minor": 0
      },
      "text/plain": [
       "  0%|          | 0/433 [00:00<?, ?it/s]"
      ]
     },
     "metadata": {},
     "output_type": "display_data"
    },
    {
     "name": "stdout",
     "output_type": "stream",
     "text": [
      "Random-Walks with Restart Computation:\n"
     ]
    },
    {
     "data": {
      "application/vnd.jupyter.widget-view+json": {
       "model_id": "c588f5decc62412680490cdf5c306bc6",
       "version_major": 2,
       "version_minor": 0
      },
      "text/plain": [
       "  0%|          | 0/433 [00:00<?, ?it/s]"
      ]
     },
     "metadata": {},
     "output_type": "display_data"
    },
    {
     "name": "stdout",
     "output_type": "stream",
     "text": [
      "Generating Graph\n",
      "Shortest Paths Computation:\n"
     ]
    },
    {
     "data": {
      "application/vnd.jupyter.widget-view+json": {
       "model_id": "d15783cec9304a1fa5f027638b791237",
       "version_major": 2,
       "version_minor": 0
      },
      "text/plain": [
       "  0%|          | 0/3794 [00:00<?, ?it/s]"
      ]
     },
     "metadata": {},
     "output_type": "display_data"
    },
    {
     "name": "stdout",
     "output_type": "stream",
     "text": [
      "Closeness Computation:\n"
     ]
    },
    {
     "data": {
      "application/vnd.jupyter.widget-view+json": {
       "model_id": "51a7130fbd304bc3819c75180e922462",
       "version_major": 2,
       "version_minor": 0
      },
      "text/plain": [
       "  0%|          | 0/433 [00:00<?, ?it/s]"
      ]
     },
     "metadata": {},
     "output_type": "display_data"
    },
    {
     "name": "stdout",
     "output_type": "stream",
     "text": [
      "Betweenness Computation:\n"
     ]
    },
    {
     "data": {
      "application/vnd.jupyter.widget-view+json": {
       "model_id": "9b97939174ce4a39b87d62db9d906908",
       "version_major": 2,
       "version_minor": 0
      },
      "text/plain": [
       "  0%|          | 0/433 [00:00<?, ?it/s]"
      ]
     },
     "metadata": {},
     "output_type": "display_data"
    },
    {
     "name": "stdout",
     "output_type": "stream",
     "text": [
      "Random-Walks with Restart Computation:\n"
     ]
    },
    {
     "data": {
      "application/vnd.jupyter.widget-view+json": {
       "model_id": "4162f0b21b984df18804bd25580a2008",
       "version_major": 2,
       "version_minor": 0
      },
      "text/plain": [
       "  0%|          | 0/433 [00:00<?, ?it/s]"
      ]
     },
     "metadata": {},
     "output_type": "display_data"
    }
   ],
   "source": [
    "importlib.reload(metrics_functions)\n",
    "ppi80_hyper, ppi80_closeness, ppi80_betweenness, ppi80_rwr = metrics_functions.multiple_metrics(ppi_80, reactome_proteins_indexes_df)"
   ]
  },
  {
   "cell_type": "code",
   "execution_count": 9,
   "id": "0b69a714",
   "metadata": {},
   "outputs": [],
   "source": [
    "ppi80_hyper.to_csv('../../data/processed/metrics/process_ppi80_hyper.csv')\n",
    "ppi80_closeness.to_csv('../../data/processed/metrics/process_ppi80_closeness.csv')\n",
    "ppi80_betweenness.to_csv('../../data/processed/metrics/process_ppi80_betweenness.csv')\n",
    "ppi80_rwr.to_csv('../../data/processed/metrics/process_ppi80_rwr.csv')"
   ]
  },
  {
   "cell_type": "markdown",
   "id": "c6b34feb",
   "metadata": {},
   "source": [
    "# 3. NMAD Computation"
   ]
  },
  {
   "cell_type": "code",
   "execution_count": 35,
   "id": "1ce5d242",
   "metadata": {},
   "outputs": [],
   "source": [
    "proteins_neglogp_byprocess_df = pd.read_csv('../../data/processed/metrics/neglogpvalue_reactome.csv', index_col=0)\n",
    "process_closeness_df = pd.read_csv('../../data/processed/metrics/process_closeness.csv', index_col=0)\n",
    "process_betweenness_df = pd.read_csv('../../data/processed/metrics/process_betweenness.csv', index_col=0)\n",
    "process_rwr_df = pd.read_csv('../../data/processed/metrics/process_rwr.csv', index_col=0)"
   ]
  },
  {
   "cell_type": "code",
   "execution_count": 36,
   "id": "4d8290a0",
   "metadata": {},
   "outputs": [],
   "source": [
    "cols = list(process_betweenness_df.columns)[1:]\n",
    "process_betweenness_df[cols] = process_betweenness_df[cols].replace({'0':np.nan, 0:np.nan})"
   ]
  },
  {
   "cell_type": "code",
   "execution_count": 37,
   "id": "5a12ff3e",
   "metadata": {},
   "outputs": [],
   "source": [
    "def NMAD(x):\n",
    "    med = np.nanmedian(x)\n",
    "    diff = abs(x-med)\n",
    "    NMAD = np.nanmedian(diff)/med\n",
    "    return NMAD"
   ]
  },
  {
   "cell_type": "code",
   "execution_count": 41,
   "id": "50a50bca",
   "metadata": {},
   "outputs": [],
   "source": [
    "reactome_proteins_indexes_df.set_index(['process'], inplace=True)"
   ]
  },
  {
   "cell_type": "code",
   "execution_count": 42,
   "id": "4dca33dc",
   "metadata": {},
   "outputs": [
    {
     "data": {
      "application/vnd.jupyter.widget-view+json": {
       "model_id": "33983b7e030e4f2783bd886cb66a11f9",
       "version_major": 2,
       "version_minor": 0
      },
      "text/plain": [
       "  0%|          | 0/433 [00:00<?, ?it/s]"
      ]
     },
     "metadata": {},
     "output_type": "display_data"
    },
    {
     "data": {
      "application/vnd.jupyter.widget-view+json": {
       "model_id": "e4d27b2d4b444d10a4f6f960dda59ebb",
       "version_major": 2,
       "version_minor": 0
      },
      "text/plain": [
       "  0%|          | 0/433 [00:00<?, ?it/s]"
      ]
     },
     "metadata": {},
     "output_type": "display_data"
    },
    {
     "data": {
      "application/vnd.jupyter.widget-view+json": {
       "model_id": "c50852567b4842e18b595ddc57036bb4",
       "version_major": 2,
       "version_minor": 0
      },
      "text/plain": [
       "  0%|          | 0/433 [00:00<?, ?it/s]"
      ]
     },
     "metadata": {},
     "output_type": "display_data"
    },
    {
     "data": {
      "application/vnd.jupyter.widget-view+json": {
       "model_id": "6996a9d0a13d4df39e32bb0fadd2d00d",
       "version_major": 2,
       "version_minor": 0
      },
      "text/plain": [
       "  0%|          | 0/433 [00:00<?, ?it/s]"
      ]
     },
     "metadata": {},
     "output_type": "display_data"
    }
   ],
   "source": [
    "importlib.reload(disease_process_proteins)\n",
    "hyper_process_proteins, hyper_remain_proteins = disease_process_proteins.process_proteins_selection(proteins_neglogp_byprocess_df, reactome_proteins_indexes_df, multiple_df=False)\n",
    "closeness_process_proteins, closeness_remain_proteins = disease_process_proteins.process_proteins_selection(process_closeness_df, reactome_proteins_indexes_df, multiple_df=False)\n",
    "betweenness_process_proteins, betweenness_remain_proteins = disease_process_proteins.process_proteins_selection(process_betweenness_df, reactome_proteins_indexes_df, multiple_df=False)\n",
    "rwr_process_proteins, rwr_remain_proteins = disease_process_proteins.process_proteins_selection(process_rwr_df, reactome_proteins_indexes_df, multiple_df=False)"
   ]
  },
  {
   "cell_type": "code",
   "execution_count": 43,
   "id": "aa203d7e",
   "metadata": {},
   "outputs": [
    {
     "name": "stderr",
     "output_type": "stream",
     "text": [
      "<ipython-input-37-8d93b6046676>:4: RuntimeWarning:\n",
      "\n",
      "invalid value encountered in double_scalars\n",
      "\n"
     ]
    }
   ],
   "source": [
    "hyper_results = proteins_neglogp_byprocess_df.apply(NMAD)\n",
    "closeness_results = process_closeness_df.apply(NMAD)\n",
    "betweenness_results = process_betweenness_df.apply(NMAD)\n",
    "rwr_results = process_rwr_df.apply(NMAD)"
   ]
  },
  {
   "cell_type": "code",
   "execution_count": 44,
   "id": "b8f395ed",
   "metadata": {
    "scrolled": true
   },
   "outputs": [
    {
     "name": "stderr",
     "output_type": "stream",
     "text": [
      "<ipython-input-37-8d93b6046676>:4: RuntimeWarning:\n",
      "\n",
      "invalid value encountered in double_scalars\n",
      "\n",
      "C:\\Users\\alexf\\anaconda3\\lib\\site-packages\\numpy\\lib\\nanfunctions.py:1113: RuntimeWarning:\n",
      "\n",
      "All-NaN slice encountered\n",
      "\n"
     ]
    }
   ],
   "source": [
    "hyper_results_process_proteins = hyper_process_proteins.apply(NMAD)\n",
    "hyper_results_remain_proteins = hyper_remain_proteins.apply(NMAD)\n",
    "closeness_results_process_proteins = closeness_process_proteins.apply(NMAD)\n",
    "closeness_results_remain_proteins = closeness_remain_proteins.apply(NMAD)\n",
    "betweenness_results_process_proteins = betweenness_process_proteins.apply(NMAD)\n",
    "betweenness_results_remain_proteins = betweenness_remain_proteins.apply(NMAD)\n",
    "rwr_results_process_proteins = rwr_process_proteins.apply(NMAD)\n",
    "rwr_results_remain_proteins = rwr_remain_proteins.apply(NMAD)"
   ]
  },
  {
   "cell_type": "code",
   "execution_count": 45,
   "id": "770e236f",
   "metadata": {},
   "outputs": [],
   "source": [
    "hyper_results.to_csv('../../data/processed/nmad/hyper_process_all.csv', header=['NMAD'], index_label = ['process'])\n",
    "closeness_results.to_csv('../../data/processed/nmad/closeness_process_all.csv', header=['NMAD'], index_label = ['process'])\n",
    "betweenness_results.to_csv('../../data/processed/nmad/betweenness_process_all.csv', header=['NMAD'], index_label = ['process'])\n",
    "rwr_results.to_csv('../../data/processed/nmad/rwr_process_all.csv', header=['NMAD'], index_label = ['process'])\n",
    "\n",
    "hyper_results_process_proteins.to_csv('../../data/processed/nmad/hyper_process_proteins.csv', header=['NMAD'], index_label = ['process'])\n",
    "hyper_results_remain_proteins.to_csv('../../data/processed/nmad/hyper_process_remain_proteins.csv', header=['NMAD'], index_label = ['process'])\n",
    "closeness_results_process_proteins.to_csv('../../data/processed/nmad/closeness_process_proteins.csv', header=['NMAD'], index_label = ['process'])\n",
    "closeness_results_remain_proteins.to_csv('../../data/processed/nmad/closeness_process_remain_proteins.csv', header=['NMAD'], index_label = ['process'])\n",
    "betweenness_results_process_proteins.to_csv('../../data/processed/nmad/betweenness_process_proteins.csv', header=['NMAD'], index_label = ['process'])\n",
    "betweenness_results_remain_proteins.to_csv('../../data/processed/nmad/betweenness_process_remain_proteins.csv', header=['NMAD'], index_label = ['process'])\n",
    "rwr_results_process_proteins.to_csv('../../data/processed/nmad/rwr_process_proteins.csv', header=['NMAD'], index_label = ['process'])\n",
    "rwr_results_remain_proteins.to_csv('../../data/processed/nmad/rwr_process_remain_proteins.csv', header=['NMAD'], index_label = ['process'])"
   ]
  },
  {
   "cell_type": "code",
   "execution_count": 46,
   "id": "88bedfd6",
   "metadata": {},
   "outputs": [],
   "source": [
    "ppi80_hyper = pd.read_csv(\"../../data/processed/metrics/process_ppi80_hyper.csv\", sep=',', header=0, index_col=0)\n",
    "ppi80_closeness = pd.read_csv(\"../../data/processed/metrics/process_ppi80_closeness.csv\", sep=',', header=0, index_col=0)\n",
    "ppi80_betweenness = pd.read_csv(\"../../data/processed/metrics/process_ppi80_betweenness.csv\", sep=',', header=0, index_col=0)\n",
    "ppi80_rwr = pd.read_csv(\"../../data/processed/metrics/process_ppi80_rwr.csv\", sep=',', header=0, index_col=0)"
   ]
  },
  {
   "cell_type": "code",
   "execution_count": 47,
   "id": "ceca77a8",
   "metadata": {},
   "outputs": [],
   "source": [
    "cols = list(ppi80_betweenness.columns)[1:]\n",
    "ppi80_betweenness[cols] = ppi80_betweenness[cols].replace({'0':np.nan, 0:np.nan})"
   ]
  },
  {
   "cell_type": "code",
   "execution_count": 48,
   "id": "ac2d5d87",
   "metadata": {
    "scrolled": true
   },
   "outputs": [
    {
     "data": {
      "application/vnd.jupyter.widget-view+json": {
       "model_id": "0391f3a995914615854c28b08b1d577c",
       "version_major": 2,
       "version_minor": 0
      },
      "text/plain": [
       "  0%|          | 0/10 [00:00<?, ?it/s]"
      ]
     },
     "metadata": {},
     "output_type": "display_data"
    },
    {
     "data": {
      "application/vnd.jupyter.widget-view+json": {
       "model_id": "4a6569a6c3f8437187b755121ace6315",
       "version_major": 2,
       "version_minor": 0
      },
      "text/plain": [
       "  0%|          | 0/10 [00:00<?, ?it/s]"
      ]
     },
     "metadata": {},
     "output_type": "display_data"
    },
    {
     "data": {
      "application/vnd.jupyter.widget-view+json": {
       "model_id": "9881e08df55b4e2f8b74450dba6e9ee8",
       "version_major": 2,
       "version_minor": 0
      },
      "text/plain": [
       "  0%|          | 0/10 [00:00<?, ?it/s]"
      ]
     },
     "metadata": {},
     "output_type": "display_data"
    },
    {
     "data": {
      "application/vnd.jupyter.widget-view+json": {
       "model_id": "677d737a2a9f4c29aa1409e8bb309aab",
       "version_major": 2,
       "version_minor": 0
      },
      "text/plain": [
       "  0%|          | 0/10 [00:00<?, ?it/s]"
      ]
     },
     "metadata": {},
     "output_type": "display_data"
    }
   ],
   "source": [
    "importlib.reload(disease_process_proteins)\n",
    "ppi80_hyper_process_proteins, ppi80_hyper_remain_proteins = disease_process_proteins.process_proteins_selection(ppi80_hyper, reactome_proteins_indexes_df)\n",
    "ppi80_closeness_process_proteins, ppi80_closeness_remain_proteins = disease_process_proteins.process_proteins_selection(ppi80_closeness, reactome_proteins_indexes_df)\n",
    "ppi80_betweenness_process_proteins, ppi80_betweenness_remain_proteins = disease_process_proteins.process_proteins_selection(ppi80_betweenness, reactome_proteins_indexes_df)\n",
    "ppi80_rwr_process_proteins, ppi80_rwr_remain_proteins = disease_process_proteins.process_proteins_selection(ppi80_rwr, reactome_proteins_indexes_df)"
   ]
  },
  {
   "cell_type": "code",
   "execution_count": 49,
   "id": "3c95a927",
   "metadata": {
    "scrolled": false
   },
   "outputs": [],
   "source": [
    "hyper_results_80 = ppi80_hyper.groupby(level=0).transform(NMAD).mean(axis=0)\n",
    "closeness_results_80 = ppi80_closeness.groupby(level=0).transform(NMAD).mean(axis=0)\n",
    "betweenness_results_80 = ppi80_betweenness.groupby(level=0).transform(NMAD).mean(axis=0)\n",
    "rwr_results_80 = ppi80_rwr.groupby(level=0).transform(NMAD).mean(axis=0)"
   ]
  },
  {
   "cell_type": "code",
   "execution_count": 50,
   "id": "26df08fa",
   "metadata": {},
   "outputs": [],
   "source": [
    "hyper_results_process_proteins_80 = ppi80_hyper_process_proteins.groupby(level=0).transform(NMAD).mean(axis=0)\n",
    "hyper_results_remain_proteins_80 = ppi80_hyper_remain_proteins.groupby(level=0).transform(NMAD).mean(axis=0)\n",
    "closeness_results_process_proteins_80 = ppi80_closeness_process_proteins.groupby(level=0).transform(NMAD).mean(axis=0)\n",
    "closeness_results_remain_proteins_80 = ppi80_closeness_remain_proteins.groupby(level=0).transform(NMAD).mean(axis=0)\n",
    "betweenness_results_process_proteins_80 = ppi80_betweenness_process_proteins.groupby(level=0).transform(NMAD).mean(axis=0)\n",
    "betweenness_results_remain_proteins_80 = ppi80_betweenness_remain_proteins.groupby(level=0).transform(NMAD).mean(axis=0)\n",
    "rwr_results_process_proteins_80 = ppi80_rwr_process_proteins.groupby(level=0).transform(NMAD).mean(axis=0)\n",
    "rwr_results_remain_proteins_80 = ppi80_rwr_remain_proteins.groupby(level=0).transform(NMAD).mean(axis=0)"
   ]
  },
  {
   "cell_type": "code",
   "execution_count": 51,
   "id": "43effa34",
   "metadata": {},
   "outputs": [],
   "source": [
    "hyper_results_80.to_csv('../../data/processed/nmad/hyper_80_process_all.csv', header=['NMAD'], index_label = ['process'])\n",
    "closeness_results_80.to_csv('../../data/processed/nmad/closeness_80_process_all.csv', header=['NMAD'], index_label = ['process'])\n",
    "betweenness_results_80.to_csv('../../data/processed/nmad/betweenness_80_process_all.csv', header=['NMAD'], index_label = ['process'])\n",
    "rwr_results_80.to_csv('../../data/processed/nmad/rwr_80_process_all.csv', header=['NMAD'], index_label = ['process'])\n",
    "\n",
    "hyper_results_process_proteins_80.to_csv('../../data/processed/nmad/hyper_80_process_proteins.csv', header=['NMAD'], index_label = ['process'])\n",
    "hyper_results_remain_proteins_80.to_csv('../../data/processed/nmad/hyper_80_process_remain_proteins.csv', header=['NMAD'], index_label = ['process'])\n",
    "closeness_results_process_proteins_80.to_csv('../../data/processed/nmad/closeness_80_process_proteins.csv', header=['NMAD'], index_label = ['process'])\n",
    "closeness_results_remain_proteins_80.to_csv('../../data/processed/nmad/closeness_80_process_remain_proteins.csv', header=['NMAD'], index_label = ['process'])\n",
    "betweenness_results_process_proteins_80.to_csv('../../data/processed/nmad/betweenness_80_process_proteins.csv', header=['NMAD'], index_label = ['process'])\n",
    "betweenness_results_remain_proteins_80.to_csv('../../data/processed/nmad/betweenness_80_process_remain_proteins.csv', header=['NMAD'], index_label = ['process'])\n",
    "rwr_results_process_proteins_80.to_csv('../../data/processed/nmad/rwr_80_process_proteins.csv', header=['NMAD'], index_label = ['process'])\n",
    "rwr_results_remain_proteins_80.to_csv('../../data/processed/nmad/rwr_80_process_remain_proteins.csv', header=['NMAD'], index_label = ['process'])"
   ]
  }
 ],
 "metadata": {
  "kernelspec": {
   "display_name": "Python 3",
   "language": "python",
   "name": "python3"
  },
  "language_info": {
   "codemirror_mode": {
    "name": "ipython",
    "version": 3
   },
   "file_extension": ".py",
   "mimetype": "text/x-python",
   "name": "python",
   "nbconvert_exporter": "python",
   "pygments_lexer": "ipython3",
   "version": "3.8.8"
  }
 },
 "nbformat": 4,
 "nbformat_minor": 5
}
