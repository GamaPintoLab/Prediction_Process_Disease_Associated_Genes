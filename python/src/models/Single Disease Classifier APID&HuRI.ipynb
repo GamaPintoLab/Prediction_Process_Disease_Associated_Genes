{
 "cells": [
  {
   "cell_type": "markdown",
   "id": "c85b7252",
   "metadata": {},
   "source": [
    "# 0. Imports and Data Load"
   ]
  },
  {
   "cell_type": "code",
   "execution_count": 9,
   "id": "46406049",
   "metadata": {},
   "outputs": [
    {
     "data": {
      "text/plain": [
       "{'divide': 'ignore', 'over': 'warn', 'under': 'ignore', 'invalid': 'ignore'}"
      ]
     },
     "execution_count": 9,
     "metadata": {},
     "output_type": "execute_result"
    }
   ],
   "source": [
    "import pandas as pd\n",
    "import classifiers\n",
    "import importlib\n",
    "from igraph import Graph\n",
    "import numpy as np\n",
    "from ast import literal_eval\n",
    "np.seterr(divide='ignore', invalid='ignore')"
   ]
  },
  {
   "cell_type": "code",
   "execution_count": 69,
   "id": "93baca0e",
   "metadata": {},
   "outputs": [],
   "source": [
    "hypergeometric = pd.read_csv(\"../../data/processed/metrics/disease_hypergeometric_apid_huri.csv\", sep=',', header=0, index_col=0)\n",
    "closeness = pd.read_csv(\"../../data/processed/metrics/disease_closeness_apid_huri.csv\", sep=',', header=0, index_col=0)\n",
    "betweenness = pd.read_csv(\"../../data/processed/metrics/disease_betweenness_apid_huri.csv\", sep=',', header=0, index_col=0)\n",
    "rwr = pd.read_csv(\"../../data/processed/metrics/disease_rwr_apid_huri.csv\", sep=',', header=0, index_col=0)\n",
    "fraction_betweenness = pd.read_csv(\"../../data/processed/metrics/disease_fraction_betweenness_apid_huri.csv\", sep=',', header=0, index_col=0)\n",
    "\n",
    "hypergeometric_80 = pd.read_csv(\"../../data/processed/metrics/disease_ppi80_hyper_apid_huri.csv\", sep=',', header=0, index_col=0)\n",
    "closeness_80 = pd.read_csv(\"../../data/processed/metrics/disease_ppi80_closeness_apid_huri.csv\", sep=',', header=0, index_col=0)\n",
    "betweenness_80 = pd.read_csv(\"../../data/processed/metrics/disease_ppi80_betweenness_apid_huri.csv\", sep=',', header=0, index_col=0)\n",
    "fraction_betweenness_80 = pd.read_csv(\"../../data/processed/metrics/disease_ppi80_fraction_betweenness_apid_huri.csv\", sep=',', header=0, index_col=0)\n",
    "rwr_80 = pd.read_csv(\"../../data/processed/metrics/disease_ppi80_rwr_apid_huri.csv\", sep=',', header=0, index_col=0)\n",
    "\n",
    "hypergeometric_protein80 = pd.read_csv(\"../../data/processed/metrics/disease_protein80_hyper_apid_huri.csv\", sep=',', header=0, index_col=0)\n",
    "closeness_protein80 = pd.read_csv(\"../../data/processed/metrics/disease_protein80_closeness_apid_huri.csv\", sep=',', header=0, index_col=0)\n",
    "betweenness_protein80 = pd.read_csv(\"../../data/processed/metrics/disease_protein80_betweenness_apid_huri.csv\", sep=',', header=0, index_col=0)\n",
    "fraction_betweenness_protein80 = pd.read_csv(\"../../data/processed/metrics/disease_protein80_fraction_betweenness_apid_huri.csv\", sep=',', header=0, index_col=0)\n",
    "rwr_protein80 = pd.read_csv(\"../../data/processed/metrics/disease_protein80_rwr_apid_huri.csv\", sep=',', header=0, index_col=0)"
   ]
  },
  {
   "cell_type": "code",
   "execution_count": 33,
   "id": "2a395449",
   "metadata": {},
   "outputs": [],
   "source": [
    "hypergeometric_conservative = pd.read_csv(\"../../data/processed/metrics/disease_hypergeometric_conservative_apid_huri.csv\", sep=',', header=0, index_col=0)\n",
    "closeness_conservative = pd.read_csv(\"../../data/processed/metrics/disease_closeness_conservative_apid_huri.csv\", sep=',', header=0, index_col=0)\n",
    "betweenness_conservative = pd.read_csv(\"../../data/processed/metrics/disease_betweenness_conservative_apid_huri.csv\", sep=',', header=0, index_col=0)\n",
    "#rwr_conservative = pd.read_csv(\"../../data/processed/metrics/disease_rwr_conservative_apid_huri.csv\", sep=',', header=0, index_col=0)\n",
    "#fraction_betweenness_conservative = pd.read_csv(\"../../data/processed/metrics/disease_fraction_betweenness_conservative_apid_huri.csv\", sep=',', header=0, index_col=0)\n",
    "\n",
    "#hypergeometric_conservative_80 = pd.read_csv(\"../../data/processed/metrics/disease_ppi80_hyper_conservative_apid_huri.csv\", sep=',', header=0, index_col=0)\n",
    "#closeness_conservative_80 = pd.read_csv(\"../../data/processed/metrics/disease_ppi80_closeness_conservative_apid_huri.csv\", sep=',', header=0, index_col=0)\n",
    "#betweenness_conservative_80 = pd.read_csv(\"../../data/processed/metrics/disease_ppi80_betweenness_conservative_apid_huri.csv\", sep=',', header=0, index_col=0)\n",
    "#fraction_betweenness_conservative_80 = pd.read_csv(\"../../data/processed/metrics/disease_ppi80_fraction_betweenness_conservative_apid_huri.csv\", sep=',', header=0, index_col=0)\n",
    "#rwr_conservative_80 = pd.read_csv(\"../../data/processed/metrics/disease_ppi80_rwr_conservative_apid_huri.csv\", sep=',', header=0, index_col=0)\n",
    "\n",
    "#hypergeometric_conservative_protein80 = pd.read_csv(\"../../data/processed/metrics/disease_protein80_hyper_conservative_apid_huri.csv\", sep=',', header=0, index_col=0)\n",
    "#closeness_conservative_protein80 = pd.read_csv(\"../../data/processed/metrics/disease_protein80_closeness_conservative_apid_huri.csv\", sep=',', header=0, index_col=0)\n",
    "#betweenness_conservative_protein80 = pd.read_csv(\"../../data/processed/metrics/disease_protein80_betweenness_conservative_apid_huri.csv\", sep=',', header=0, index_col=0)\n",
    "#fraction_betweenness_conservative_protein80 = pd.read_csv(\"../../data/processed/metrics/disease_protein80_fraction_betweenness_conservative_apid_huri.csv\", sep=',', header=0, index_col=0)\n",
    "#rwr_conservative_protein80 = pd.read_csv(\"../../data/processed/metrics/disease_protein80_rwr_conservative_apid_huri.csv\", sep=',', header=0, index_col=0)"
   ]
  },
  {
   "cell_type": "code",
   "execution_count": 13,
   "id": "7f346197",
   "metadata": {},
   "outputs": [],
   "source": [
    "graph = Graph.Read_GML(\"../../data/processed/graph_apid_huri\")\n",
    "disgenet_proteins_indexes_df = pd.read_csv(\"../../data/processed/disgenet_prot_index_main_comp.csv\", sep=',', header=0)\n",
    "\n",
    "disgenet_proteins_indexes_df['protein_index'] = disgenet_proteins_indexes_df['protein_index'].apply(literal_eval)\n",
    "disgenet_proteins_indexes_df['main_component'] = disgenet_proteins_indexes_df['main_component'].apply(literal_eval)\n",
    "disgenet_proteins_indexes_df['conservative_module'] = disgenet_proteins_indexes_df['conservative_module'].apply(literal_eval)\n",
    "disgenet_proteins_indexes_df['added_nodes'] = disgenet_proteins_indexes_df['added_nodes'].apply(literal_eval)\n",
    "\n",
    "disgenet_prot_index_main_comp = disgenet_proteins_indexes_df[disgenet_proteins_indexes_df['process'].isin(hypergeometric.columns)]"
   ]
  },
  {
   "cell_type": "code",
   "execution_count": 29,
   "id": "9d2ed7a0",
   "metadata": {},
   "outputs": [],
   "source": [
    "disgenet_labels = np.zeros(hypergeometric.shape)\n",
    "column = 0\n",
    "for indexes in disgenet_prot_index_main_comp['main_component'].values:\n",
    "    for pos in indexes:\n",
    "        disgenet_labels[pos][column] = 1\n",
    "    column += 1\n",
    "np.savetxt(\"../../data/processed/disgenet_filtered_labels_apid_huri.csv\", disgenet_labels, delimiter=\",\")"
   ]
  },
  {
   "cell_type": "code",
   "execution_count": 34,
   "id": "17c48a5c",
   "metadata": {},
   "outputs": [],
   "source": [
    "disgenet_labels_conservative = np.zeros(hypergeometric_conservative.shape)\n",
    "column = 0\n",
    "for indexes in disgenet_proteins_indexes_df['conservative_module'].values:\n",
    "    for pos in indexes:\n",
    "        disgenet_labels_conservative[pos][column] = 1\n",
    "    column += 1\n",
    "np.savetxt(\"../../data/processed/disgenet_conservative_labels_apid_huri.csv\", disgenet_labels_conservative, delimiter=\",\")"
   ]
  },
  {
   "cell_type": "code",
   "execution_count": 40,
   "id": "a05a8ddb",
   "metadata": {},
   "outputs": [],
   "source": [
    "disgenet_labels_df = pd.read_csv(\"../../data/processed/disgenet_filtered_labels_apid_huri.csv\", sep=',', names=disgenet_prot_index_main_comp['process'].values)\n",
    "disgenet_labels_df['protein_id'] = graph.vs['name']\n",
    "disgenet_labels_df.set_index('protein_id', inplace=True)"
   ]
  },
  {
   "cell_type": "code",
   "execution_count": 42,
   "id": "77a69443",
   "metadata": {},
   "outputs": [],
   "source": [
    "disgenet_labels_conservative_df = pd.read_csv('../../data/processed/disgenet_conservative_labels_apid_huri.csv', names=disgenet_proteins_indexes_df['process'].values)\n",
    "disgenet_labels_conservative_df['protein_id'] = graph.vs['name']\n",
    "disgenet_labels_conservative_df.set_index('protein_id', inplace=True)"
   ]
  },
  {
   "cell_type": "code",
   "execution_count": 86,
   "id": "4ed4e7c2",
   "metadata": {},
   "outputs": [],
   "source": [
    "ppi80_hyper_list = []\n",
    "ppi80_closeness_list = []\n",
    "ppi80_betweenness_list = []\n",
    "ppi80_fraction_betweenness_list = []\n",
    "ppi80_rwr_list = []\n",
    "label_list = []\n",
    "\n",
    "for i, df in hypergeometric_80.groupby(level=0):\n",
    "    df.set_index('level_1', inplace=True)\n",
    "    ppi80_hyper_list.append(df)\n",
    "    label_list.append(disgenet_labels_df)\n",
    "\n",
    "for i, df in closeness_80.groupby(level=0):\n",
    "    df.set_index('level_1', inplace=True)\n",
    "    ppi80_closeness_list.append(df)\n",
    "    \n",
    "for i, df in betweenness_80.groupby(level=0):\n",
    "    df.set_index('level_1', inplace=True)\n",
    "    ppi80_betweenness_list.append(df)\n",
    "    \n",
    "for i, df in fraction_betweenness_80.groupby(level=0):\n",
    "    df.set_index('index', inplace=True)\n",
    "    ppi80_fraction_betweenness_list.append(df)\n",
    "    \n",
    "for i, df in rwr_80.groupby(level=0):\n",
    "    df.set_index('level_1', inplace=True)\n",
    "    ppi80_rwr_list.append(df)"
   ]
  },
  {
   "cell_type": "code",
   "execution_count": 90,
   "id": "d11cc908",
   "metadata": {},
   "outputs": [],
   "source": [
    "protein80_hyper_list = []\n",
    "protein80_closeness_list = []\n",
    "protein80_betweenness_list = []\n",
    "protein80_fraction_betweenness_list = []\n",
    "protein80_rwr_list = []\n",
    "label_list_protein80 = []\n",
    "\n",
    "for i, df in hypergeometric_protein80.groupby(level=0):\n",
    "    df.set_index('level_1', inplace=True)\n",
    "    protein80_hyper_list.append(df)\n",
    "    label_list_protein80.append(disgenet_labels_df)\n",
    "\n",
    "for i, df in closeness_protein80.groupby(level=0):\n",
    "    df.set_index('level_1', inplace=True)\n",
    "    protein80_closeness_list.append(df)\n",
    "    \n",
    "for i, df in betweenness_protein80.groupby(level=0):\n",
    "    df.set_index('level_1', inplace=True)\n",
    "    protein80_betweenness_list.append(df)\n",
    "    \n",
    "for i, df in fraction_betweenness_protein80.groupby(level=0):\n",
    "    df.set_index('index', inplace=True)\n",
    "    protein80_fraction_betweenness_list.append(df)\n",
    "    \n",
    "for i, df in rwr_protein80.groupby(level=0):\n",
    "    df.set_index('level_1', inplace=True)\n",
    "    protein80_rwr_list.append(df)"
   ]
  },
  {
   "cell_type": "code",
   "execution_count": null,
   "id": "de423991",
   "metadata": {},
   "outputs": [],
   "source": [
    "ppi80_hyper_list_conservative = []\n",
    "ppi80_closeness_list_conservative = []\n",
    "ppi80_betweenness_list_conservative = []\n",
    "ppi80_fraction_betweenness_list_conservative = []\n",
    "ppi80_rwr_list_conservative = []\n",
    "label_list_conservative = []\n",
    "\n",
    "for i, df in hypergeometric_conservative_80.groupby(level=0):\n",
    "    df.set_index('level_1', inplace=True)\n",
    "    ppi80_hyper_list_conservative.append(df)\n",
    "    label_list_conservative.append(disgenet_labels_conservative_df)\n",
    "\n",
    "for i, df in closeness_conservative_80.groupby(level=0):\n",
    "    df.set_index('level_1', inplace=True)\n",
    "    ppi80_closeness_list_conservative.append(df)\n",
    "    \n",
    "for i, df in betweenness_conservative_80.groupby(level=0):\n",
    "    df.set_index('level_1', inplace=True)\n",
    "    ppi80_betweenness_list_conservative.append(df)\n",
    "    \n",
    "for i, df in fraction_betweenness_conservative_80.groupby(level=0):\n",
    "    df.set_index('level_1', inplace=True)\n",
    "    ppi80_fraction_betweenness_list_conservative.append(df)\n",
    "    \n",
    "for i, df in rwr_conservative_80.groupby(level=0):\n",
    "    df.set_index('level_1', inplace=True)\n",
    "    ppi80_rwr_list_conservative.append(df)"
   ]
  },
  {
   "cell_type": "code",
   "execution_count": null,
   "id": "732a81e8",
   "metadata": {},
   "outputs": [],
   "source": [
    "protein80_hyper_list_conservative = []\n",
    "protein80_closeness_list_conservative = []\n",
    "protein80_betweenness_list_conservative = []\n",
    "protein80_fraction_betweenness_list_conservative = []\n",
    "protein80_rwr_list_conservative = []\n",
    "label_list_protein80_conservative = []\n",
    "\n",
    "for i, df in hypergeometric_conservative_protein80.groupby(level=0):\n",
    "    df.set_index('level_1', inplace=True)\n",
    "    protein80_hyper_list_conservative.append(df)\n",
    "    label_list_protein80_conservative.append(disgenet_labels_conservative_df)\n",
    "\n",
    "for i, df in closeness_conservative_protein80.groupby(level=0):\n",
    "    df.set_index('level_1', inplace=True)\n",
    "    protein80_closeness_list_conservative.append(df)\n",
    "    \n",
    "for i, df in betweenness_conservative_protein80.groupby(level=0):\n",
    "    df.set_index('level_1', inplace=True)\n",
    "    protein80_betweenness_list_conservative.append(df)\n",
    "    \n",
    "for i, df in fraction_betweenness_conservative_protein80.groupby(level=0):\n",
    "    df.set_index('level_1', inplace=True)\n",
    "    protein80_fraction_betweenness_list_conservative.append(df)\n",
    "    \n",
    "for i, df in rwr_conservative_protein80.groupby(level=0):\n",
    "    df.set_index('level_1', inplace=True)\n",
    "    protein80_rwr_list_conservative.append(df)"
   ]
  },
  {
   "cell_type": "code",
   "execution_count": 92,
   "id": "9110ca0c",
   "metadata": {},
   "outputs": [],
   "source": [
    "hypergeometric_test_indices = pd.read_csv(\"../../data/processed/fs/disease/disease_hyper_test_apid_huri.csv\", sep=',', header=0, dtype='Int64', names=hypergeometric.columns)-1\n",
    "closeness_test_indices = pd.read_csv(\"../../data/processed/fs/disease/disease_closeness_test_apid_huri.csv\", sep=',', header=0, dtype='Int64', names=closeness.columns)-1\n",
    "betweenness_test_indices = pd.read_csv(\"../../data/processed/fs/disease/disease_betweenness_test_apid_huri.csv\", sep=',', header=0, dtype='Int64', names=betweenness.columns)-1\n",
    "fraction_betweenness_test_indices = pd.read_csv(\"../../data/processed/fs/disease/disease_fraction_betweenness_test_apid_huri.csv\", sep=',', header=0, dtype='Int64', names=fraction_betweenness.columns)-1\n",
    "rwr_test_indices = pd.read_csv(\"../../data/processed/fs/disease/disease_rwr_test_apid_huri.csv\", sep=',', header=0, dtype='Int64', names=rwr.columns)-1\n",
    "\n",
    "hypergeometric_80_test_index = np.array(np.array_split(pd.read_csv(\"../../data/processed/fs/disease/disgenet_hyper_ppi80_test_apid_huri.csv\", sep=',', header=0).transpose(), 10, axis = 1)).astype(int) -1\n",
    "closeness_80_test_index = np.array(np.array_split(pd.read_csv(\"../../data/processed/fs/disease/disgenet_closeness_ppi80_test_apid_huri.csv\", sep=',', header=0).transpose(), 10, axis = 1)).astype(int) -1\n",
    "betweenness_80_test_index = np.array(np.array_split(pd.read_csv(\"../../data/processed/fs/disease/disgenet_betweenness_ppi80_test_apid_huri.csv\", sep=',', header=0).transpose(), 10, axis = 1)).astype(int) -1\n",
    "fraction_betweenness_80_test_index = np.array(np.array_split(pd.read_csv(\"../../data/processed/fs/disease/disgenet_fraction_betweenness_ppi80_test_apid_huri.csv\", sep=',', header=0).transpose(), 10, axis = 1)).astype(int) -1\n",
    "rwr_80_test_index = np.array(np.array_split(pd.read_csv(\"../../data/processed/fs/disease/disgenet_rwr_ppi80_test_apid_huri.csv\", sep=',', header=0).transpose(), 10, axis = 1)).astype(int) -1\n",
    "\n",
    "hypergeometric_protein80_test_index = np.array(np.array_split(pd.read_csv(\"../../data/processed/fs/disease/disgenet_hyper_protein80_test_apid_huri.csv\", sep=',', header=0).transpose(), 10, axis = 1)).astype(int) -1\n",
    "closeness_protein80_test_index = np.array(np.array_split(pd.read_csv(\"../../data/processed/fs/disease/disgenet_closeness_protein80_test_apid_huri.csv\", sep=',', header=0).transpose(), 10, axis = 1)).astype(int) -1\n",
    "betweenness_protein80_test_index = np.array(np.array_split(pd.read_csv(\"../../data/processed/fs/disease/disgenet_betweenness_protein80_test_apid_huri.csv\", sep=',', header=0).transpose(), 10, axis = 1)).astype(int) -1\n",
    "fraction_betweenness_protein80_test_index = np.array(np.array_split(pd.read_csv(\"../../data/processed/fs/disease/disgenet_fraction_betweenness_protein80_test_apid_huri.csv\", sep=',', header=0).transpose(), 10, axis = 1)).astype(int) -1\n",
    "rwr_protein80_test_index = np.array(np.array_split(pd.read_csv(\"../../data/processed/fs/disease/disgenet_rwr_protein80_test_apid_huri.csv\", sep=',', header=0).transpose(), 10, axis = 1)).astype(int) -1"
   ]
  },
  {
   "cell_type": "code",
   "execution_count": null,
   "id": "86cf045c",
   "metadata": {},
   "outputs": [],
   "source": [
    "#hypergeometric_test_indices_conservative = pd.read_csv(\"../../data/processed/fs/disease/disease_hyper_test_apid_huri.csv\", sep=',', header=0, dtype='Int64', names=hypergeometric.columns)-1\n",
    "#closeness_test_indices_conservative = pd.read_csv(\"../../data/processed/fs/disease/disease_closeness_test_apid_huri.csv\", sep=',', header=0, dtype='Int64', names=closeness.columns)-1\n",
    "#betweenness_test_indices = pd.read_csv(\"../../data/processed/fs/disease/disease_betweenness_test_apid_huri.csv\", sep=',', header=0, dtype='Int64', names=betweenness.columns)-1\n",
    "#fraction_betweenness_test_indices_conservative = pd.read_csv(\"../../data/processed/fs/disease/disease_fraction_betweenness_test_apid_huri.csv\", sep=',', header=0, dtype='Int64', names=fraction_betweenness.columns)-1\n",
    "#rwr_test_indices_conservative = pd.read_csv(\"../../data/processed/fs/disease/disease_rwr_test_apid_huri.csv\", sep=',', header=0, dtype='Int64', names=rwr.columns)-1\n",
    "\n",
    "#hypergeometric_80_test_index_conservative = np.array(np.array_split(pd.read_csv(\"../../data/processed/fs/disease/disease_hyper_ppi80_test_apid_huri.csv\", sep=',', header=0).transpose(), 429, axis = 1)).astype(int) -1\n",
    "#closeness_80_test_index_conservative = np.array(np.array_split(pd.read_csv(\"../../data/processed/fs/disease/disease_closeness_ppi80_test_apid_huri.csv\", sep=',', header=0).transpose(), 429, axis = 1)).astype(int) -1\n",
    "#betweenness_80_test_index_conservative = np.array(np.array_split(pd.read_csv(\"../../data/processed/fs/disease/disease_betweenness_ppi80_test_apid_huri.csv\", sep=',', header=0).transpose(), 429, axis = 1)).astype(int) -1\n",
    "#fraction_betweenness_80_test_index_conservative = np.array(np.array_split(pd.read_csv(\"../../data/processed/fs/disease/disease_fraction_betweenness_ppi80_test_apid_huri.csv\", sep=',', header=0).transpose(), 429, axis = 1)).astype(int) -1\n",
    "#rwr_80_test_index_conservative = np.array(np.array_split(pd.read_csv(\"../../data/processed/fs/disease/disease_rwr_ppi80_test_apid_huri.csv\", sep=',', header=0).transpose(), 429, axis = 1)).astype(int) -1\n",
    "\n",
    "#hypergeometric_protein80_test_index_conservative = np.array(np.array_split(pd.read_csv(\"../../data/processed/fs/disease/disease_hyper_protein80_test_apid_huri.csv\", sep=',', header=0).transpose(), 429, axis = 1)).astype(int) -1\n",
    "#closeness_protein80_test_index_conservative = np.array(np.array_split(pd.read_csv(\"../../data/processed/fs/disease/disease_closeness_protein80_test_apid_huri.csv\", sep=',', header=0).transpose(), 429, axis = 1)).astype(int) -1\n",
    "#betweenness_protein80_test_index_conservative = np.array(np.array_split(pd.read_csv(\"../../data/processed/fs/disease/disease_betweenness_protein80_test_apid_huri.csv\", sep=',', header=0).transpose(), 429, axis = 1)).astype(int) -1\n",
    "#fraction_betweenness_protein80_test_index_conservative = np.array(np.array_split(pd.read_csv(\"../../data/processed/fs/disease/disease_fraction_betweenness_protein80_test_apid_huri.csv\", sep=',', header=0).transpose(), 429, axis = 1)).astype(int) -1\n",
    "#rwr_protein80_test_index_conservative = np.array(np.array_split(pd.read_csv(\"../../data/processed/fs/disease/disease_rwr_protein80_test_apid_huri.csv\", sep=',', header=0).transpose(), 429, axis = 1)).astype(int) -1"
   ]
  },
  {
   "cell_type": "markdown",
   "id": "63b7c570",
   "metadata": {},
   "source": [
    "# 1. Threshold Classifier - Complete Network"
   ]
  },
  {
   "cell_type": "markdown",
   "id": "1ebaaa69",
   "metadata": {},
   "source": [
    "## 1.1. Classification with Steiner Tree"
   ]
  },
  {
   "cell_type": "code",
   "execution_count": 49,
   "id": "e16145b9",
   "metadata": {
    "scrolled": true
   },
   "outputs": [
    {
     "data": {
      "application/vnd.jupyter.widget-view+json": {
       "model_id": "b94659ff356849388eee23f546602aff",
       "version_major": 2,
       "version_minor": 0
      },
      "text/plain": [
       "  0%|          | 0/223 [00:00<?, ?it/s]"
      ]
     },
     "metadata": {},
     "output_type": "display_data"
    }
   ],
   "source": [
    "importlib.reload(classifiers)\n",
    "hypergeometric_simple_clf = classifiers.simple_classifier(hypergeometric, disgenet_labels_df, hypergeometric_test_indices, op_metric='fmeasure')\n",
    "hypergeometric_simple_clf.to_csv('../../models/apid_huri/disease/disease_hypergeometric_simple.csv', index=False)"
   ]
  },
  {
   "cell_type": "code",
   "execution_count": 50,
   "id": "e7a5343c",
   "metadata": {},
   "outputs": [
    {
     "data": {
      "application/vnd.jupyter.widget-view+json": {
       "model_id": "5e598093969b43f5b5def34aa25e83d6",
       "version_major": 2,
       "version_minor": 0
      },
      "text/plain": [
       "  0%|          | 0/223 [00:00<?, ?it/s]"
      ]
     },
     "metadata": {},
     "output_type": "display_data"
    }
   ],
   "source": [
    "importlib.reload(classifiers)\n",
    "closeness_simple_clf = classifiers.simple_classifier(closeness, disgenet_labels_df, closeness_test_indices, op_metric='fmeasure')\n",
    "closeness_simple_clf.to_csv('../../models/apid_huri/disease/disease_closeness_simple.csv', index=False)"
   ]
  },
  {
   "cell_type": "code",
   "execution_count": 51,
   "id": "aba90a22",
   "metadata": {},
   "outputs": [
    {
     "data": {
      "application/vnd.jupyter.widget-view+json": {
       "model_id": "71d6835ba4c4405198e3e28e0042766a",
       "version_major": 2,
       "version_minor": 0
      },
      "text/plain": [
       "  0%|          | 0/223 [00:00<?, ?it/s]"
      ]
     },
     "metadata": {},
     "output_type": "display_data"
    }
   ],
   "source": [
    "importlib.reload(classifiers)\n",
    "betweenness_simple_clf = classifiers.simple_classifier(betweenness, disgenet_labels_df, betweenness_test_indices, op_metric='fmeasure')\n",
    "betweenness_simple_clf.to_csv('../../models/apid_huri/disease/disease_betweenness_simple.csv', index=False)"
   ]
  },
  {
   "cell_type": "code",
   "execution_count": 53,
   "id": "275101f4",
   "metadata": {},
   "outputs": [
    {
     "data": {
      "application/vnd.jupyter.widget-view+json": {
       "model_id": "a5e1bbbea2ba41c0aa9c2b75a304d2e4",
       "version_major": 2,
       "version_minor": 0
      },
      "text/plain": [
       "  0%|          | 0/223 [00:00<?, ?it/s]"
      ]
     },
     "metadata": {},
     "output_type": "display_data"
    }
   ],
   "source": [
    "importlib.reload(classifiers)\n",
    "fraction_betweenness_simple_clf = classifiers.simple_classifier(fraction_betweenness, disgenet_labels_df, fraction_betweenness_test_indices, op_metric='fmeasure')\n",
    "fraction_betweenness_simple_clf.to_csv('../../models/apid_huri/disease/disease_fraction_betweenness_simple.csv', index=False)"
   ]
  },
  {
   "cell_type": "code",
   "execution_count": 54,
   "id": "ec60a58b",
   "metadata": {
    "scrolled": true
   },
   "outputs": [
    {
     "data": {
      "application/vnd.jupyter.widget-view+json": {
       "model_id": "9a38e819a36441aaad8423e57a753de7",
       "version_major": 2,
       "version_minor": 0
      },
      "text/plain": [
       "  0%|          | 0/223 [00:00<?, ?it/s]"
      ]
     },
     "metadata": {},
     "output_type": "display_data"
    }
   ],
   "source": [
    "importlib.reload(classifiers)\n",
    "rwr_simple_clf = classifiers.simple_classifier(rwr, disgenet_labels_df, rwr_test_indices, op_metric='fmeasure')\n",
    "rwr_simple_clf.to_csv('../../models/apid_huri/disease/disease_rwr_simple.csv', index=False)"
   ]
  },
  {
   "cell_type": "markdown",
   "id": "2d0d8e3b",
   "metadata": {},
   "source": [
    "## 1.2 Classification with Conservative Module"
   ]
  },
  {
   "cell_type": "code",
   "execution_count": 10,
   "id": "87f618e2",
   "metadata": {},
   "outputs": [
    {
     "data": {
      "application/vnd.jupyter.widget-view+json": {
       "model_id": "450183a4ccc741f39f3201a500f5c1f9",
       "version_major": 2,
       "version_minor": 0
      },
      "text/plain": [
       "  0%|          | 0/223 [00:00<?, ?it/s]"
      ]
     },
     "metadata": {},
     "output_type": "display_data"
    }
   ],
   "source": [
    "importlib.reload(classifiers)\n",
    "hypergeometric_simple_clf_conservative = classifiers.simple_classifier(hypergeometric_conservative, disgenet_labels_conservative_df, hypergeometric_test_indices_conservative, op_metric='fmeasure')\n",
    "hypergeometric_simple_clf_conservative.to_csv('../../models/apid_huri/disease/disease_hypergeometric_simple_conservative.csv', index=False)"
   ]
  },
  {
   "cell_type": "code",
   "execution_count": null,
   "id": "60cf2e89",
   "metadata": {},
   "outputs": [],
   "source": [
    "importlib.reload(classifiers)\n",
    "closeness_simple_clf_conservative = classifiers.simple_classifier(closeness_conservative, disgenet_labels_conservative_df, closeness_test_indices_conservative, op_metric='fmeasure')\n",
    "closeness_simple_clf_conservative.to_csv('../../models/apid_huri/disease/disease_closeness_simple_conservative.csv', index=False)"
   ]
  },
  {
   "cell_type": "code",
   "execution_count": null,
   "id": "811d00f0",
   "metadata": {},
   "outputs": [],
   "source": [
    "importlib.reload(classifiers)\n",
    "betweenness_simple_clf_conservative = classifiers.simple_classifier(betweenness_conservative, disgenet_labels_conservative_df, betweenness_test_indices_conservative, op_metric='fmeasure')\n",
    "betweenness_simple_clf_conservative.to_csv('../../models/apid_huri/disease/disease_betweenness_simple_conservative.csv', index=False)"
   ]
  },
  {
   "cell_type": "code",
   "execution_count": null,
   "id": "8f39b3df",
   "metadata": {},
   "outputs": [],
   "source": [
    "importlib.reload(classifiers)\n",
    "fraction_betweenness_simple_clf_conservative = classifiers.simple_classifier(fraction_betweenness_conservative, disgenet_labels_conservative_df, fraction_betweenness_test_indices_conservative, op_metric='fmeasure')\n",
    "fraction_betweenness_simple_clf_conservative.to_csv('../../models/apid_huri/disease/disease_fraction_betweenness_simple_conservative.csv', index=False)"
   ]
  },
  {
   "cell_type": "code",
   "execution_count": null,
   "id": "1ec7d392",
   "metadata": {},
   "outputs": [],
   "source": [
    "importlib.reload(classifiers)\n",
    "rwr_simple_clf_conservative = classifiers.simple_classifier(rwr_conservative, disgenet_labels_conservative_df, rwr_test_indices_conservative, op_metric='fmeasure')\n",
    "rwr_simple_clf_conservative.to_csv('../../models/apid_huri/disease/disease_rwr_simple_conservative.csv', index=False)"
   ]
  },
  {
   "cell_type": "markdown",
   "id": "2a639543",
   "metadata": {},
   "source": [
    "# 2. Threshold Classifier - Reduced Networks"
   ]
  },
  {
   "cell_type": "markdown",
   "id": "01d1a156",
   "metadata": {},
   "source": [
    "## 2.1. PPI 80% Reduction"
   ]
  },
  {
   "cell_type": "markdown",
   "id": "4a7e845d",
   "metadata": {},
   "source": [
    "### 2.1.1. Steinet Tree"
   ]
  },
  {
   "cell_type": "code",
   "execution_count": null,
   "id": "2f902934",
   "metadata": {},
   "outputs": [],
   "source": [
    "importlib.reload(classifiers)\n",
    "hyper80_simple_clf = classifiers.reduced_classifiers(2, None, None, ppi80_hyper_list, hypergeometric_80_test_index, None, label_list)\n",
    "hyper80_simple_clf.to_csv('../../models/apid_huri/disease/disease_hyper80_simple.csv', index=False)"
   ]
  },
  {
   "cell_type": "code",
   "execution_count": null,
   "id": "ca56cd17",
   "metadata": {
    "scrolled": true
   },
   "outputs": [],
   "source": [
    "importlib.reload(classifiers)\n",
    "rwr80_simple_clf = classifiers.reduced_classifiers(2, None, None, ppi80_rwr_list, rwr_80_test_index, None, label_list)\n",
    "rwr80_simple_clf.to_csv('../../models/apid_huri/disease/disease_rwr80_simple.csv', index=False)"
   ]
  },
  {
   "cell_type": "code",
   "execution_count": null,
   "id": "a63fb31e",
   "metadata": {
    "scrolled": true
   },
   "outputs": [],
   "source": [
    "importlib.reload(classifiers)\n",
    "closeness80_simple_clf = classifiers.reduced_classifiers(2, None, None, ppi80_closeness_list, closeness_80_test_index, None, label_list)\n",
    "closeness80_simple_clf.to_csv('../../models/apid_huri/disease/disease_closeness80_simple.csv', index=False)"
   ]
  },
  {
   "cell_type": "code",
   "execution_count": 88,
   "id": "d66c31fb",
   "metadata": {
    "collapsed": true
   },
   "outputs": [
    {
     "data": {
      "application/vnd.jupyter.widget-view+json": {
       "model_id": "8987a1a770ae4d6293e7d69d37739cf1",
       "version_major": 2,
       "version_minor": 0
      },
      "text/plain": [
       "  0%|          | 0/10 [00:00<?, ?it/s]"
      ]
     },
     "metadata": {},
     "output_type": "display_data"
    },
    {
     "data": {
      "application/vnd.jupyter.widget-view+json": {
       "model_id": "db39926eb3d3409ab53de07486a796e4",
       "version_major": 2,
       "version_minor": 0
      },
      "text/plain": [
       "  0%|          | 0/223 [00:00<?, ?it/s]"
      ]
     },
     "metadata": {},
     "output_type": "display_data"
    },
    {
     "data": {
      "application/vnd.jupyter.widget-view+json": {
       "model_id": "cadbd8be8d154c8eace7f2bd8aa1fe66",
       "version_major": 2,
       "version_minor": 0
      },
      "text/plain": [
       "  0%|          | 0/223 [00:00<?, ?it/s]"
      ]
     },
     "metadata": {},
     "output_type": "display_data"
    },
    {
     "data": {
      "application/vnd.jupyter.widget-view+json": {
       "model_id": "f622a22f71f24241b349635c87980c8f",
       "version_major": 2,
       "version_minor": 0
      },
      "text/plain": [
       "  0%|          | 0/223 [00:00<?, ?it/s]"
      ]
     },
     "metadata": {},
     "output_type": "display_data"
    },
    {
     "data": {
      "application/vnd.jupyter.widget-view+json": {
       "model_id": "701718779ee64861a29e389ae4440de7",
       "version_major": 2,
       "version_minor": 0
      },
      "text/plain": [
       "  0%|          | 0/223 [00:00<?, ?it/s]"
      ]
     },
     "metadata": {},
     "output_type": "display_data"
    },
    {
     "data": {
      "application/vnd.jupyter.widget-view+json": {
       "model_id": "992cb9a196784fa6b1624bc50a267172",
       "version_major": 2,
       "version_minor": 0
      },
      "text/plain": [
       "  0%|          | 0/223 [00:00<?, ?it/s]"
      ]
     },
     "metadata": {},
     "output_type": "display_data"
    },
    {
     "data": {
      "application/vnd.jupyter.widget-view+json": {
       "model_id": "1e85f2665de84524a7a1fd25e8ff39b7",
       "version_major": 2,
       "version_minor": 0
      },
      "text/plain": [
       "  0%|          | 0/223 [00:00<?, ?it/s]"
      ]
     },
     "metadata": {},
     "output_type": "display_data"
    },
    {
     "data": {
      "application/vnd.jupyter.widget-view+json": {
       "model_id": "78a3dac3892649a8a80cab4d8b6637a2",
       "version_major": 2,
       "version_minor": 0
      },
      "text/plain": [
       "  0%|          | 0/223 [00:00<?, ?it/s]"
      ]
     },
     "metadata": {},
     "output_type": "display_data"
    },
    {
     "data": {
      "application/vnd.jupyter.widget-view+json": {
       "model_id": "d56c8837679042eb9941ebc8000de20e",
       "version_major": 2,
       "version_minor": 0
      },
      "text/plain": [
       "  0%|          | 0/223 [00:00<?, ?it/s]"
      ]
     },
     "metadata": {},
     "output_type": "display_data"
    },
    {
     "data": {
      "application/vnd.jupyter.widget-view+json": {
       "model_id": "10d5ea3e70504b828d09b82f10046a80",
       "version_major": 2,
       "version_minor": 0
      },
      "text/plain": [
       "  0%|          | 0/223 [00:00<?, ?it/s]"
      ]
     },
     "metadata": {},
     "output_type": "display_data"
    },
    {
     "data": {
      "application/vnd.jupyter.widget-view+json": {
       "model_id": "2ae807b9c83749da97e1f7a16c0fa588",
       "version_major": 2,
       "version_minor": 0
      },
      "text/plain": [
       "  0%|          | 0/223 [00:00<?, ?it/s]"
      ]
     },
     "metadata": {},
     "output_type": "display_data"
    }
   ],
   "source": [
    "importlib.reload(classifiers)\n",
    "betweenness80_simple_clf = classifiers.reduced_classifiers(2, None, None, ppi80_betweenness_list, betweenness_80_test_index, None, label_list)\n",
    "betweenness80_simple_clf.to_csv('../../models/apid_huri/disease/disease_betweenness80_simple.csv', index=False)"
   ]
  },
  {
   "cell_type": "code",
   "execution_count": 91,
   "id": "9ecef92d",
   "metadata": {
    "collapsed": true
   },
   "outputs": [
    {
     "data": {
      "application/vnd.jupyter.widget-view+json": {
       "model_id": "6a95b47aab034f8db688d29aa47b8257",
       "version_major": 2,
       "version_minor": 0
      },
      "text/plain": [
       "  0%|          | 0/10 [00:00<?, ?it/s]"
      ]
     },
     "metadata": {},
     "output_type": "display_data"
    },
    {
     "data": {
      "application/vnd.jupyter.widget-view+json": {
       "model_id": "84503194f97c40d0a30e8a6c6b18275c",
       "version_major": 2,
       "version_minor": 0
      },
      "text/plain": [
       "  0%|          | 0/223 [00:00<?, ?it/s]"
      ]
     },
     "metadata": {},
     "output_type": "display_data"
    },
    {
     "data": {
      "application/vnd.jupyter.widget-view+json": {
       "model_id": "7cc874403e6f493189b214c356d0c980",
       "version_major": 2,
       "version_minor": 0
      },
      "text/plain": [
       "  0%|          | 0/223 [00:00<?, ?it/s]"
      ]
     },
     "metadata": {},
     "output_type": "display_data"
    },
    {
     "data": {
      "application/vnd.jupyter.widget-view+json": {
       "model_id": "a95fc6c21654449c9cb989d1a10c0479",
       "version_major": 2,
       "version_minor": 0
      },
      "text/plain": [
       "  0%|          | 0/223 [00:00<?, ?it/s]"
      ]
     },
     "metadata": {},
     "output_type": "display_data"
    },
    {
     "data": {
      "application/vnd.jupyter.widget-view+json": {
       "model_id": "cddb3a4fc9fc4c2baf75fc1355889cbd",
       "version_major": 2,
       "version_minor": 0
      },
      "text/plain": [
       "  0%|          | 0/223 [00:00<?, ?it/s]"
      ]
     },
     "metadata": {},
     "output_type": "display_data"
    },
    {
     "data": {
      "application/vnd.jupyter.widget-view+json": {
       "model_id": "a5a0fb78906a413787aaa95411f2a9ca",
       "version_major": 2,
       "version_minor": 0
      },
      "text/plain": [
       "  0%|          | 0/223 [00:00<?, ?it/s]"
      ]
     },
     "metadata": {},
     "output_type": "display_data"
    },
    {
     "data": {
      "application/vnd.jupyter.widget-view+json": {
       "model_id": "bfe316380d1340f486edfb1f17964d5d",
       "version_major": 2,
       "version_minor": 0
      },
      "text/plain": [
       "  0%|          | 0/223 [00:00<?, ?it/s]"
      ]
     },
     "metadata": {},
     "output_type": "display_data"
    },
    {
     "data": {
      "application/vnd.jupyter.widget-view+json": {
       "model_id": "8a279e500c484f78acb18b0dc62de12d",
       "version_major": 2,
       "version_minor": 0
      },
      "text/plain": [
       "  0%|          | 0/223 [00:00<?, ?it/s]"
      ]
     },
     "metadata": {},
     "output_type": "display_data"
    },
    {
     "data": {
      "application/vnd.jupyter.widget-view+json": {
       "model_id": "f9353ebf54c64d2a88373233586379e5",
       "version_major": 2,
       "version_minor": 0
      },
      "text/plain": [
       "  0%|          | 0/223 [00:00<?, ?it/s]"
      ]
     },
     "metadata": {},
     "output_type": "display_data"
    },
    {
     "data": {
      "application/vnd.jupyter.widget-view+json": {
       "model_id": "42dcc99cf073450caf7792b7fdecf828",
       "version_major": 2,
       "version_minor": 0
      },
      "text/plain": [
       "  0%|          | 0/223 [00:00<?, ?it/s]"
      ]
     },
     "metadata": {},
     "output_type": "display_data"
    },
    {
     "data": {
      "application/vnd.jupyter.widget-view+json": {
       "model_id": "f421c31aca47448cb60368c9cfd061eb",
       "version_major": 2,
       "version_minor": 0
      },
      "text/plain": [
       "  0%|          | 0/223 [00:00<?, ?it/s]"
      ]
     },
     "metadata": {},
     "output_type": "display_data"
    }
   ],
   "source": [
    "importlib.reload(classifiers)\n",
    "fraction_betweenness80_simple_clf = classifiers.reduced_classifiers(2, None, None, ppi80_fraction_betweenness_list, fraction_betweenness_80_test_index, None, label_list)\n",
    "fraction_betweenness80_simple_clf.to_csv('../../models/apid_huri/disease/disease_fraction_betweenness80_simple.csv', index=False)"
   ]
  },
  {
   "cell_type": "markdown",
   "id": "4819e01d",
   "metadata": {},
   "source": [
    "### 2.1.2. Conservative Module"
   ]
  },
  {
   "cell_type": "code",
   "execution_count": null,
   "id": "2ef775dc",
   "metadata": {},
   "outputs": [],
   "source": [
    "importlib.reload(classifiers)\n",
    "hyper80_simple_clf_conservative = classifiers.reduced_classifiers(2, None, None, ppi80_hyper_list_conservative, hypergeometric_80_test_index_conservative, None, label_list_conservative)\n",
    "hyper80_simple_clf_conservative.to_csv('../../models/apid_huri/disease/disease_hyper80_simple_conservative.csv', index=False)"
   ]
  },
  {
   "cell_type": "code",
   "execution_count": null,
   "id": "79076e6d",
   "metadata": {},
   "outputs": [],
   "source": [
    "importlib.reload(classifiers)\n",
    "rwr80_simple_clf_conservative = classifiers.reduced_classifiers(2, None, None, ppi80_rwr_list_conservative, rwr_80_test_index_conservative, None, label_list_conservative)\n",
    "rwr80_simple_clf_conservative.to_csv('../../models/apid_huri/disease/disease_rwr80_simple_conservative.csv', index=False)"
   ]
  },
  {
   "cell_type": "code",
   "execution_count": null,
   "id": "8d6c4e47",
   "metadata": {},
   "outputs": [],
   "source": [
    "importlib.reload(classifiers)\n",
    "closeness80_simple_clf_conservative = classifiers.reduced_classifiers(2, None, None, ppi80_closeness_list_conservative, closeness_80_test_index_conservative, None, label_list_conservative)\n",
    "closeness80_simple_clf_conservative.to_csv('../../models/apid_huri/disease/disease_closeness80_simple_conservative.csv', index=False)"
   ]
  },
  {
   "cell_type": "code",
   "execution_count": null,
   "id": "711cce07",
   "metadata": {},
   "outputs": [],
   "source": [
    "importlib.reload(classifiers)\n",
    "betweenness80_simple_clf_conservative = classifiers.reduced_classifiers(2, None, None, ppi80_betweenness_list_conservative, betweenness_80_test_index_conservative, None, label_list_conservative)\n",
    "betweenness80_simple_clf_conservative.to_csv('../../models/apid_huri/disease/disease_betweenness80_simple_conservative.csv', index=False)"
   ]
  },
  {
   "cell_type": "code",
   "execution_count": null,
   "id": "affffc95",
   "metadata": {},
   "outputs": [],
   "source": [
    "importlib.reload(classifiers)\n",
    "fraction_betweenness80_simple_clf_conservative = classifiers.reduced_classifiers(2, None, None, ppi80_fraction_betweenness_list_conservative, fraction_betweenness_80_test_index_conservative, None, label_list_conservative)\n",
    "fraction_betweenness80_simple_clf_conservative.to_csv('../../models/apid_huri/disease/disease_fraction_betweenness80_simple_conservative.csv', index=False)"
   ]
  },
  {
   "cell_type": "markdown",
   "id": "583526b0",
   "metadata": {},
   "source": [
    "## 2.2. Protein 80% Reduction"
   ]
  },
  {
   "cell_type": "markdown",
   "id": "dccecc14",
   "metadata": {},
   "source": [
    "### 2.2.1. Steiner Tree"
   ]
  },
  {
   "cell_type": "code",
   "execution_count": 94,
   "id": "d64bf79c",
   "metadata": {},
   "outputs": [
    {
     "data": {
      "application/vnd.jupyter.widget-view+json": {
       "model_id": "5c8217f8cdbb4b2f87f05d19bb7d7375",
       "version_major": 2,
       "version_minor": 0
      },
      "text/plain": [
       "  0%|          | 0/10 [00:00<?, ?it/s]"
      ]
     },
     "metadata": {},
     "output_type": "display_data"
    },
    {
     "data": {
      "application/vnd.jupyter.widget-view+json": {
       "model_id": "d4f24fe79f7e45e19232db854677e897",
       "version_major": 2,
       "version_minor": 0
      },
      "text/plain": [
       "  0%|          | 0/223 [00:00<?, ?it/s]"
      ]
     },
     "metadata": {},
     "output_type": "display_data"
    },
    {
     "data": {
      "application/vnd.jupyter.widget-view+json": {
       "model_id": "cb95ea91ae764acfa9f75e954e067d33",
       "version_major": 2,
       "version_minor": 0
      },
      "text/plain": [
       "  0%|          | 0/223 [00:00<?, ?it/s]"
      ]
     },
     "metadata": {},
     "output_type": "display_data"
    },
    {
     "data": {
      "application/vnd.jupyter.widget-view+json": {
       "model_id": "b91e238d8f8d45fb9f2c3e236e99feea",
       "version_major": 2,
       "version_minor": 0
      },
      "text/plain": [
       "  0%|          | 0/223 [00:00<?, ?it/s]"
      ]
     },
     "metadata": {},
     "output_type": "display_data"
    },
    {
     "data": {
      "application/vnd.jupyter.widget-view+json": {
       "model_id": "b96d4dab1a2e4d5ba1751c1a3c760cd1",
       "version_major": 2,
       "version_minor": 0
      },
      "text/plain": [
       "  0%|          | 0/223 [00:00<?, ?it/s]"
      ]
     },
     "metadata": {},
     "output_type": "display_data"
    },
    {
     "data": {
      "application/vnd.jupyter.widget-view+json": {
       "model_id": "c4cbb5db82084133aba10f622df19da6",
       "version_major": 2,
       "version_minor": 0
      },
      "text/plain": [
       "  0%|          | 0/223 [00:00<?, ?it/s]"
      ]
     },
     "metadata": {},
     "output_type": "display_data"
    },
    {
     "data": {
      "application/vnd.jupyter.widget-view+json": {
       "model_id": "398b2a9cfc53496cbede9c1ec4a6ac0c",
       "version_major": 2,
       "version_minor": 0
      },
      "text/plain": [
       "  0%|          | 0/223 [00:00<?, ?it/s]"
      ]
     },
     "metadata": {},
     "output_type": "display_data"
    },
    {
     "data": {
      "application/vnd.jupyter.widget-view+json": {
       "model_id": "9cb3d15108fd48948385fd203ae451c6",
       "version_major": 2,
       "version_minor": 0
      },
      "text/plain": [
       "  0%|          | 0/223 [00:00<?, ?it/s]"
      ]
     },
     "metadata": {},
     "output_type": "display_data"
    },
    {
     "data": {
      "application/vnd.jupyter.widget-view+json": {
       "model_id": "f39349638b9844b0b2867370e2f5317d",
       "version_major": 2,
       "version_minor": 0
      },
      "text/plain": [
       "  0%|          | 0/223 [00:00<?, ?it/s]"
      ]
     },
     "metadata": {},
     "output_type": "display_data"
    },
    {
     "data": {
      "application/vnd.jupyter.widget-view+json": {
       "model_id": "4a5d0660574a4560bc46ebedf5804a81",
       "version_major": 2,
       "version_minor": 0
      },
      "text/plain": [
       "  0%|          | 0/223 [00:00<?, ?it/s]"
      ]
     },
     "metadata": {},
     "output_type": "display_data"
    },
    {
     "data": {
      "application/vnd.jupyter.widget-view+json": {
       "model_id": "a823bad6e4e649fea0c7f3c6203d8d2a",
       "version_major": 2,
       "version_minor": 0
      },
      "text/plain": [
       "  0%|          | 0/223 [00:00<?, ?it/s]"
      ]
     },
     "metadata": {},
     "output_type": "display_data"
    }
   ],
   "source": [
    "importlib.reload(classifiers)\n",
    "hyper_protein80_simple_clf = classifiers.reduced_classifiers(2, None, None, protein80_hyper_list, hypergeometric_protein80_test_index, None, label_list_protein80)\n",
    "hyper_protein80_simple_clf.to_csv('../../models/apid_huri/disease/disease_hyper_protein80_simple.csv', index=False)"
   ]
  },
  {
   "cell_type": "code",
   "execution_count": 95,
   "id": "2b546b9d",
   "metadata": {
    "scrolled": true
   },
   "outputs": [
    {
     "data": {
      "application/vnd.jupyter.widget-view+json": {
       "model_id": "4ec2dc0274b94dbfa0558b0159b78b71",
       "version_major": 2,
       "version_minor": 0
      },
      "text/plain": [
       "  0%|          | 0/10 [00:00<?, ?it/s]"
      ]
     },
     "metadata": {},
     "output_type": "display_data"
    },
    {
     "data": {
      "application/vnd.jupyter.widget-view+json": {
       "model_id": "1227f28070f84916b9b7b7793e2ba5d9",
       "version_major": 2,
       "version_minor": 0
      },
      "text/plain": [
       "  0%|          | 0/223 [00:00<?, ?it/s]"
      ]
     },
     "metadata": {},
     "output_type": "display_data"
    },
    {
     "data": {
      "application/vnd.jupyter.widget-view+json": {
       "model_id": "d3572006dd924f75b8d86180c58b9a00",
       "version_major": 2,
       "version_minor": 0
      },
      "text/plain": [
       "  0%|          | 0/223 [00:00<?, ?it/s]"
      ]
     },
     "metadata": {},
     "output_type": "display_data"
    },
    {
     "data": {
      "application/vnd.jupyter.widget-view+json": {
       "model_id": "d105e8451b3047d4aaace721da655e47",
       "version_major": 2,
       "version_minor": 0
      },
      "text/plain": [
       "  0%|          | 0/223 [00:00<?, ?it/s]"
      ]
     },
     "metadata": {},
     "output_type": "display_data"
    },
    {
     "data": {
      "application/vnd.jupyter.widget-view+json": {
       "model_id": "7f09afb04ffc4ddfb0786bf9f0cb248f",
       "version_major": 2,
       "version_minor": 0
      },
      "text/plain": [
       "  0%|          | 0/223 [00:00<?, ?it/s]"
      ]
     },
     "metadata": {},
     "output_type": "display_data"
    },
    {
     "data": {
      "application/vnd.jupyter.widget-view+json": {
       "model_id": "4f3365bd112245db8fcfae072bc0a861",
       "version_major": 2,
       "version_minor": 0
      },
      "text/plain": [
       "  0%|          | 0/223 [00:00<?, ?it/s]"
      ]
     },
     "metadata": {},
     "output_type": "display_data"
    },
    {
     "data": {
      "application/vnd.jupyter.widget-view+json": {
       "model_id": "246a3905977045b6b641ed803cf923ce",
       "version_major": 2,
       "version_minor": 0
      },
      "text/plain": [
       "  0%|          | 0/223 [00:00<?, ?it/s]"
      ]
     },
     "metadata": {},
     "output_type": "display_data"
    },
    {
     "data": {
      "application/vnd.jupyter.widget-view+json": {
       "model_id": "806c2645468f4d5188d6a5d3790cf670",
       "version_major": 2,
       "version_minor": 0
      },
      "text/plain": [
       "  0%|          | 0/223 [00:00<?, ?it/s]"
      ]
     },
     "metadata": {},
     "output_type": "display_data"
    },
    {
     "data": {
      "application/vnd.jupyter.widget-view+json": {
       "model_id": "80c62a0ee42748ce91b97eabea757adb",
       "version_major": 2,
       "version_minor": 0
      },
      "text/plain": [
       "  0%|          | 0/223 [00:00<?, ?it/s]"
      ]
     },
     "metadata": {},
     "output_type": "display_data"
    },
    {
     "data": {
      "application/vnd.jupyter.widget-view+json": {
       "model_id": "ffe314d816ec4b4cb522ee2990acabf9",
       "version_major": 2,
       "version_minor": 0
      },
      "text/plain": [
       "  0%|          | 0/223 [00:00<?, ?it/s]"
      ]
     },
     "metadata": {},
     "output_type": "display_data"
    },
    {
     "data": {
      "application/vnd.jupyter.widget-view+json": {
       "model_id": "5080e9e061544d15900a15f076ca7b7c",
       "version_major": 2,
       "version_minor": 0
      },
      "text/plain": [
       "  0%|          | 0/223 [00:00<?, ?it/s]"
      ]
     },
     "metadata": {},
     "output_type": "display_data"
    }
   ],
   "source": [
    "importlib.reload(classifiers)\n",
    "rwr_protein80_simple_clf = classifiers.reduced_classifiers(2, None, None, protein80_rwr_list, rwr_protein80_test_index, None, label_list_protein80)\n",
    "rwr_protein80_simple_clf.to_csv('../../models/apid_huri/disease/disease_rwr_protein80_simple.csv', index=False)"
   ]
  },
  {
   "cell_type": "code",
   "execution_count": 96,
   "id": "260298ef",
   "metadata": {
    "scrolled": true
   },
   "outputs": [
    {
     "data": {
      "application/vnd.jupyter.widget-view+json": {
       "model_id": "276a65a16fb34f4ea010697f28ad86d8",
       "version_major": 2,
       "version_minor": 0
      },
      "text/plain": [
       "  0%|          | 0/10 [00:00<?, ?it/s]"
      ]
     },
     "metadata": {},
     "output_type": "display_data"
    },
    {
     "data": {
      "application/vnd.jupyter.widget-view+json": {
       "model_id": "10eacc928eda44edb7c9deeb7f23e3b2",
       "version_major": 2,
       "version_minor": 0
      },
      "text/plain": [
       "  0%|          | 0/223 [00:00<?, ?it/s]"
      ]
     },
     "metadata": {},
     "output_type": "display_data"
    },
    {
     "data": {
      "application/vnd.jupyter.widget-view+json": {
       "model_id": "47b801db89954c6ea93972492698bb4a",
       "version_major": 2,
       "version_minor": 0
      },
      "text/plain": [
       "  0%|          | 0/223 [00:00<?, ?it/s]"
      ]
     },
     "metadata": {},
     "output_type": "display_data"
    },
    {
     "data": {
      "application/vnd.jupyter.widget-view+json": {
       "model_id": "143175769aa94f32814a60a60f35f0cd",
       "version_major": 2,
       "version_minor": 0
      },
      "text/plain": [
       "  0%|          | 0/223 [00:00<?, ?it/s]"
      ]
     },
     "metadata": {},
     "output_type": "display_data"
    },
    {
     "data": {
      "application/vnd.jupyter.widget-view+json": {
       "model_id": "fc0c80764dcb44d29a5343e8df1bdbe7",
       "version_major": 2,
       "version_minor": 0
      },
      "text/plain": [
       "  0%|          | 0/223 [00:00<?, ?it/s]"
      ]
     },
     "metadata": {},
     "output_type": "display_data"
    },
    {
     "data": {
      "application/vnd.jupyter.widget-view+json": {
       "model_id": "1b9a50f7ffb14d9289d56ebc79bbd0cd",
       "version_major": 2,
       "version_minor": 0
      },
      "text/plain": [
       "  0%|          | 0/223 [00:00<?, ?it/s]"
      ]
     },
     "metadata": {},
     "output_type": "display_data"
    },
    {
     "data": {
      "application/vnd.jupyter.widget-view+json": {
       "model_id": "f920cef8ca3d4a8e800993b2f64a43ea",
       "version_major": 2,
       "version_minor": 0
      },
      "text/plain": [
       "  0%|          | 0/223 [00:00<?, ?it/s]"
      ]
     },
     "metadata": {},
     "output_type": "display_data"
    },
    {
     "data": {
      "application/vnd.jupyter.widget-view+json": {
       "model_id": "3c9dd85fb5254a0aa57cc7450f0742d3",
       "version_major": 2,
       "version_minor": 0
      },
      "text/plain": [
       "  0%|          | 0/223 [00:00<?, ?it/s]"
      ]
     },
     "metadata": {},
     "output_type": "display_data"
    },
    {
     "data": {
      "application/vnd.jupyter.widget-view+json": {
       "model_id": "787e60701fbe4a6986c1d09935214386",
       "version_major": 2,
       "version_minor": 0
      },
      "text/plain": [
       "  0%|          | 0/223 [00:00<?, ?it/s]"
      ]
     },
     "metadata": {},
     "output_type": "display_data"
    },
    {
     "data": {
      "application/vnd.jupyter.widget-view+json": {
       "model_id": "5aefbd25ab3f45fe911750a73aef2b01",
       "version_major": 2,
       "version_minor": 0
      },
      "text/plain": [
       "  0%|          | 0/223 [00:00<?, ?it/s]"
      ]
     },
     "metadata": {},
     "output_type": "display_data"
    },
    {
     "data": {
      "application/vnd.jupyter.widget-view+json": {
       "model_id": "6eea2b9d826f43d6b11d3af2696866fc",
       "version_major": 2,
       "version_minor": 0
      },
      "text/plain": [
       "  0%|          | 0/223 [00:00<?, ?it/s]"
      ]
     },
     "metadata": {},
     "output_type": "display_data"
    }
   ],
   "source": [
    "importlib.reload(classifiers)\n",
    "closeness_protein80_simple_clf = classifiers.reduced_classifiers(2, None, None, protein80_closeness_list, closeness_protein80_test_index, None, label_list_protein80)\n",
    "closeness_protein80_simple_clf.to_csv('../../models/apid_huri/disease/disease_closeness_protein80_simple.csv', index=False)"
   ]
  },
  {
   "cell_type": "code",
   "execution_count": 97,
   "id": "16dbab7c",
   "metadata": {},
   "outputs": [
    {
     "data": {
      "application/vnd.jupyter.widget-view+json": {
       "model_id": "76245661d8694b6a937e9474407d55ee",
       "version_major": 2,
       "version_minor": 0
      },
      "text/plain": [
       "  0%|          | 0/10 [00:00<?, ?it/s]"
      ]
     },
     "metadata": {},
     "output_type": "display_data"
    },
    {
     "data": {
      "application/vnd.jupyter.widget-view+json": {
       "model_id": "3a02ae6e7bf34c81b41d2e55caa2dd41",
       "version_major": 2,
       "version_minor": 0
      },
      "text/plain": [
       "  0%|          | 0/223 [00:00<?, ?it/s]"
      ]
     },
     "metadata": {},
     "output_type": "display_data"
    },
    {
     "data": {
      "application/vnd.jupyter.widget-view+json": {
       "model_id": "f495eb28a71947c682cc8a87edde5277",
       "version_major": 2,
       "version_minor": 0
      },
      "text/plain": [
       "  0%|          | 0/223 [00:00<?, ?it/s]"
      ]
     },
     "metadata": {},
     "output_type": "display_data"
    },
    {
     "data": {
      "application/vnd.jupyter.widget-view+json": {
       "model_id": "812ae707eb524bd6b0ce6e20e4a21c99",
       "version_major": 2,
       "version_minor": 0
      },
      "text/plain": [
       "  0%|          | 0/223 [00:00<?, ?it/s]"
      ]
     },
     "metadata": {},
     "output_type": "display_data"
    },
    {
     "data": {
      "application/vnd.jupyter.widget-view+json": {
       "model_id": "98fd39a5f65c4f0d8ea8565f32764905",
       "version_major": 2,
       "version_minor": 0
      },
      "text/plain": [
       "  0%|          | 0/223 [00:00<?, ?it/s]"
      ]
     },
     "metadata": {},
     "output_type": "display_data"
    },
    {
     "data": {
      "application/vnd.jupyter.widget-view+json": {
       "model_id": "9d0c7197f5804c5681d20c37b8794b61",
       "version_major": 2,
       "version_minor": 0
      },
      "text/plain": [
       "  0%|          | 0/223 [00:00<?, ?it/s]"
      ]
     },
     "metadata": {},
     "output_type": "display_data"
    },
    {
     "data": {
      "application/vnd.jupyter.widget-view+json": {
       "model_id": "fcde651056c440ef8159426c44531244",
       "version_major": 2,
       "version_minor": 0
      },
      "text/plain": [
       "  0%|          | 0/223 [00:00<?, ?it/s]"
      ]
     },
     "metadata": {},
     "output_type": "display_data"
    },
    {
     "data": {
      "application/vnd.jupyter.widget-view+json": {
       "model_id": "19e5943a48c84e40a692b41b489d511e",
       "version_major": 2,
       "version_minor": 0
      },
      "text/plain": [
       "  0%|          | 0/223 [00:00<?, ?it/s]"
      ]
     },
     "metadata": {},
     "output_type": "display_data"
    },
    {
     "data": {
      "application/vnd.jupyter.widget-view+json": {
       "model_id": "151d02b5ec4546dd97b70f7fdb92d4e3",
       "version_major": 2,
       "version_minor": 0
      },
      "text/plain": [
       "  0%|          | 0/223 [00:00<?, ?it/s]"
      ]
     },
     "metadata": {},
     "output_type": "display_data"
    },
    {
     "data": {
      "application/vnd.jupyter.widget-view+json": {
       "model_id": "77eadfd0ea5d4cadb76b6f5cfa226446",
       "version_major": 2,
       "version_minor": 0
      },
      "text/plain": [
       "  0%|          | 0/223 [00:00<?, ?it/s]"
      ]
     },
     "metadata": {},
     "output_type": "display_data"
    },
    {
     "data": {
      "application/vnd.jupyter.widget-view+json": {
       "model_id": "60724137cd014c61805fb20be5be8973",
       "version_major": 2,
       "version_minor": 0
      },
      "text/plain": [
       "  0%|          | 0/223 [00:00<?, ?it/s]"
      ]
     },
     "metadata": {},
     "output_type": "display_data"
    }
   ],
   "source": [
    "importlib.reload(classifiers)\n",
    "betweenness_protein80_simple_clf = classifiers.reduced_classifiers(2, None, None, protein80_betweenness_list, betweenness_protein80_test_index, None, label_list_protein80)\n",
    "betweenness_protein80_simple_clf.to_csv('../../models/apid_huri/disease/disease_betweenness_protein80_simple.csv', index=False)"
   ]
  },
  {
   "cell_type": "code",
   "execution_count": 98,
   "id": "db7ceb23",
   "metadata": {},
   "outputs": [
    {
     "data": {
      "application/vnd.jupyter.widget-view+json": {
       "model_id": "9fad85c079914a3698da3f14d22d4138",
       "version_major": 2,
       "version_minor": 0
      },
      "text/plain": [
       "  0%|          | 0/10 [00:00<?, ?it/s]"
      ]
     },
     "metadata": {},
     "output_type": "display_data"
    },
    {
     "data": {
      "application/vnd.jupyter.widget-view+json": {
       "model_id": "cbad8de4673b47b89e22184437366819",
       "version_major": 2,
       "version_minor": 0
      },
      "text/plain": [
       "  0%|          | 0/223 [00:00<?, ?it/s]"
      ]
     },
     "metadata": {},
     "output_type": "display_data"
    },
    {
     "data": {
      "application/vnd.jupyter.widget-view+json": {
       "model_id": "080aedb628a44927b349e281a01bf4f9",
       "version_major": 2,
       "version_minor": 0
      },
      "text/plain": [
       "  0%|          | 0/223 [00:00<?, ?it/s]"
      ]
     },
     "metadata": {},
     "output_type": "display_data"
    },
    {
     "data": {
      "application/vnd.jupyter.widget-view+json": {
       "model_id": "8548815ec70d4f778917ce6d817afe9f",
       "version_major": 2,
       "version_minor": 0
      },
      "text/plain": [
       "  0%|          | 0/223 [00:00<?, ?it/s]"
      ]
     },
     "metadata": {},
     "output_type": "display_data"
    },
    {
     "data": {
      "application/vnd.jupyter.widget-view+json": {
       "model_id": "b52e3f3dff8a4925ad9338553e5e0673",
       "version_major": 2,
       "version_minor": 0
      },
      "text/plain": [
       "  0%|          | 0/223 [00:00<?, ?it/s]"
      ]
     },
     "metadata": {},
     "output_type": "display_data"
    },
    {
     "data": {
      "application/vnd.jupyter.widget-view+json": {
       "model_id": "5b01b9fd62104314a613b72cd9ddc00a",
       "version_major": 2,
       "version_minor": 0
      },
      "text/plain": [
       "  0%|          | 0/223 [00:00<?, ?it/s]"
      ]
     },
     "metadata": {},
     "output_type": "display_data"
    },
    {
     "data": {
      "application/vnd.jupyter.widget-view+json": {
       "model_id": "39e7ce5613e246ce9883d1034cfeb149",
       "version_major": 2,
       "version_minor": 0
      },
      "text/plain": [
       "  0%|          | 0/223 [00:00<?, ?it/s]"
      ]
     },
     "metadata": {},
     "output_type": "display_data"
    },
    {
     "data": {
      "application/vnd.jupyter.widget-view+json": {
       "model_id": "bf917777526846bc840b5caa9e0382c5",
       "version_major": 2,
       "version_minor": 0
      },
      "text/plain": [
       "  0%|          | 0/223 [00:00<?, ?it/s]"
      ]
     },
     "metadata": {},
     "output_type": "display_data"
    },
    {
     "data": {
      "application/vnd.jupyter.widget-view+json": {
       "model_id": "8276d4df924e4fdca35ee4e14d2a1d84",
       "version_major": 2,
       "version_minor": 0
      },
      "text/plain": [
       "  0%|          | 0/223 [00:00<?, ?it/s]"
      ]
     },
     "metadata": {},
     "output_type": "display_data"
    },
    {
     "data": {
      "application/vnd.jupyter.widget-view+json": {
       "model_id": "d4744abce8c446e49f7841697d386fe5",
       "version_major": 2,
       "version_minor": 0
      },
      "text/plain": [
       "  0%|          | 0/223 [00:00<?, ?it/s]"
      ]
     },
     "metadata": {},
     "output_type": "display_data"
    },
    {
     "data": {
      "application/vnd.jupyter.widget-view+json": {
       "model_id": "1fa25423bc1747d08eb4ee82c1b83b58",
       "version_major": 2,
       "version_minor": 0
      },
      "text/plain": [
       "  0%|          | 0/223 [00:00<?, ?it/s]"
      ]
     },
     "metadata": {},
     "output_type": "display_data"
    }
   ],
   "source": [
    "importlib.reload(classifiers)\n",
    "fraction_betweenness_protein80_simple_clf = classifiers.reduced_classifiers(2, None, None, protein80_fraction_betweenness_list, fraction_betweenness_protein80_test_index, None, label_list_protein80)\n",
    "fraction_betweenness_protein80_simple_clf.to_csv('../../models/apid_huri/disease/disease_fraction_betweenness_protein80_simple.csv', index=False)"
   ]
  },
  {
   "cell_type": "markdown",
   "id": "57d08061",
   "metadata": {},
   "source": [
    "### 2.2.2. Conservative Module"
   ]
  },
  {
   "cell_type": "code",
   "execution_count": 99,
   "id": "9941ec71",
   "metadata": {},
   "outputs": [
    {
     "ename": "NameError",
     "evalue": "name 'protein80_hyper_list_conservative' is not defined",
     "output_type": "error",
     "traceback": [
      "\u001b[1;31m---------------------------------------------------------------------------\u001b[0m",
      "\u001b[1;31mNameError\u001b[0m                                 Traceback (most recent call last)",
      "\u001b[1;32m<ipython-input-99-54179120ef6e>\u001b[0m in \u001b[0;36m<module>\u001b[1;34m\u001b[0m\n\u001b[0;32m      1\u001b[0m \u001b[0mimportlib\u001b[0m\u001b[1;33m.\u001b[0m\u001b[0mreload\u001b[0m\u001b[1;33m(\u001b[0m\u001b[0mclassifiers\u001b[0m\u001b[1;33m)\u001b[0m\u001b[1;33m\u001b[0m\u001b[1;33m\u001b[0m\u001b[0m\n\u001b[1;32m----> 2\u001b[1;33m \u001b[0mhyper_protein80_simple_clf_conservative\u001b[0m \u001b[1;33m=\u001b[0m \u001b[0mclassifiers\u001b[0m\u001b[1;33m.\u001b[0m\u001b[0mreduced_classifiers\u001b[0m\u001b[1;33m(\u001b[0m\u001b[1;36m2\u001b[0m\u001b[1;33m,\u001b[0m \u001b[1;32mNone\u001b[0m\u001b[1;33m,\u001b[0m \u001b[1;32mNone\u001b[0m\u001b[1;33m,\u001b[0m \u001b[0mprotein80_hyper_list_conservative\u001b[0m\u001b[1;33m,\u001b[0m \u001b[0mhypergeometric_protein80_test_index_conservative\u001b[0m\u001b[1;33m,\u001b[0m \u001b[1;32mNone\u001b[0m\u001b[1;33m,\u001b[0m \u001b[0mlabel_list_protein80_conservative\u001b[0m\u001b[1;33m)\u001b[0m\u001b[1;33m\u001b[0m\u001b[1;33m\u001b[0m\u001b[0m\n\u001b[0m\u001b[0;32m      3\u001b[0m \u001b[0mhyper_protein80_simple_clf_conservative\u001b[0m\u001b[1;33m.\u001b[0m\u001b[0mto_csv\u001b[0m\u001b[1;33m(\u001b[0m\u001b[1;34m'../../models/apid_huri/disease/disease_hyper_protein80_simple_conservative.csv'\u001b[0m\u001b[1;33m,\u001b[0m \u001b[0mindex\u001b[0m\u001b[1;33m=\u001b[0m\u001b[1;32mFalse\u001b[0m\u001b[1;33m)\u001b[0m\u001b[1;33m\u001b[0m\u001b[1;33m\u001b[0m\u001b[0m\n",
      "\u001b[1;31mNameError\u001b[0m: name 'protein80_hyper_list_conservative' is not defined"
     ]
    }
   ],
   "source": [
    "importlib.reload(classifiers)\n",
    "hyper_protein80_simple_clf_conservative = classifiers.reduced_classifiers(2, None, None, protein80_hyper_list_conservative, hypergeometric_protein80_test_index_conservative, None, label_list_protein80_conservative)\n",
    "hyper_protein80_simple_clf_conservative.to_csv('../../models/apid_huri/disease/disease_hyper_protein80_simple_conservative.csv', index=False)"
   ]
  },
  {
   "cell_type": "code",
   "execution_count": null,
   "id": "201f902b",
   "metadata": {},
   "outputs": [],
   "source": [
    "importlib.reload(classifiers)\n",
    "rwr_protein80_simple_clf_conservative = classifiers.reduced_classifiers(2, None, None, protein80_rwr_list_conservative, rwr_protein80_test_index_conservative, None, label_list_protein80_conservative)\n",
    "rwr_protein80_simple_clf_conservative.to_csv('../../models/apid_huri/disease/disease_rwr_protein80_simple_conservative.csv', index=False)"
   ]
  },
  {
   "cell_type": "code",
   "execution_count": null,
   "id": "cdae5494",
   "metadata": {},
   "outputs": [],
   "source": [
    "importlib.reload(classifiers)\n",
    "closeness_protein80_simple_clf_conservative = classifiers.reduced_classifiers(2, None, None, protein80_closeness_list_conservative, closeness_protein80_test_index_conservative, None, label_list_protein80_conservative)\n",
    "closeness_protein80_simple_clf_conservative.to_csv('../../models/apid_huri/disease/disease_closeness_protein80_simple_conservative.csv', index=False)"
   ]
  },
  {
   "cell_type": "code",
   "execution_count": null,
   "id": "83cfd9e5",
   "metadata": {},
   "outputs": [],
   "source": [
    "importlib.reload(classifiers)\n",
    "betweenness_protein80_simple_clf_conservative = classifiers.reduced_classifiers(2, None, None, protein80_betweenness_list_conservative, betweenness_protein80_test_index_conservative, None, label_list_protein80_conservative)\n",
    "betweenness_protein80_simple_clf_conservative.to_csv('../../models/apid_huri/disease/disease_betweenness_protein80_simple_conservative.csv', index=False)"
   ]
  },
  {
   "cell_type": "code",
   "execution_count": null,
   "id": "8f43b098",
   "metadata": {},
   "outputs": [],
   "source": [
    "importlib.reload(classifiers)\n",
    "fraction_betweenness_protein80_simple_clf_conservative = classifiers.reduced_classifiers(2, None, None, protein80_fraction_betweenness_list_conservative, fraction_betweenness_protein80_test_index_conservative, None, label_list_protein80_conservative)\n",
    "fraction_betweenness_protein80_simple_clf_conservative.to_csv('../../models/apid_huri/disease/disease_fraction_betweenness_protein80_simple_conservative.csv', index=False)"
   ]
  }
 ],
 "metadata": {
  "kernelspec": {
   "display_name": "Python 3",
   "language": "python",
   "name": "python3"
  },
  "language_info": {
   "codemirror_mode": {
    "name": "ipython",
    "version": 3
   },
   "file_extension": ".py",
   "mimetype": "text/x-python",
   "name": "python",
   "nbconvert_exporter": "python",
   "pygments_lexer": "ipython3",
   "version": "3.8.8"
  }
 },
 "nbformat": 4,
 "nbformat_minor": 5
}
